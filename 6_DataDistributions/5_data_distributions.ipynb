{
 "cells": [
  {
   "cell_type": "code",
   "execution_count": 1,
   "metadata": {},
   "outputs": [],
   "source": [
    "import pandas as pd\n",
    "import numpy as np\n",
    "import matplotlib.pyplot as plt"
   ]
  },
  {
   "cell_type": "code",
   "execution_count": 2,
   "metadata": {},
   "outputs": [],
   "source": [
    "distrib_df_obj = pd.DataFrame({'Stud #':['s1','s1','s2','s2','s2', 's3', 's3'],\n",
    "                            'Item':['Chocolate', 'Biscuit', 'Ice-Cream', 'Biscuit', 'Chocolate', 'Chocolate', 'Ice-Cream'],\n",
    "                            'Count':[2,2,2,1,2,3,1]})"
   ]
  },
  {
   "cell_type": "code",
   "execution_count": 3,
   "metadata": {},
   "outputs": [
    {
     "data": {
      "text/html": [
       "<div>\n",
       "<style scoped>\n",
       "    .dataframe tbody tr th:only-of-type {\n",
       "        vertical-align: middle;\n",
       "    }\n",
       "\n",
       "    .dataframe tbody tr th {\n",
       "        vertical-align: top;\n",
       "    }\n",
       "\n",
       "    .dataframe thead th {\n",
       "        text-align: right;\n",
       "    }\n",
       "</style>\n",
       "<table border=\"1\" class=\"dataframe\">\n",
       "  <thead>\n",
       "    <tr style=\"text-align: right;\">\n",
       "      <th></th>\n",
       "      <th>Stud #</th>\n",
       "      <th>Item</th>\n",
       "      <th>Count</th>\n",
       "    </tr>\n",
       "  </thead>\n",
       "  <tbody>\n",
       "    <tr>\n",
       "      <td>0</td>\n",
       "      <td>s1</td>\n",
       "      <td>Chocolate</td>\n",
       "      <td>2</td>\n",
       "    </tr>\n",
       "    <tr>\n",
       "      <td>1</td>\n",
       "      <td>s1</td>\n",
       "      <td>Biscuit</td>\n",
       "      <td>2</td>\n",
       "    </tr>\n",
       "    <tr>\n",
       "      <td>2</td>\n",
       "      <td>s2</td>\n",
       "      <td>Ice-Cream</td>\n",
       "      <td>2</td>\n",
       "    </tr>\n",
       "    <tr>\n",
       "      <td>3</td>\n",
       "      <td>s2</td>\n",
       "      <td>Biscuit</td>\n",
       "      <td>1</td>\n",
       "    </tr>\n",
       "    <tr>\n",
       "      <td>4</td>\n",
       "      <td>s2</td>\n",
       "      <td>Chocolate</td>\n",
       "      <td>2</td>\n",
       "    </tr>\n",
       "    <tr>\n",
       "      <td>5</td>\n",
       "      <td>s3</td>\n",
       "      <td>Chocolate</td>\n",
       "      <td>3</td>\n",
       "    </tr>\n",
       "    <tr>\n",
       "      <td>6</td>\n",
       "      <td>s3</td>\n",
       "      <td>Ice-Cream</td>\n",
       "      <td>1</td>\n",
       "    </tr>\n",
       "  </tbody>\n",
       "</table>\n",
       "</div>"
      ],
      "text/plain": [
       "  Stud #       Item  Count\n",
       "0     s1  Chocolate      2\n",
       "1     s1    Biscuit      2\n",
       "2     s2  Ice-Cream      2\n",
       "3     s2    Biscuit      1\n",
       "4     s2  Chocolate      2\n",
       "5     s3  Chocolate      3\n",
       "6     s3  Ice-Cream      1"
      ]
     },
     "execution_count": 3,
     "metadata": {},
     "output_type": "execute_result"
    }
   ],
   "source": [
    "distrib_df_obj"
   ]
  },
  {
   "cell_type": "code",
   "execution_count": 4,
   "metadata": {},
   "outputs": [
    {
     "data": {
      "text/html": [
       "<div>\n",
       "<style scoped>\n",
       "    .dataframe tbody tr th:only-of-type {\n",
       "        vertical-align: middle;\n",
       "    }\n",
       "\n",
       "    .dataframe tbody tr th {\n",
       "        vertical-align: top;\n",
       "    }\n",
       "\n",
       "    .dataframe thead th {\n",
       "        text-align: right;\n",
       "    }\n",
       "</style>\n",
       "<table border=\"1\" class=\"dataframe\">\n",
       "  <thead>\n",
       "    <tr style=\"text-align: right;\">\n",
       "      <th></th>\n",
       "      <th>Stud #</th>\n",
       "      <th>Count</th>\n",
       "    </tr>\n",
       "  </thead>\n",
       "  <tbody>\n",
       "    <tr>\n",
       "      <td>0</td>\n",
       "      <td>s1</td>\n",
       "      <td>2</td>\n",
       "    </tr>\n",
       "    <tr>\n",
       "      <td>1</td>\n",
       "      <td>s1</td>\n",
       "      <td>2</td>\n",
       "    </tr>\n",
       "    <tr>\n",
       "      <td>2</td>\n",
       "      <td>s2</td>\n",
       "      <td>2</td>\n",
       "    </tr>\n",
       "    <tr>\n",
       "      <td>3</td>\n",
       "      <td>s2</td>\n",
       "      <td>1</td>\n",
       "    </tr>\n",
       "    <tr>\n",
       "      <td>4</td>\n",
       "      <td>s2</td>\n",
       "      <td>2</td>\n",
       "    </tr>\n",
       "    <tr>\n",
       "      <td>5</td>\n",
       "      <td>s3</td>\n",
       "      <td>3</td>\n",
       "    </tr>\n",
       "    <tr>\n",
       "      <td>6</td>\n",
       "      <td>s3</td>\n",
       "      <td>1</td>\n",
       "    </tr>\n",
       "  </tbody>\n",
       "</table>\n",
       "</div>"
      ],
      "text/plain": [
       "  Stud #  Count\n",
       "0     s1      2\n",
       "1     s1      2\n",
       "2     s2      2\n",
       "3     s2      1\n",
       "4     s2      2\n",
       "5     s3      3\n",
       "6     s3      1"
      ]
     },
     "execution_count": 4,
     "metadata": {},
     "output_type": "execute_result"
    }
   ],
   "source": [
    "distrib_df_obj[['Stud #', 'Count']]"
   ]
  },
  {
   "cell_type": "code",
   "execution_count": 5,
   "metadata": {},
   "outputs": [
    {
     "data": {
      "text/plain": [
       "<pandas.core.groupby.generic.DataFrameGroupBy object at 0x00000288C754C448>"
      ]
     },
     "execution_count": 5,
     "metadata": {},
     "output_type": "execute_result"
    }
   ],
   "source": [
    "distrib_df_obj[['Stud #', 'Count']].groupby('Stud #')"
   ]
  },
  {
   "cell_type": "code",
   "execution_count": 6,
   "metadata": {},
   "outputs": [],
   "source": [
    "stud_sum = distrib_df_obj[['Stud #', 'Count']].groupby('Stud #').sum()"
   ]
  },
  {
   "cell_type": "markdown",
   "metadata": {},
   "source": [
    "* **Dicstribution in numbers -** Total number of food items each student got"
   ]
  },
  {
   "cell_type": "code",
   "execution_count": 9,
   "metadata": {},
   "outputs": [
    {
     "data": {
      "text/html": [
       "<div>\n",
       "<style scoped>\n",
       "    .dataframe tbody tr th:only-of-type {\n",
       "        vertical-align: middle;\n",
       "    }\n",
       "\n",
       "    .dataframe tbody tr th {\n",
       "        vertical-align: top;\n",
       "    }\n",
       "\n",
       "    .dataframe thead th {\n",
       "        text-align: right;\n",
       "    }\n",
       "</style>\n",
       "<table border=\"1\" class=\"dataframe\">\n",
       "  <thead>\n",
       "    <tr style=\"text-align: right;\">\n",
       "      <th></th>\n",
       "      <th>Count</th>\n",
       "    </tr>\n",
       "    <tr>\n",
       "      <th>Stud #</th>\n",
       "      <th></th>\n",
       "    </tr>\n",
       "  </thead>\n",
       "  <tbody>\n",
       "    <tr>\n",
       "      <td>s1</td>\n",
       "      <td>4</td>\n",
       "    </tr>\n",
       "    <tr>\n",
       "      <td>s2</td>\n",
       "      <td>5</td>\n",
       "    </tr>\n",
       "    <tr>\n",
       "      <td>s3</td>\n",
       "      <td>4</td>\n",
       "    </tr>\n",
       "  </tbody>\n",
       "</table>\n",
       "</div>"
      ],
      "text/plain": [
       "        Count\n",
       "Stud #       \n",
       "s1          4\n",
       "s2          5\n",
       "s3          4"
      ]
     },
     "execution_count": 9,
     "metadata": {},
     "output_type": "execute_result"
    }
   ],
   "source": [
    "stud_sum"
   ]
  },
  {
   "cell_type": "markdown",
   "metadata": {},
   "source": [
    "* **Visualizing Data Distribution -** Total number of food items each student got"
   ]
  },
  {
   "cell_type": "code",
   "execution_count": 13,
   "metadata": {},
   "outputs": [
    {
     "data": {
      "image/png": "[encoded data removed]",
      "text/plain": [
       "<Figure size 432x288 with 1 Axes>"
      ]
     },
     "metadata": {
      "needs_background": "light"
     },
     "output_type": "display_data"
    }
   ],
   "source": [
    "ax1 = stud_sum.plot(kind='bar', rot=0, color='y')\n",
    "\n",
    "xlab1 = plt.xlabel('Student #', fontsize=16, color='green')\n",
    "ylab1 = plt.ylabel('Count', fontsize=16, color='green')\n",
    "\n",
    "xtick1 = plt.xticks(fontsize=14)\n",
    "ytick1 = plt.yticks(fontsize=14)"
   ]
  },
  {
   "cell_type": "markdown",
   "metadata": {},
   "source": [
    "* **Dicstribution in numbers -** Total count of each Food Item Distributed"
   ]
  },
  {
   "cell_type": "code",
   "execution_count": 14,
   "metadata": {},
   "outputs": [],
   "source": [
    "item_sum = distrib_df_obj[['Item', 'Count']].groupby('Item').sum()"
   ]
  },
  {
   "cell_type": "code",
   "execution_count": 15,
   "metadata": {},
   "outputs": [
    {
     "data": {
      "text/html": [
       "<div>\n",
       "<style scoped>\n",
       "    .dataframe tbody tr th:only-of-type {\n",
       "        vertical-align: middle;\n",
       "    }\n",
       "\n",
       "    .dataframe tbody tr th {\n",
       "        vertical-align: top;\n",
       "    }\n",
       "\n",
       "    .dataframe thead th {\n",
       "        text-align: right;\n",
       "    }\n",
       "</style>\n",
       "<table border=\"1\" class=\"dataframe\">\n",
       "  <thead>\n",
       "    <tr style=\"text-align: right;\">\n",
       "      <th></th>\n",
       "      <th>Count</th>\n",
       "    </tr>\n",
       "    <tr>\n",
       "      <th>Item</th>\n",
       "      <th></th>\n",
       "    </tr>\n",
       "  </thead>\n",
       "  <tbody>\n",
       "    <tr>\n",
       "      <td>Biscuit</td>\n",
       "      <td>3</td>\n",
       "    </tr>\n",
       "    <tr>\n",
       "      <td>Chocolate</td>\n",
       "      <td>7</td>\n",
       "    </tr>\n",
       "    <tr>\n",
       "      <td>Ice-Cream</td>\n",
       "      <td>3</td>\n",
       "    </tr>\n",
       "  </tbody>\n",
       "</table>\n",
       "</div>"
      ],
      "text/plain": [
       "           Count\n",
       "Item            \n",
       "Biscuit        3\n",
       "Chocolate      7\n",
       "Ice-Cream      3"
      ]
     },
     "execution_count": 15,
     "metadata": {},
     "output_type": "execute_result"
    }
   ],
   "source": [
    "item_sum"
   ]
  },
  {
   "cell_type": "markdown",
   "metadata": {},
   "source": [
    "* **Visualizing Data Distribution -** Total count of each Food Item Distributed"
   ]
  },
  {
   "cell_type": "code",
   "execution_count": 17,
   "metadata": {},
   "outputs": [
    {
     "data": {
      "image/png": "[encoded data removed]",
      "text/plain": [
       "<Figure size 432x288 with 1 Axes>"
      ]
     },
     "metadata": {
      "needs_background": "light"
     },
     "output_type": "display_data"
    }
   ],
   "source": [
    "ax2 = item_sum.plot(kind='bar', rot=90, color='m')\n",
    "\n",
    "xlab2 = plt.xlabel('Food Items #', fontsize=16, color='red')\n",
    "ylab2 = plt.ylabel('Count', fontsize=16, color='red')\n",
    "\n",
    "xtick2 = plt.xticks(fontsize=14)\n",
    "ytick2 = plt.yticks(fontsize=14)"
   ]
  },
  {
   "cell_type": "markdown",
   "metadata": {},
   "source": [
    "### Normally Distributed Data: Let's understand Normal Distribution of data with an example\n",
    "  * Let's take a company with 7 designations (Jr.Developer, Sr.Developer, Analyst, Sr.Analyst, Manager, Sr.Manager, Director) and 32 employees. The data is as below."
   ]
  },
  {
   "cell_type": "code",
   "execution_count": 12,
   "metadata": {},
   "outputs": [],
   "source": [
    "normal_distrib_df_obj = pd.read_csv('../Data/normal_employee_data.csv')"
   ]
  },
  {
   "cell_type": "code",
   "execution_count": 13,
   "metadata": {},
   "outputs": [
    {
     "data": {
      "text/plain": [
       "(32, 4)"
      ]
     },
     "execution_count": 13,
     "metadata": {},
     "output_type": "execute_result"
    }
   ],
   "source": [
    "normal_distrib_df_obj.shape"
   ]
  },
  {
   "cell_type": "code",
   "execution_count": 14,
   "metadata": {},
   "outputs": [
    {
     "data": {
      "text/html": [
       "<div>\n",
       "<style scoped>\n",
       "    .dataframe tbody tr th:only-of-type {\n",
       "        vertical-align: middle;\n",
       "    }\n",
       "\n",
       "    .dataframe tbody tr th {\n",
       "        vertical-align: top;\n",
       "    }\n",
       "\n",
       "    .dataframe thead th {\n",
       "        text-align: right;\n",
       "    }\n",
       "</style>\n",
       "<table border=\"1\" class=\"dataframe\">\n",
       "  <thead>\n",
       "    <tr style=\"text-align: right;\">\n",
       "      <th></th>\n",
       "      <th>Emp #</th>\n",
       "      <th>Designation</th>\n",
       "      <th>Experience</th>\n",
       "      <th>Salary</th>\n",
       "    </tr>\n",
       "  </thead>\n",
       "  <tbody>\n",
       "    <tr>\n",
       "      <td>0</td>\n",
       "      <td>e1</td>\n",
       "      <td>Director</td>\n",
       "      <td>15.0</td>\n",
       "      <td>85000</td>\n",
       "    </tr>\n",
       "    <tr>\n",
       "      <td>1</td>\n",
       "      <td>e2</td>\n",
       "      <td>Jr.Dev</td>\n",
       "      <td>3.0</td>\n",
       "      <td>25000</td>\n",
       "    </tr>\n",
       "    <tr>\n",
       "      <td>2</td>\n",
       "      <td>e3</td>\n",
       "      <td>Sr.Dev</td>\n",
       "      <td>6.0</td>\n",
       "      <td>36000</td>\n",
       "    </tr>\n",
       "    <tr>\n",
       "      <td>3</td>\n",
       "      <td>e4</td>\n",
       "      <td>Jr.Dev</td>\n",
       "      <td>2.0</td>\n",
       "      <td>20000</td>\n",
       "    </tr>\n",
       "    <tr>\n",
       "      <td>4</td>\n",
       "      <td>e5</td>\n",
       "      <td>Sr.Dev</td>\n",
       "      <td>5.0</td>\n",
       "      <td>37000</td>\n",
       "    </tr>\n",
       "    <tr>\n",
       "      <td>5</td>\n",
       "      <td>e6</td>\n",
       "      <td>Sr.Dev</td>\n",
       "      <td>6.5</td>\n",
       "      <td>36300</td>\n",
       "    </tr>\n",
       "    <tr>\n",
       "      <td>6</td>\n",
       "      <td>e7</td>\n",
       "      <td>Sr.Dev</td>\n",
       "      <td>5.3</td>\n",
       "      <td>32000</td>\n",
       "    </tr>\n",
       "    <tr>\n",
       "      <td>7</td>\n",
       "      <td>e8</td>\n",
       "      <td>Director</td>\n",
       "      <td>17.0</td>\n",
       "      <td>89500</td>\n",
       "    </tr>\n",
       "    <tr>\n",
       "      <td>8</td>\n",
       "      <td>e9</td>\n",
       "      <td>Manager</td>\n",
       "      <td>10.0</td>\n",
       "      <td>63265</td>\n",
       "    </tr>\n",
       "    <tr>\n",
       "      <td>9</td>\n",
       "      <td>e10</td>\n",
       "      <td>Sr.Analyst</td>\n",
       "      <td>9.5</td>\n",
       "      <td>50500</td>\n",
       "    </tr>\n",
       "    <tr>\n",
       "      <td>10</td>\n",
       "      <td>e11</td>\n",
       "      <td>Sr.Analyst</td>\n",
       "      <td>9.5</td>\n",
       "      <td>53476</td>\n",
       "    </tr>\n",
       "    <tr>\n",
       "      <td>11</td>\n",
       "      <td>e12</td>\n",
       "      <td>Sr.Manager</td>\n",
       "      <td>12.0</td>\n",
       "      <td>73240</td>\n",
       "    </tr>\n",
       "    <tr>\n",
       "      <td>12</td>\n",
       "      <td>e13</td>\n",
       "      <td>Analyst</td>\n",
       "      <td>8.0</td>\n",
       "      <td>44900</td>\n",
       "    </tr>\n",
       "    <tr>\n",
       "      <td>13</td>\n",
       "      <td>e14</td>\n",
       "      <td>Analyst</td>\n",
       "      <td>8.3</td>\n",
       "      <td>42600</td>\n",
       "    </tr>\n",
       "    <tr>\n",
       "      <td>14</td>\n",
       "      <td>e15</td>\n",
       "      <td>Analyst</td>\n",
       "      <td>8.1</td>\n",
       "      <td>46000</td>\n",
       "    </tr>\n",
       "    <tr>\n",
       "      <td>15</td>\n",
       "      <td>e16</td>\n",
       "      <td>Manager</td>\n",
       "      <td>10.2</td>\n",
       "      <td>65000</td>\n",
       "    </tr>\n",
       "    <tr>\n",
       "      <td>16</td>\n",
       "      <td>e17</td>\n",
       "      <td>Manager</td>\n",
       "      <td>9.8</td>\n",
       "      <td>67200</td>\n",
       "    </tr>\n",
       "    <tr>\n",
       "      <td>17</td>\n",
       "      <td>e18</td>\n",
       "      <td>Sr.Manager</td>\n",
       "      <td>13.0</td>\n",
       "      <td>78200</td>\n",
       "    </tr>\n",
       "    <tr>\n",
       "      <td>18</td>\n",
       "      <td>e19</td>\n",
       "      <td>Sr.Analyst</td>\n",
       "      <td>7.5</td>\n",
       "      <td>52890</td>\n",
       "    </tr>\n",
       "    <tr>\n",
       "      <td>19</td>\n",
       "      <td>e20</td>\n",
       "      <td>Sr.Analyst</td>\n",
       "      <td>8.7</td>\n",
       "      <td>57000</td>\n",
       "    </tr>\n",
       "    <tr>\n",
       "      <td>20</td>\n",
       "      <td>e21</td>\n",
       "      <td>Sr.Analyst</td>\n",
       "      <td>8.1</td>\n",
       "      <td>58200</td>\n",
       "    </tr>\n",
       "    <tr>\n",
       "      <td>21</td>\n",
       "      <td>e22</td>\n",
       "      <td>Sr.Analyst</td>\n",
       "      <td>8.0</td>\n",
       "      <td>50500</td>\n",
       "    </tr>\n",
       "    <tr>\n",
       "      <td>22</td>\n",
       "      <td>e23</td>\n",
       "      <td>Analyst</td>\n",
       "      <td>7.2</td>\n",
       "      <td>42300</td>\n",
       "    </tr>\n",
       "    <tr>\n",
       "      <td>23</td>\n",
       "      <td>e24</td>\n",
       "      <td>Analyst</td>\n",
       "      <td>7.5</td>\n",
       "      <td>47800</td>\n",
       "    </tr>\n",
       "    <tr>\n",
       "      <td>24</td>\n",
       "      <td>e25</td>\n",
       "      <td>Analyst</td>\n",
       "      <td>7.7</td>\n",
       "      <td>41000</td>\n",
       "    </tr>\n",
       "    <tr>\n",
       "      <td>25</td>\n",
       "      <td>e26</td>\n",
       "      <td>Manager</td>\n",
       "      <td>10.0</td>\n",
       "      <td>63333</td>\n",
       "    </tr>\n",
       "    <tr>\n",
       "      <td>26</td>\n",
       "      <td>e27</td>\n",
       "      <td>Manager</td>\n",
       "      <td>11.2</td>\n",
       "      <td>67343</td>\n",
       "    </tr>\n",
       "    <tr>\n",
       "      <td>27</td>\n",
       "      <td>e28</td>\n",
       "      <td>Manager</td>\n",
       "      <td>10.5</td>\n",
       "      <td>69000</td>\n",
       "    </tr>\n",
       "    <tr>\n",
       "      <td>28</td>\n",
       "      <td>e29</td>\n",
       "      <td>Sr.Analyst</td>\n",
       "      <td>12.0</td>\n",
       "      <td>79000</td>\n",
       "    </tr>\n",
       "    <tr>\n",
       "      <td>29</td>\n",
       "      <td>e30</td>\n",
       "      <td>Sr.Manager</td>\n",
       "      <td>13.2</td>\n",
       "      <td>72998</td>\n",
       "    </tr>\n",
       "    <tr>\n",
       "      <td>30</td>\n",
       "      <td>e31</td>\n",
       "      <td>Sr.Analyst</td>\n",
       "      <td>10.2</td>\n",
       "      <td>51000</td>\n",
       "    </tr>\n",
       "    <tr>\n",
       "      <td>31</td>\n",
       "      <td>e32</td>\n",
       "      <td>Sr.Analyst</td>\n",
       "      <td>9.9</td>\n",
       "      <td>54000</td>\n",
       "    </tr>\n",
       "  </tbody>\n",
       "</table>\n",
       "</div>"
      ],
      "text/plain": [
       "   Emp # Designation  Experience  Salary\n",
       "0     e1    Director        15.0   85000\n",
       "1     e2      Jr.Dev         3.0   25000\n",
       "2     e3      Sr.Dev         6.0   36000\n",
       "3     e4      Jr.Dev         2.0   20000\n",
       "4     e5      Sr.Dev         5.0   37000\n",
       "5     e6      Sr.Dev         6.5   36300\n",
       "6     e7      Sr.Dev         5.3   32000\n",
       "7     e8    Director        17.0   89500\n",
       "8     e9     Manager        10.0   63265\n",
       "9    e10  Sr.Analyst         9.5   50500\n",
       "10   e11  Sr.Analyst         9.5   53476\n",
       "11   e12  Sr.Manager        12.0   73240\n",
       "12   e13     Analyst         8.0   44900\n",
       "13   e14     Analyst         8.3   42600\n",
       "14   e15     Analyst         8.1   46000\n",
       "15   e16     Manager        10.2   65000\n",
       "16   e17     Manager         9.8   67200\n",
       "17   e18  Sr.Manager        13.0   78200\n",
       "18   e19  Sr.Analyst         7.5   52890\n",
       "19   e20  Sr.Analyst         8.7   57000\n",
       "20   e21  Sr.Analyst         8.1   58200\n",
       "21   e22  Sr.Analyst         8.0   50500\n",
       "22   e23     Analyst         7.2   42300\n",
       "23   e24     Analyst         7.5   47800\n",
       "24   e25     Analyst         7.7   41000\n",
       "25   e26     Manager        10.0   63333\n",
       "26   e27     Manager        11.2   67343\n",
       "27   e28     Manager        10.5   69000\n",
       "28   e29  Sr.Analyst        12.0   79000\n",
       "29   e30  Sr.Manager        13.2   72998\n",
       "30   e31  Sr.Analyst        10.2   51000\n",
       "31   e32  Sr.Analyst         9.9   54000"
      ]
     },
     "execution_count": 14,
     "metadata": {},
     "output_type": "execute_result"
    }
   ],
   "source": [
    "normal_distrib_df_obj"
   ]
  },
  {
   "cell_type": "code",
   "execution_count": 15,
   "metadata": {},
   "outputs": [
    {
     "data": {
      "image/png": "[encoded data removed]",
      "text/plain": [
       "<Figure size 432x288 with 1 Axes>"
      ]
     },
     "metadata": {
      "needs_background": "light"
     },
     "output_type": "display_data"
    }
   ],
   "source": [
    "normal_distrib_df_obj['Salary'].hist(bins=7)\n",
    "xlable2 = plt.xlabel('Salary Ranges', fontsize=14)\n",
    "ylable2 = plt.ylabel('# Employees', fontsize=14)\n",
    "yticks2 = plt.xticks([0,10000,20000,30000,40000,50000,60000,70000,80000,90000,100000, 110000], rotation=90, fontsize=14)\n",
    "yticks2 = plt.yticks(range(0,10), rotation=0, fontsize=14)\n",
    "#plt.margins(0.0)"
   ]
  },
  {
   "cell_type": "code",
   "execution_count": 16,
   "metadata": {},
   "outputs": [
    {
     "data": {
      "text/plain": [
       "54735.78125"
      ]
     },
     "execution_count": 16,
     "metadata": {},
     "output_type": "execute_result"
    }
   ],
   "source": [
    "normal_distrib_df_obj['Salary'].mean()"
   ]
  },
  {
   "cell_type": "code",
   "execution_count": 17,
   "metadata": {},
   "outputs": [
    {
     "data": {
      "text/plain": [
       "17139.771776879297"
      ]
     },
     "execution_count": 17,
     "metadata": {},
     "output_type": "execute_result"
    }
   ],
   "source": [
    "normal_distrib_df_obj['Salary'].std()"
   ]
  },
  {
   "cell_type": "markdown",
   "metadata": {},
   "source": [
    "### As data is normally distributed,\n",
    "  * **68% of the employees 68*32/100 = 21.76, approximately 21 employees salaries must be with in ONE standard deviation**"
   ]
  },
  {
   "cell_type": "code",
   "execution_count": 18,
   "metadata": {},
   "outputs": [
    {
     "data": {
      "text/plain": [
       "21.76"
      ]
     },
     "execution_count": 18,
     "metadata": {},
     "output_type": "execute_result"
    }
   ],
   "source": [
    "68*32/100 "
   ]
  },
  {
   "cell_type": "code",
   "execution_count": 19,
   "metadata": {
    "scrolled": true
   },
   "outputs": [
    {
     "data": {
      "text/plain": [
       "71875.5530268793"
      ]
     },
     "execution_count": 19,
     "metadata": {},
     "output_type": "execute_result"
    }
   ],
   "source": [
    "# +1 Standard Deviation score\n",
    "normal_distrib_df_obj['Salary'].mean() + normal_distrib_df_obj['Salary'].std()"
   ]
  },
  {
   "cell_type": "code",
   "execution_count": 20,
   "metadata": {},
   "outputs": [
    {
     "data": {
      "text/plain": [
       "37596.00947312071"
      ]
     },
     "execution_count": 20,
     "metadata": {},
     "output_type": "execute_result"
    }
   ],
   "source": [
    "normal_distrib_df_obj['Salary'].mean() - normal_distrib_df_obj['Salary'].std()"
   ]
  },
  {
   "cell_type": "markdown",
   "metadata": {},
   "source": [
    "* **Hence around 21 employees salaries must be between 71875 and 37596, let's filter data**"
   ]
  },
  {
   "cell_type": "code",
   "execution_count": 21,
   "metadata": {
    "scrolled": true
   },
   "outputs": [
    {
     "data": {
      "text/html": [
       "<div>\n",
       "<style scoped>\n",
       "    .dataframe tbody tr th:only-of-type {\n",
       "        vertical-align: middle;\n",
       "    }\n",
       "\n",
       "    .dataframe tbody tr th {\n",
       "        vertical-align: top;\n",
       "    }\n",
       "\n",
       "    .dataframe thead th {\n",
       "        text-align: right;\n",
       "    }\n",
       "</style>\n",
       "<table border=\"1\" class=\"dataframe\">\n",
       "  <thead>\n",
       "    <tr style=\"text-align: right;\">\n",
       "      <th></th>\n",
       "      <th>Emp #</th>\n",
       "      <th>Designation</th>\n",
       "      <th>Experience</th>\n",
       "      <th>Salary</th>\n",
       "    </tr>\n",
       "  </thead>\n",
       "  <tbody>\n",
       "    <tr>\n",
       "      <td>8</td>\n",
       "      <td>e9</td>\n",
       "      <td>Manager</td>\n",
       "      <td>10.0</td>\n",
       "      <td>63265</td>\n",
       "    </tr>\n",
       "    <tr>\n",
       "      <td>9</td>\n",
       "      <td>e10</td>\n",
       "      <td>Sr.Analyst</td>\n",
       "      <td>9.5</td>\n",
       "      <td>50500</td>\n",
       "    </tr>\n",
       "    <tr>\n",
       "      <td>10</td>\n",
       "      <td>e11</td>\n",
       "      <td>Sr.Analyst</td>\n",
       "      <td>9.5</td>\n",
       "      <td>53476</td>\n",
       "    </tr>\n",
       "    <tr>\n",
       "      <td>12</td>\n",
       "      <td>e13</td>\n",
       "      <td>Analyst</td>\n",
       "      <td>8.0</td>\n",
       "      <td>44900</td>\n",
       "    </tr>\n",
       "    <tr>\n",
       "      <td>13</td>\n",
       "      <td>e14</td>\n",
       "      <td>Analyst</td>\n",
       "      <td>8.3</td>\n",
       "      <td>42600</td>\n",
       "    </tr>\n",
       "    <tr>\n",
       "      <td>14</td>\n",
       "      <td>e15</td>\n",
       "      <td>Analyst</td>\n",
       "      <td>8.1</td>\n",
       "      <td>46000</td>\n",
       "    </tr>\n",
       "    <tr>\n",
       "      <td>15</td>\n",
       "      <td>e16</td>\n",
       "      <td>Manager</td>\n",
       "      <td>10.2</td>\n",
       "      <td>65000</td>\n",
       "    </tr>\n",
       "    <tr>\n",
       "      <td>16</td>\n",
       "      <td>e17</td>\n",
       "      <td>Manager</td>\n",
       "      <td>9.8</td>\n",
       "      <td>67200</td>\n",
       "    </tr>\n",
       "    <tr>\n",
       "      <td>18</td>\n",
       "      <td>e19</td>\n",
       "      <td>Sr.Analyst</td>\n",
       "      <td>7.5</td>\n",
       "      <td>52890</td>\n",
       "    </tr>\n",
       "    <tr>\n",
       "      <td>19</td>\n",
       "      <td>e20</td>\n",
       "      <td>Sr.Analyst</td>\n",
       "      <td>8.7</td>\n",
       "      <td>57000</td>\n",
       "    </tr>\n",
       "    <tr>\n",
       "      <td>20</td>\n",
       "      <td>e21</td>\n",
       "      <td>Sr.Analyst</td>\n",
       "      <td>8.1</td>\n",
       "      <td>58200</td>\n",
       "    </tr>\n",
       "    <tr>\n",
       "      <td>21</td>\n",
       "      <td>e22</td>\n",
       "      <td>Sr.Analyst</td>\n",
       "      <td>8.0</td>\n",
       "      <td>50500</td>\n",
       "    </tr>\n",
       "    <tr>\n",
       "      <td>22</td>\n",
       "      <td>e23</td>\n",
       "      <td>Analyst</td>\n",
       "      <td>7.2</td>\n",
       "      <td>42300</td>\n",
       "    </tr>\n",
       "    <tr>\n",
       "      <td>23</td>\n",
       "      <td>e24</td>\n",
       "      <td>Analyst</td>\n",
       "      <td>7.5</td>\n",
       "      <td>47800</td>\n",
       "    </tr>\n",
       "    <tr>\n",
       "      <td>24</td>\n",
       "      <td>e25</td>\n",
       "      <td>Analyst</td>\n",
       "      <td>7.7</td>\n",
       "      <td>41000</td>\n",
       "    </tr>\n",
       "    <tr>\n",
       "      <td>25</td>\n",
       "      <td>e26</td>\n",
       "      <td>Manager</td>\n",
       "      <td>10.0</td>\n",
       "      <td>63333</td>\n",
       "    </tr>\n",
       "    <tr>\n",
       "      <td>26</td>\n",
       "      <td>e27</td>\n",
       "      <td>Manager</td>\n",
       "      <td>11.2</td>\n",
       "      <td>67343</td>\n",
       "    </tr>\n",
       "    <tr>\n",
       "      <td>27</td>\n",
       "      <td>e28</td>\n",
       "      <td>Manager</td>\n",
       "      <td>10.5</td>\n",
       "      <td>69000</td>\n",
       "    </tr>\n",
       "    <tr>\n",
       "      <td>30</td>\n",
       "      <td>e31</td>\n",
       "      <td>Sr.Analyst</td>\n",
       "      <td>10.2</td>\n",
       "      <td>51000</td>\n",
       "    </tr>\n",
       "    <tr>\n",
       "      <td>31</td>\n",
       "      <td>e32</td>\n",
       "      <td>Sr.Analyst</td>\n",
       "      <td>9.9</td>\n",
       "      <td>54000</td>\n",
       "    </tr>\n",
       "  </tbody>\n",
       "</table>\n",
       "</div>"
      ],
      "text/plain": [
       "   Emp # Designation  Experience  Salary\n",
       "8     e9     Manager        10.0   63265\n",
       "9    e10  Sr.Analyst         9.5   50500\n",
       "10   e11  Sr.Analyst         9.5   53476\n",
       "12   e13     Analyst         8.0   44900\n",
       "13   e14     Analyst         8.3   42600\n",
       "14   e15     Analyst         8.1   46000\n",
       "15   e16     Manager        10.2   65000\n",
       "16   e17     Manager         9.8   67200\n",
       "18   e19  Sr.Analyst         7.5   52890\n",
       "19   e20  Sr.Analyst         8.7   57000\n",
       "20   e21  Sr.Analyst         8.1   58200\n",
       "21   e22  Sr.Analyst         8.0   50500\n",
       "22   e23     Analyst         7.2   42300\n",
       "23   e24     Analyst         7.5   47800\n",
       "24   e25     Analyst         7.7   41000\n",
       "25   e26     Manager        10.0   63333\n",
       "26   e27     Manager        11.2   67343\n",
       "27   e28     Manager        10.5   69000\n",
       "30   e31  Sr.Analyst        10.2   51000\n",
       "31   e32  Sr.Analyst         9.9   54000"
      ]
     },
     "execution_count": 21,
     "metadata": {},
     "output_type": "execute_result"
    }
   ],
   "source": [
    "normal_distrib_df_obj[(normal_distrib_df_obj['Salary'] > 37596) & (normal_distrib_df_obj['Salary'] < 71875) ]"
   ]
  },
  {
   "cell_type": "code",
   "execution_count": 22,
   "metadata": {},
   "outputs": [
    {
     "data": {
      "text/plain": [
       "(20, 4)"
      ]
     },
     "execution_count": 22,
     "metadata": {},
     "output_type": "execute_result"
    }
   ],
   "source": [
    "normal_distrib_df_obj[(normal_distrib_df_obj['Salary'] > 37596) & (normal_distrib_df_obj['Salary'] < 71875) ].shape"
   ]
  },
  {
   "cell_type": "markdown",
   "metadata": {},
   "source": [
    "* **95% of the employees 95*32/100 = 30.4, approximately 30 employees salaries must be with in TWO standard deviation**"
   ]
  },
  {
   "cell_type": "code",
   "execution_count": 23,
   "metadata": {},
   "outputs": [
    {
     "data": {
      "text/plain": [
       "30.4"
      ]
     },
     "execution_count": 23,
     "metadata": {},
     "output_type": "execute_result"
    }
   ],
   "source": [
    "95*32/100"
   ]
  },
  {
   "cell_type": "code",
   "execution_count": 24,
   "metadata": {},
   "outputs": [
    {
     "data": {
      "text/plain": [
       "89015.32480375859"
      ]
     },
     "execution_count": 24,
     "metadata": {},
     "output_type": "execute_result"
    }
   ],
   "source": [
    "# +2 Standard Deviation score\n",
    "normal_distrib_df_obj['Salary'].mean() + 2 * normal_distrib_df_obj['Salary'].std()"
   ]
  },
  {
   "cell_type": "code",
   "execution_count": 25,
   "metadata": {},
   "outputs": [
    {
     "data": {
      "text/plain": [
       "20456.237696241406"
      ]
     },
     "execution_count": 25,
     "metadata": {},
     "output_type": "execute_result"
    }
   ],
   "source": [
    "normal_distrib_df_obj['Salary'].mean() - 2 * normal_distrib_df_obj['Salary'].std()"
   ]
  },
  {
   "cell_type": "code",
   "execution_count": 26,
   "metadata": {},
   "outputs": [
    {
     "data": {
      "text/html": [
       "<div>\n",
       "<style scoped>\n",
       "    .dataframe tbody tr th:only-of-type {\n",
       "        vertical-align: middle;\n",
       "    }\n",
       "\n",
       "    .dataframe tbody tr th {\n",
       "        vertical-align: top;\n",
       "    }\n",
       "\n",
       "    .dataframe thead th {\n",
       "        text-align: right;\n",
       "    }\n",
       "</style>\n",
       "<table border=\"1\" class=\"dataframe\">\n",
       "  <thead>\n",
       "    <tr style=\"text-align: right;\">\n",
       "      <th></th>\n",
       "      <th>Emp #</th>\n",
       "      <th>Designation</th>\n",
       "      <th>Experience</th>\n",
       "      <th>Salary</th>\n",
       "    </tr>\n",
       "  </thead>\n",
       "  <tbody>\n",
       "    <tr>\n",
       "      <td>0</td>\n",
       "      <td>e1</td>\n",
       "      <td>Director</td>\n",
       "      <td>15.0</td>\n",
       "      <td>85000</td>\n",
       "    </tr>\n",
       "    <tr>\n",
       "      <td>1</td>\n",
       "      <td>e2</td>\n",
       "      <td>Jr.Dev</td>\n",
       "      <td>3.0</td>\n",
       "      <td>25000</td>\n",
       "    </tr>\n",
       "    <tr>\n",
       "      <td>2</td>\n",
       "      <td>e3</td>\n",
       "      <td>Sr.Dev</td>\n",
       "      <td>6.0</td>\n",
       "      <td>36000</td>\n",
       "    </tr>\n",
       "    <tr>\n",
       "      <td>4</td>\n",
       "      <td>e5</td>\n",
       "      <td>Sr.Dev</td>\n",
       "      <td>5.0</td>\n",
       "      <td>37000</td>\n",
       "    </tr>\n",
       "    <tr>\n",
       "      <td>5</td>\n",
       "      <td>e6</td>\n",
       "      <td>Sr.Dev</td>\n",
       "      <td>6.5</td>\n",
       "      <td>36300</td>\n",
       "    </tr>\n",
       "    <tr>\n",
       "      <td>6</td>\n",
       "      <td>e7</td>\n",
       "      <td>Sr.Dev</td>\n",
       "      <td>5.3</td>\n",
       "      <td>32000</td>\n",
       "    </tr>\n",
       "    <tr>\n",
       "      <td>8</td>\n",
       "      <td>e9</td>\n",
       "      <td>Manager</td>\n",
       "      <td>10.0</td>\n",
       "      <td>63265</td>\n",
       "    </tr>\n",
       "    <tr>\n",
       "      <td>9</td>\n",
       "      <td>e10</td>\n",
       "      <td>Sr.Analyst</td>\n",
       "      <td>9.5</td>\n",
       "      <td>50500</td>\n",
       "    </tr>\n",
       "    <tr>\n",
       "      <td>10</td>\n",
       "      <td>e11</td>\n",
       "      <td>Sr.Analyst</td>\n",
       "      <td>9.5</td>\n",
       "      <td>53476</td>\n",
       "    </tr>\n",
       "    <tr>\n",
       "      <td>11</td>\n",
       "      <td>e12</td>\n",
       "      <td>Sr.Manager</td>\n",
       "      <td>12.0</td>\n",
       "      <td>73240</td>\n",
       "    </tr>\n",
       "    <tr>\n",
       "      <td>12</td>\n",
       "      <td>e13</td>\n",
       "      <td>Analyst</td>\n",
       "      <td>8.0</td>\n",
       "      <td>44900</td>\n",
       "    </tr>\n",
       "    <tr>\n",
       "      <td>13</td>\n",
       "      <td>e14</td>\n",
       "      <td>Analyst</td>\n",
       "      <td>8.3</td>\n",
       "      <td>42600</td>\n",
       "    </tr>\n",
       "    <tr>\n",
       "      <td>14</td>\n",
       "      <td>e15</td>\n",
       "      <td>Analyst</td>\n",
       "      <td>8.1</td>\n",
       "      <td>46000</td>\n",
       "    </tr>\n",
       "    <tr>\n",
       "      <td>15</td>\n",
       "      <td>e16</td>\n",
       "      <td>Manager</td>\n",
       "      <td>10.2</td>\n",
       "      <td>65000</td>\n",
       "    </tr>\n",
       "    <tr>\n",
       "      <td>16</td>\n",
       "      <td>e17</td>\n",
       "      <td>Manager</td>\n",
       "      <td>9.8</td>\n",
       "      <td>67200</td>\n",
       "    </tr>\n",
       "    <tr>\n",
       "      <td>17</td>\n",
       "      <td>e18</td>\n",
       "      <td>Sr.Manager</td>\n",
       "      <td>13.0</td>\n",
       "      <td>78200</td>\n",
       "    </tr>\n",
       "    <tr>\n",
       "      <td>18</td>\n",
       "      <td>e19</td>\n",
       "      <td>Sr.Analyst</td>\n",
       "      <td>7.5</td>\n",
       "      <td>52890</td>\n",
       "    </tr>\n",
       "    <tr>\n",
       "      <td>19</td>\n",
       "      <td>e20</td>\n",
       "      <td>Sr.Analyst</td>\n",
       "      <td>8.7</td>\n",
       "      <td>57000</td>\n",
       "    </tr>\n",
       "    <tr>\n",
       "      <td>20</td>\n",
       "      <td>e21</td>\n",
       "      <td>Sr.Analyst</td>\n",
       "      <td>8.1</td>\n",
       "      <td>58200</td>\n",
       "    </tr>\n",
       "    <tr>\n",
       "      <td>21</td>\n",
       "      <td>e22</td>\n",
       "      <td>Sr.Analyst</td>\n",
       "      <td>8.0</td>\n",
       "      <td>50500</td>\n",
       "    </tr>\n",
       "    <tr>\n",
       "      <td>22</td>\n",
       "      <td>e23</td>\n",
       "      <td>Analyst</td>\n",
       "      <td>7.2</td>\n",
       "      <td>42300</td>\n",
       "    </tr>\n",
       "    <tr>\n",
       "      <td>23</td>\n",
       "      <td>e24</td>\n",
       "      <td>Analyst</td>\n",
       "      <td>7.5</td>\n",
       "      <td>47800</td>\n",
       "    </tr>\n",
       "    <tr>\n",
       "      <td>24</td>\n",
       "      <td>e25</td>\n",
       "      <td>Analyst</td>\n",
       "      <td>7.7</td>\n",
       "      <td>41000</td>\n",
       "    </tr>\n",
       "    <tr>\n",
       "      <td>25</td>\n",
       "      <td>e26</td>\n",
       "      <td>Manager</td>\n",
       "      <td>10.0</td>\n",
       "      <td>63333</td>\n",
       "    </tr>\n",
       "    <tr>\n",
       "      <td>26</td>\n",
       "      <td>e27</td>\n",
       "      <td>Manager</td>\n",
       "      <td>11.2</td>\n",
       "      <td>67343</td>\n",
       "    </tr>\n",
       "    <tr>\n",
       "      <td>27</td>\n",
       "      <td>e28</td>\n",
       "      <td>Manager</td>\n",
       "      <td>10.5</td>\n",
       "      <td>69000</td>\n",
       "    </tr>\n",
       "    <tr>\n",
       "      <td>28</td>\n",
       "      <td>e29</td>\n",
       "      <td>Sr.Analyst</td>\n",
       "      <td>12.0</td>\n",
       "      <td>79000</td>\n",
       "    </tr>\n",
       "    <tr>\n",
       "      <td>29</td>\n",
       "      <td>e30</td>\n",
       "      <td>Sr.Manager</td>\n",
       "      <td>13.2</td>\n",
       "      <td>72998</td>\n",
       "    </tr>\n",
       "    <tr>\n",
       "      <td>30</td>\n",
       "      <td>e31</td>\n",
       "      <td>Sr.Analyst</td>\n",
       "      <td>10.2</td>\n",
       "      <td>51000</td>\n",
       "    </tr>\n",
       "    <tr>\n",
       "      <td>31</td>\n",
       "      <td>e32</td>\n",
       "      <td>Sr.Analyst</td>\n",
       "      <td>9.9</td>\n",
       "      <td>54000</td>\n",
       "    </tr>\n",
       "  </tbody>\n",
       "</table>\n",
       "</div>"
      ],
      "text/plain": [
       "   Emp # Designation  Experience  Salary\n",
       "0     e1    Director        15.0   85000\n",
       "1     e2      Jr.Dev         3.0   25000\n",
       "2     e3      Sr.Dev         6.0   36000\n",
       "4     e5      Sr.Dev         5.0   37000\n",
       "5     e6      Sr.Dev         6.5   36300\n",
       "6     e7      Sr.Dev         5.3   32000\n",
       "8     e9     Manager        10.0   63265\n",
       "9    e10  Sr.Analyst         9.5   50500\n",
       "10   e11  Sr.Analyst         9.5   53476\n",
       "11   e12  Sr.Manager        12.0   73240\n",
       "12   e13     Analyst         8.0   44900\n",
       "13   e14     Analyst         8.3   42600\n",
       "14   e15     Analyst         8.1   46000\n",
       "15   e16     Manager        10.2   65000\n",
       "16   e17     Manager         9.8   67200\n",
       "17   e18  Sr.Manager        13.0   78200\n",
       "18   e19  Sr.Analyst         7.5   52890\n",
       "19   e20  Sr.Analyst         8.7   57000\n",
       "20   e21  Sr.Analyst         8.1   58200\n",
       "21   e22  Sr.Analyst         8.0   50500\n",
       "22   e23     Analyst         7.2   42300\n",
       "23   e24     Analyst         7.5   47800\n",
       "24   e25     Analyst         7.7   41000\n",
       "25   e26     Manager        10.0   63333\n",
       "26   e27     Manager        11.2   67343\n",
       "27   e28     Manager        10.5   69000\n",
       "28   e29  Sr.Analyst        12.0   79000\n",
       "29   e30  Sr.Manager        13.2   72998\n",
       "30   e31  Sr.Analyst        10.2   51000\n",
       "31   e32  Sr.Analyst         9.9   54000"
      ]
     },
     "execution_count": 26,
     "metadata": {},
     "output_type": "execute_result"
    }
   ],
   "source": [
    "normal_distrib_df_obj[(normal_distrib_df_obj['Salary'] > 20456) & (normal_distrib_df_obj['Salary'] < 89015) ]"
   ]
  },
  {
   "cell_type": "code",
   "execution_count": 27,
   "metadata": {},
   "outputs": [
    {
     "data": {
      "text/plain": [
       "(30, 4)"
      ]
     },
     "execution_count": 27,
     "metadata": {},
     "output_type": "execute_result"
    }
   ],
   "source": [
    "normal_distrib_df_obj[(normal_distrib_df_obj['Salary'] > 20456) & (normal_distrib_df_obj['Salary'] < 89015) ].shape"
   ]
  },
  {
   "cell_type": "markdown",
   "metadata": {},
   "source": [
    "* **99.7% of the employees 99.7*32/100 = 21.76, approximately 31 employees salaries must be with in THREE standard deviation**"
   ]
  },
  {
   "cell_type": "code",
   "execution_count": 28,
   "metadata": {},
   "outputs": [
    {
     "data": {
      "text/plain": [
       "31.904"
      ]
     },
     "execution_count": 28,
     "metadata": {},
     "output_type": "execute_result"
    }
   ],
   "source": [
    "99.7*32/100"
   ]
  },
  {
   "cell_type": "code",
   "execution_count": 29,
   "metadata": {},
   "outputs": [
    {
     "data": {
      "text/plain": [
       "106155.0965806379"
      ]
     },
     "execution_count": 29,
     "metadata": {},
     "output_type": "execute_result"
    }
   ],
   "source": [
    "# +3 Standard Deviation score\n",
    "normal_distrib_df_obj['Salary'].mean() + 3 * normal_distrib_df_obj['Salary'].std()"
   ]
  },
  {
   "cell_type": "code",
   "execution_count": 30,
   "metadata": {},
   "outputs": [
    {
     "data": {
      "text/plain": [
       "3316.4659193621046"
      ]
     },
     "execution_count": 30,
     "metadata": {},
     "output_type": "execute_result"
    }
   ],
   "source": [
    "# -3 Standard Deviation score\n",
    "normal_distrib_df_obj['Salary'].mean() -3 * normal_distrib_df_obj['Salary'].std()"
   ]
  },
  {
   "cell_type": "code",
   "execution_count": 31,
   "metadata": {},
   "outputs": [
    {
     "data": {
      "text/html": [
       "<div>\n",
       "<style scoped>\n",
       "    .dataframe tbody tr th:only-of-type {\n",
       "        vertical-align: middle;\n",
       "    }\n",
       "\n",
       "    .dataframe tbody tr th {\n",
       "        vertical-align: top;\n",
       "    }\n",
       "\n",
       "    .dataframe thead th {\n",
       "        text-align: right;\n",
       "    }\n",
       "</style>\n",
       "<table border=\"1\" class=\"dataframe\">\n",
       "  <thead>\n",
       "    <tr style=\"text-align: right;\">\n",
       "      <th></th>\n",
       "      <th>Emp #</th>\n",
       "      <th>Designation</th>\n",
       "      <th>Experience</th>\n",
       "      <th>Salary</th>\n",
       "    </tr>\n",
       "  </thead>\n",
       "  <tbody>\n",
       "    <tr>\n",
       "      <td>0</td>\n",
       "      <td>e1</td>\n",
       "      <td>Director</td>\n",
       "      <td>15.0</td>\n",
       "      <td>85000</td>\n",
       "    </tr>\n",
       "    <tr>\n",
       "      <td>1</td>\n",
       "      <td>e2</td>\n",
       "      <td>Jr.Dev</td>\n",
       "      <td>3.0</td>\n",
       "      <td>25000</td>\n",
       "    </tr>\n",
       "    <tr>\n",
       "      <td>2</td>\n",
       "      <td>e3</td>\n",
       "      <td>Sr.Dev</td>\n",
       "      <td>6.0</td>\n",
       "      <td>36000</td>\n",
       "    </tr>\n",
       "    <tr>\n",
       "      <td>3</td>\n",
       "      <td>e4</td>\n",
       "      <td>Jr.Dev</td>\n",
       "      <td>2.0</td>\n",
       "      <td>20000</td>\n",
       "    </tr>\n",
       "    <tr>\n",
       "      <td>4</td>\n",
       "      <td>e5</td>\n",
       "      <td>Sr.Dev</td>\n",
       "      <td>5.0</td>\n",
       "      <td>37000</td>\n",
       "    </tr>\n",
       "    <tr>\n",
       "      <td>5</td>\n",
       "      <td>e6</td>\n",
       "      <td>Sr.Dev</td>\n",
       "      <td>6.5</td>\n",
       "      <td>36300</td>\n",
       "    </tr>\n",
       "    <tr>\n",
       "      <td>6</td>\n",
       "      <td>e7</td>\n",
       "      <td>Sr.Dev</td>\n",
       "      <td>5.3</td>\n",
       "      <td>32000</td>\n",
       "    </tr>\n",
       "    <tr>\n",
       "      <td>7</td>\n",
       "      <td>e8</td>\n",
       "      <td>Director</td>\n",
       "      <td>17.0</td>\n",
       "      <td>89500</td>\n",
       "    </tr>\n",
       "    <tr>\n",
       "      <td>8</td>\n",
       "      <td>e9</td>\n",
       "      <td>Manager</td>\n",
       "      <td>10.0</td>\n",
       "      <td>63265</td>\n",
       "    </tr>\n",
       "    <tr>\n",
       "      <td>9</td>\n",
       "      <td>e10</td>\n",
       "      <td>Sr.Analyst</td>\n",
       "      <td>9.5</td>\n",
       "      <td>50500</td>\n",
       "    </tr>\n",
       "    <tr>\n",
       "      <td>10</td>\n",
       "      <td>e11</td>\n",
       "      <td>Sr.Analyst</td>\n",
       "      <td>9.5</td>\n",
       "      <td>53476</td>\n",
       "    </tr>\n",
       "    <tr>\n",
       "      <td>11</td>\n",
       "      <td>e12</td>\n",
       "      <td>Sr.Manager</td>\n",
       "      <td>12.0</td>\n",
       "      <td>73240</td>\n",
       "    </tr>\n",
       "    <tr>\n",
       "      <td>12</td>\n",
       "      <td>e13</td>\n",
       "      <td>Analyst</td>\n",
       "      <td>8.0</td>\n",
       "      <td>44900</td>\n",
       "    </tr>\n",
       "    <tr>\n",
       "      <td>13</td>\n",
       "      <td>e14</td>\n",
       "      <td>Analyst</td>\n",
       "      <td>8.3</td>\n",
       "      <td>42600</td>\n",
       "    </tr>\n",
       "    <tr>\n",
       "      <td>14</td>\n",
       "      <td>e15</td>\n",
       "      <td>Analyst</td>\n",
       "      <td>8.1</td>\n",
       "      <td>46000</td>\n",
       "    </tr>\n",
       "    <tr>\n",
       "      <td>15</td>\n",
       "      <td>e16</td>\n",
       "      <td>Manager</td>\n",
       "      <td>10.2</td>\n",
       "      <td>65000</td>\n",
       "    </tr>\n",
       "    <tr>\n",
       "      <td>16</td>\n",
       "      <td>e17</td>\n",
       "      <td>Manager</td>\n",
       "      <td>9.8</td>\n",
       "      <td>67200</td>\n",
       "    </tr>\n",
       "    <tr>\n",
       "      <td>17</td>\n",
       "      <td>e18</td>\n",
       "      <td>Sr.Manager</td>\n",
       "      <td>13.0</td>\n",
       "      <td>78200</td>\n",
       "    </tr>\n",
       "    <tr>\n",
       "      <td>18</td>\n",
       "      <td>e19</td>\n",
       "      <td>Sr.Analyst</td>\n",
       "      <td>7.5</td>\n",
       "      <td>52890</td>\n",
       "    </tr>\n",
       "    <tr>\n",
       "      <td>19</td>\n",
       "      <td>e20</td>\n",
       "      <td>Sr.Analyst</td>\n",
       "      <td>8.7</td>\n",
       "      <td>57000</td>\n",
       "    </tr>\n",
       "    <tr>\n",
       "      <td>20</td>\n",
       "      <td>e21</td>\n",
       "      <td>Sr.Analyst</td>\n",
       "      <td>8.1</td>\n",
       "      <td>58200</td>\n",
       "    </tr>\n",
       "    <tr>\n",
       "      <td>21</td>\n",
       "      <td>e22</td>\n",
       "      <td>Sr.Analyst</td>\n",
       "      <td>8.0</td>\n",
       "      <td>50500</td>\n",
       "    </tr>\n",
       "    <tr>\n",
       "      <td>22</td>\n",
       "      <td>e23</td>\n",
       "      <td>Analyst</td>\n",
       "      <td>7.2</td>\n",
       "      <td>42300</td>\n",
       "    </tr>\n",
       "    <tr>\n",
       "      <td>23</td>\n",
       "      <td>e24</td>\n",
       "      <td>Analyst</td>\n",
       "      <td>7.5</td>\n",
       "      <td>47800</td>\n",
       "    </tr>\n",
       "    <tr>\n",
       "      <td>24</td>\n",
       "      <td>e25</td>\n",
       "      <td>Analyst</td>\n",
       "      <td>7.7</td>\n",
       "      <td>41000</td>\n",
       "    </tr>\n",
       "    <tr>\n",
       "      <td>25</td>\n",
       "      <td>e26</td>\n",
       "      <td>Manager</td>\n",
       "      <td>10.0</td>\n",
       "      <td>63333</td>\n",
       "    </tr>\n",
       "    <tr>\n",
       "      <td>26</td>\n",
       "      <td>e27</td>\n",
       "      <td>Manager</td>\n",
       "      <td>11.2</td>\n",
       "      <td>67343</td>\n",
       "    </tr>\n",
       "    <tr>\n",
       "      <td>27</td>\n",
       "      <td>e28</td>\n",
       "      <td>Manager</td>\n",
       "      <td>10.5</td>\n",
       "      <td>69000</td>\n",
       "    </tr>\n",
       "    <tr>\n",
       "      <td>28</td>\n",
       "      <td>e29</td>\n",
       "      <td>Sr.Analyst</td>\n",
       "      <td>12.0</td>\n",
       "      <td>79000</td>\n",
       "    </tr>\n",
       "    <tr>\n",
       "      <td>29</td>\n",
       "      <td>e30</td>\n",
       "      <td>Sr.Manager</td>\n",
       "      <td>13.2</td>\n",
       "      <td>72998</td>\n",
       "    </tr>\n",
       "    <tr>\n",
       "      <td>30</td>\n",
       "      <td>e31</td>\n",
       "      <td>Sr.Analyst</td>\n",
       "      <td>10.2</td>\n",
       "      <td>51000</td>\n",
       "    </tr>\n",
       "    <tr>\n",
       "      <td>31</td>\n",
       "      <td>e32</td>\n",
       "      <td>Sr.Analyst</td>\n",
       "      <td>9.9</td>\n",
       "      <td>54000</td>\n",
       "    </tr>\n",
       "  </tbody>\n",
       "</table>\n",
       "</div>"
      ],
      "text/plain": [
       "   Emp # Designation  Experience  Salary\n",
       "0     e1    Director        15.0   85000\n",
       "1     e2      Jr.Dev         3.0   25000\n",
       "2     e3      Sr.Dev         6.0   36000\n",
       "3     e4      Jr.Dev         2.0   20000\n",
       "4     e5      Sr.Dev         5.0   37000\n",
       "5     e6      Sr.Dev         6.5   36300\n",
       "6     e7      Sr.Dev         5.3   32000\n",
       "7     e8    Director        17.0   89500\n",
       "8     e9     Manager        10.0   63265\n",
       "9    e10  Sr.Analyst         9.5   50500\n",
       "10   e11  Sr.Analyst         9.5   53476\n",
       "11   e12  Sr.Manager        12.0   73240\n",
       "12   e13     Analyst         8.0   44900\n",
       "13   e14     Analyst         8.3   42600\n",
       "14   e15     Analyst         8.1   46000\n",
       "15   e16     Manager        10.2   65000\n",
       "16   e17     Manager         9.8   67200\n",
       "17   e18  Sr.Manager        13.0   78200\n",
       "18   e19  Sr.Analyst         7.5   52890\n",
       "19   e20  Sr.Analyst         8.7   57000\n",
       "20   e21  Sr.Analyst         8.1   58200\n",
       "21   e22  Sr.Analyst         8.0   50500\n",
       "22   e23     Analyst         7.2   42300\n",
       "23   e24     Analyst         7.5   47800\n",
       "24   e25     Analyst         7.7   41000\n",
       "25   e26     Manager        10.0   63333\n",
       "26   e27     Manager        11.2   67343\n",
       "27   e28     Manager        10.5   69000\n",
       "28   e29  Sr.Analyst        12.0   79000\n",
       "29   e30  Sr.Manager        13.2   72998\n",
       "30   e31  Sr.Analyst        10.2   51000\n",
       "31   e32  Sr.Analyst         9.9   54000"
      ]
     },
     "execution_count": 31,
     "metadata": {},
     "output_type": "execute_result"
    }
   ],
   "source": [
    "normal_distrib_df_obj[(normal_distrib_df_obj['Salary'] > 3316) & (normal_distrib_df_obj['Salary'] < 106155) ]"
   ]
  },
  {
   "cell_type": "code",
   "execution_count": 32,
   "metadata": {},
   "outputs": [
    {
     "data": {
      "text/plain": [
       "(32, 4)"
      ]
     },
     "execution_count": 32,
     "metadata": {},
     "output_type": "execute_result"
    }
   ],
   "source": [
    "normal_distrib_df_obj[(normal_distrib_df_obj['Salary'] > 3316) & (normal_distrib_df_obj['Salary'] < 106155) ].shape"
   ]
  },
  {
   "cell_type": "markdown",
   "metadata": {},
   "source": [
    "#### Generate normally distributed data in Numpy "
   ]
  },
  {
   "cell_type": "code",
   "execution_count": 43,
   "metadata": {},
   "outputs": [
    {
     "data": {
      "image/png": "[encoded data removed]",
      "text/plain": [
       "<Figure size 432x288 with 1 Axes>"
      ]
     },
     "metadata": {
      "needs_background": "light"
     },
     "output_type": "display_data"
    }
   ],
   "source": [
    "normal_data = plt.hist(np.random.normal(0,1, 10000))"
   ]
  },
  {
   "cell_type": "markdown",
   "metadata": {},
   "source": [
    "### Skewness"
   ]
  },
  {
   "cell_type": "code",
   "execution_count": 23,
   "metadata": {},
   "outputs": [],
   "source": [
    "from scipy.stats import skew"
   ]
  },
  {
   "cell_type": "code",
   "execution_count": 24,
   "metadata": {},
   "outputs": [
    {
     "name": "stdout",
     "output_type": "stream",
     "text": [
      "0.5545214320216949\n"
     ]
    }
   ],
   "source": [
    "skewness1 = skew([6, 7, 8, 9, 9, 9, 9, 9, 9, 9, 9, 9, 9, 9, 10, 12, 12, 13])\n",
    "print(skewness1)"
   ]
  },
  {
   "cell_type": "code",
   "execution_count": 25,
   "metadata": {},
   "outputs": [
    {
     "name": "stdout",
     "output_type": "stream",
     "text": [
      "0.3380617018914074\n"
     ]
    }
   ],
   "source": [
    "skewness2 = skew([6, 6, 6, 7, 7, 7, 8, 8, 8, 9, 9, 9, 10, 10, 10, 12, 12, 12])\n",
    "print(skewness2)"
   ]
  },
  {
   "cell_type": "markdown",
   "metadata": {},
   "source": [
    "### Kurtosis"
   ]
  },
  {
   "cell_type": "code",
   "execution_count": 26,
   "metadata": {},
   "outputs": [],
   "source": [
    "from scipy.stats import kurtosis"
   ]
  },
  {
   "cell_type": "code",
   "execution_count": 27,
   "metadata": {},
   "outputs": [
    {
     "name": "stdout",
     "output_type": "stream",
     "text": [
      "3.550592348822041\n"
     ]
    }
   ],
   "source": [
    "kurtosis1 = kurtosis([6, 7, 8, 9, 9, 9, 9, 9, 9, 9, 9, 9, 9, 9, 10, 12, 12, 13], fisher=False)\n",
    "print(kurtosis1)"
   ]
  },
  {
   "cell_type": "code",
   "execution_count": 28,
   "metadata": {},
   "outputs": [
    {
     "name": "stdout",
     "output_type": "stream",
     "text": [
      "2.0400000000000005\n"
     ]
    }
   ],
   "source": [
    "kurtosis2 = kurtosis([6, 6, 6, 7, 7, 7, 8, 8, 8, 9, 9, 9, 10, 10, 10, 12, 12, 12], fisher=False)\n",
    "print(kurtosis2)"
   ]
  },
  {
   "cell_type": "code",
   "execution_count": null,
   "metadata": {},
   "outputs": [],
   "source": []
  }
 ],
 "metadata": {
  "kernelspec": {
   "display_name": "Python 3",
   "language": "python",
   "name": "python3"
  },
  "language_info": {
   "codemirror_mode": {
    "name": "ipython",
    "version": 3
   },
   "file_extension": ".py",
   "mimetype": "text/x-python",
   "name": "python",
   "nbconvert_exporter": "python",
   "pygments_lexer": "ipython3",
   "version": "3.7.4"
  }
 },
 "nbformat": 4,
 "nbformat_minor": 2
}
