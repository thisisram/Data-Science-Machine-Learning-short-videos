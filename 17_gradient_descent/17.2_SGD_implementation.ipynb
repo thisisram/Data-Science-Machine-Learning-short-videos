{
 "cells": [
  {
   "cell_type": "markdown",
   "metadata": {},
   "source": [
    "<h1><center>SGDRegressor with Pipeline on \"Salary Dataset\"</center></h1>"
   ]
  },
  {
   "cell_type": "code",
   "execution_count": 1,
   "metadata": {},
   "outputs": [],
   "source": [
    "import pandas as pd\n",
    "import numpy as np\n",
    "import matplotlib.pyplot as plt\n",
    "import seaborn as sns\n",
    "\n",
    "from sklearn.linear_model import SGDRegressor\n",
    "from sklearn.model_selection import ShuffleSplit\n",
    "\n",
    "from sklearn.preprocessing import PolynomialFeatures\n",
    "from sklearn.metrics import r2_score\n",
    "from sklearn.metrics import mean_squared_error\n",
    "\n",
    "from sklearn.pipeline import Pipeline\n",
    "from sklearn.model_selection import GridSearchCV"
   ]
  },
  {
   "cell_type": "code",
   "execution_count": 2,
   "metadata": {},
   "outputs": [],
   "source": [
    "employee_data = pd.read_csv(\"../../Data/regression_employee_data.csv\")"
   ]
  },
  {
   "cell_type": "code",
   "execution_count": 3,
   "metadata": {
    "scrolled": true
   },
   "outputs": [
    {
     "data": {
      "text/html": [
       "<div>\n",
       "<style scoped>\n",
       "    .dataframe tbody tr th:only-of-type {\n",
       "        vertical-align: middle;\n",
       "    }\n",
       "\n",
       "    .dataframe tbody tr th {\n",
       "        vertical-align: top;\n",
       "    }\n",
       "\n",
       "    .dataframe thead th {\n",
       "        text-align: right;\n",
       "    }\n",
       "</style>\n",
       "<table border=\"1\" class=\"dataframe\">\n",
       "  <thead>\n",
       "    <tr style=\"text-align: right;\">\n",
       "      <th></th>\n",
       "      <th>Emp #</th>\n",
       "      <th>Designation</th>\n",
       "      <th>Experience</th>\n",
       "      <th>Salary</th>\n",
       "      <th>AggrBehavScore</th>\n",
       "      <th>ActivityScore</th>\n",
       "      <th>LinesOfCode</th>\n",
       "      <th>Qualification</th>\n",
       "      <th>Degree</th>\n",
       "      <th>YearsOfStudy</th>\n",
       "      <th>EducationalInstitute</th>\n",
       "      <th>Gender</th>\n",
       "      <th>Empl_Band</th>\n",
       "    </tr>\n",
       "  </thead>\n",
       "  <tbody>\n",
       "    <tr>\n",
       "      <th>0</th>\n",
       "      <td>e1</td>\n",
       "      <td>Director</td>\n",
       "      <td>16.0</td>\n",
       "      <td>85861</td>\n",
       "      <td>0.526928</td>\n",
       "      <td>5</td>\n",
       "      <td>1678</td>\n",
       "      <td>Grad</td>\n",
       "      <td>NaN</td>\n",
       "      <td>15.0</td>\n",
       "      <td>clg</td>\n",
       "      <td>M</td>\n",
       "      <td>A</td>\n",
       "    </tr>\n",
       "    <tr>\n",
       "      <th>1</th>\n",
       "      <td>e2</td>\n",
       "      <td>Jr.Dev</td>\n",
       "      <td>3.0</td>\n",
       "      <td>25376</td>\n",
       "      <td>6.420421</td>\n",
       "      <td>18</td>\n",
       "      <td>6082</td>\n",
       "      <td>Grad</td>\n",
       "      <td>Btech</td>\n",
       "      <td>16.0</td>\n",
       "      <td>clg</td>\n",
       "      <td>F</td>\n",
       "      <td>C</td>\n",
       "    </tr>\n",
       "    <tr>\n",
       "      <th>2</th>\n",
       "      <td>e3</td>\n",
       "      <td>Sr.Dev</td>\n",
       "      <td>6.0</td>\n",
       "      <td>38193</td>\n",
       "      <td>2.802337</td>\n",
       "      <td>7</td>\n",
       "      <td>2927</td>\n",
       "      <td>PostGrad</td>\n",
       "      <td>Msc</td>\n",
       "      <td>17.0</td>\n",
       "      <td>unv</td>\n",
       "      <td>M</td>\n",
       "      <td>B</td>\n",
       "    </tr>\n",
       "    <tr>\n",
       "      <th>3</th>\n",
       "      <td>e4</td>\n",
       "      <td>Jr.Dev</td>\n",
       "      <td>3.0</td>\n",
       "      <td>22807</td>\n",
       "      <td>9.374888</td>\n",
       "      <td>23</td>\n",
       "      <td>10249</td>\n",
       "      <td>NaN</td>\n",
       "      <td>Mtech</td>\n",
       "      <td>18.0</td>\n",
       "      <td>NaN</td>\n",
       "      <td>F</td>\n",
       "      <td>C</td>\n",
       "    </tr>\n",
       "    <tr>\n",
       "      <th>4</th>\n",
       "      <td>e5</td>\n",
       "      <td>Sr.Dev</td>\n",
       "      <td>4.0</td>\n",
       "      <td>37624</td>\n",
       "      <td>3.336564</td>\n",
       "      <td>10</td>\n",
       "      <td>3159</td>\n",
       "      <td>NaN</td>\n",
       "      <td>Btech</td>\n",
       "      <td>16.0</td>\n",
       "      <td>NaN</td>\n",
       "      <td>F</td>\n",
       "      <td>B</td>\n",
       "    </tr>\n",
       "  </tbody>\n",
       "</table>\n",
       "</div>"
      ],
      "text/plain": [
       "  Emp # Designation  Experience  Salary  AggrBehavScore  ActivityScore  \\\n",
       "0    e1    Director        16.0   85861        0.526928              5   \n",
       "1    e2      Jr.Dev         3.0   25376        6.420421             18   \n",
       "2    e3      Sr.Dev         6.0   38193        2.802337              7   \n",
       "3    e4      Jr.Dev         3.0   22807        9.374888             23   \n",
       "4    e5      Sr.Dev         4.0   37624        3.336564             10   \n",
       "\n",
       "   LinesOfCode Qualification Degree  YearsOfStudy EducationalInstitute Gender  \\\n",
       "0         1678          Grad    NaN          15.0                  clg      M   \n",
       "1         6082          Grad  Btech          16.0                  clg      F   \n",
       "2         2927      PostGrad    Msc          17.0                  unv      M   \n",
       "3        10249           NaN  Mtech          18.0                  NaN      F   \n",
       "4         3159           NaN  Btech          16.0                  NaN      F   \n",
       "\n",
       "  Empl_Band  \n",
       "0         A  \n",
       "1         C  \n",
       "2         B  \n",
       "3         C  \n",
       "4         B  "
      ]
     },
     "execution_count": 3,
     "metadata": {},
     "output_type": "execute_result"
    }
   ],
   "source": [
    "employee_data.head()"
   ]
  },
  {
   "cell_type": "markdown",
   "metadata": {},
   "source": [
    "#### Split data into Train and Test"
   ]
  },
  {
   "cell_type": "code",
   "execution_count": 4,
   "metadata": {},
   "outputs": [],
   "source": [
    "shuffleSplit = ShuffleSplit(n_splits=1, test_size=0.2, random_state=33)\n",
    "for train_index, test_index in shuffleSplit.split(employee_data):\n",
    "    train_set = employee_data.loc[train_index]\n",
    "    test_set = employee_data.loc[test_index]"
   ]
  },
  {
   "cell_type": "code",
   "execution_count": 5,
   "metadata": {},
   "outputs": [
    {
     "data": {
      "text/plain": [
       "(1209, 13)"
      ]
     },
     "execution_count": 5,
     "metadata": {},
     "output_type": "execute_result"
    }
   ],
   "source": [
    "train_set.shape"
   ]
  },
  {
   "cell_type": "code",
   "execution_count": 6,
   "metadata": {},
   "outputs": [
    {
     "data": {
      "text/plain": [
       "(303, 13)"
      ]
     },
     "execution_count": 6,
     "metadata": {},
     "output_type": "execute_result"
    }
   ],
   "source": [
    "test_set.shape"
   ]
  },
  {
   "cell_type": "markdown",
   "metadata": {},
   "source": [
    "#### Data Pre-Processing"
   ]
  },
  {
   "cell_type": "code",
   "execution_count": 7,
   "metadata": {},
   "outputs": [],
   "source": [
    "cat_list_dict = {'Designation': ['Sr.Dev', 'Analyst', 'Sr.Analyst', 'Manager', 'Jr.Dev', 'Director', 'Sr.Manager'],\n",
    "                'Qualification': ['Grad', 'PostGrad', 'Phd', 'postdoc'],\n",
    "                'Degree': ['Btech', 'Bsc', 'Msc', 'Mba', 'IntMsc', 'B.A', 'Mtech'],\n",
    "                'EducationalInstitute' : ['unv', 'iit', 'clg', 'cunv'],\n",
    "                'Gender': ['M', 'F'],\n",
    "                'Empl_Band': ['B', 'C', 'A']}"
   ]
  },
  {
   "cell_type": "code",
   "execution_count": 8,
   "metadata": {},
   "outputs": [],
   "source": [
    "def convertCategorisToCodes(columns, df):\n",
    "    for column in columns:\n",
    "        df[column] = pd.Categorical(df[column], categories = cat_list_dict[column])\n",
    "        df[column] = df[column].cat.codes"
   ]
  },
  {
   "cell_type": "code",
   "execution_count": 9,
   "metadata": {},
   "outputs": [],
   "source": [
    "YearsOfStudy_impute_value = train_set['YearsOfStudy'].mode().values[0]\n",
    "Qualification_impute_value = train_set['Qualification'].mode().values[0]\n",
    "Degree_impute_value = train_set['Degree'].mode().values[0]\n",
    "EducationalInstitute_impute_value = train_set['EducationalInstitute'].mode().values[0]"
   ]
  },
  {
   "cell_type": "code",
   "execution_count": 10,
   "metadata": {},
   "outputs": [],
   "source": [
    "train_set.loc[train_set[train_set['LinesOfCode'] < 0].index.values, 'LinesOfCode'] = 0\n",
    "train_set.drop('Emp #', axis=1, inplace=True)\n",
    "train_set['YearsOfStudy'].fillna(YearsOfStudy_impute_value, inplace=True)\n",
    "train_set['Qualification'].fillna(Qualification_impute_value, inplace=True)\n",
    "train_set['Degree'].fillna(Degree_impute_value, inplace=True)\n",
    "train_set['EducationalInstitute'].fillna(EducationalInstitute_impute_value, inplace=True)\n",
    "convertCategorisToCodes(train_set.select_dtypes(['object']).columns.values, train_set)"
   ]
  },
  {
   "cell_type": "code",
   "execution_count": 11,
   "metadata": {},
   "outputs": [],
   "source": [
    "train_X = train_set.loc[:, [x for x in train_set.columns if x not in ['Salary']] ]\n",
    "train_y = train_set['Salary']"
   ]
  },
  {
   "cell_type": "markdown",
   "metadata": {},
   "source": [
    "#### SGDRegressor - model"
   ]
  },
  {
   "cell_type": "code",
   "execution_count": 12,
   "metadata": {},
   "outputs": [],
   "source": [
    "from sklearn.preprocessing import StandardScaler, MinMaxScaler\n",
    "\n",
    "sc = StandardScaler()\n",
    "std_train_X = sc.fit_transform(train_X)"
   ]
  },
  {
   "cell_type": "code",
   "execution_count": 13,
   "metadata": {},
   "outputs": [
    {
     "name": "stdout",
     "output_type": "stream",
     "text": [
      "Train R-Square score:  0.6281080908599284\n",
      "Train Root Mean Squared Error :  11780.243649839898\n"
     ]
    }
   ],
   "source": [
    "sgd = SGDRegressor(random_state=42)\n",
    "sgd.fit(std_train_X, train_y)\n",
    "\n",
    "\n",
    "train_prediction = sgd.predict(std_train_X)\n",
    "train_mse = mean_squared_error(train_y, train_prediction)\n",
    "r2_train = r2_score(train_y, train_prediction)\n",
    "\n",
    "print(\"Train R-Square score: \", r2_train)\n",
    "print(\"Train Root Mean Squared Error : \", np.sqrt(train_mse))"
   ]
  },
  {
   "cell_type": "markdown",
   "metadata": {},
   "source": [
    "#### SGDRegressor - Hyperparameter tuning"
   ]
  },
  {
   "cell_type": "markdown",
   "metadata": {},
   "source": [
    "SGDRegressor(loss='squared_loss', penalty='l2', alpha=0.0001, l1_ratio=0.15, fit_intercept=True, max_iter=1000, tol=0.001, shuffle=True, verbose=0, epsilon=0.1, random_state=None, learning_rate='invscaling', eta0=0.01, power_t=0.25, early_stopping=False, validation_fraction=0.1, n_iter_no_change=5, warm_start=False, average=False)[source]"
   ]
  },
  {
   "cell_type": "code",
   "execution_count": 22,
   "metadata": {},
   "outputs": [
    {
     "name": "stdout",
     "output_type": "stream",
     "text": [
      "Train R-Square score:  0.6281080908599284\n",
      "Train Root Mean Squared Error :  11780.243649839898\n"
     ]
    }
   ],
   "source": [
    "##############################################\n",
    "# Do we need max_iter=1000 ?, test it with less number of iterations\n",
    "# Is model converging at eta0=0.01 ? try out playing with eta0 may be a big number 0.1 and a small number 0.001 or 0.0001\n",
    "##############################################\n",
    "sgd = SGDRegressor(random_state=42, eta0=0.01, max_iter=100)\n",
    "sgd.fit(std_train_X, train_y)\n",
    "\n",
    "train_prediction = sgd.predict(std_train_X)\n",
    "train_mse = mean_squared_error(train_y, train_prediction)\n",
    "r2_train = r2_score(train_y, train_prediction)\n",
    "\n",
    "print(\"Train R-Square score: \", r2_train)\n",
    "print(\"Train Root Mean Squared Error : \", np.sqrt(train_mse))"
   ]
  },
  {
   "cell_type": "code",
   "execution_count": 23,
   "metadata": {},
   "outputs": [],
   "source": [
    "test_set.loc[test_set[test_set['LinesOfCode'] < 0].index.values, 'LinesOfCode'] = 0\n",
    "test_set.drop('Emp #', axis=1, inplace=True)\n",
    "test_set['YearsOfStudy'].fillna(YearsOfStudy_impute_value, inplace=True)\n",
    "test_set['Qualification'].fillna(Qualification_impute_value, inplace=True)\n",
    "test_set['Degree'].fillna(Degree_impute_value, inplace=True)\n",
    "test_set['EducationalInstitute'].fillna(EducationalInstitute_impute_value, inplace=True)\n",
    "convertCategorisToCodes(test_set.select_dtypes(['object']).columns.values, test_set)\n",
    "test_X = test_set.loc[:, [x for x in test_set.columns if x not in ['Salary']]]\n",
    "test_y = test_set['Salary']\n",
    "\n",
    "std_test_X = sc.transform(test_X)"
   ]
  },
  {
   "cell_type": "code",
   "execution_count": 24,
   "metadata": {},
   "outputs": [
    {
     "name": "stdout",
     "output_type": "stream",
     "text": [
      "Test R-Square score:  0.660359036619117\n",
      "Test Root Mean Squared Error :  11553.388596344645\n"
     ]
    }
   ],
   "source": [
    "test_prediction = sgd.predict(std_test_X)\n",
    "test_mse = mean_squared_error(test_y, test_prediction)\n",
    "r2_test = r2_score(test_y, test_prediction)\n",
    "\n",
    "print(\"Test R-Square score: \", r2_test)\n",
    "print(\"Test Root Mean Squared Error : \", np.sqrt(test_mse))"
   ]
  },
  {
   "cell_type": "markdown",
   "metadata": {},
   "source": [
    "#### We know that 3rd degree polynomial is the best model, lets do K-Fold Cross Validation using \"GridSearchCV\" Model Selection"
   ]
  },
  {
   "cell_type": "code",
   "execution_count": 28,
   "metadata": {},
   "outputs": [
    {
     "name": "stdout",
     "output_type": "stream",
     "text": [
      "Best params :  {'poly_features__degree': 3, 'sgd_reg__eta0': 0.003842105263157895, 'sgd_reg__max_iter': 300}\n",
      "Best estimator :  Pipeline(memory=None,\n",
      "         steps=[('poly_features',\n",
      "                 PolynomialFeatures(degree=3, include_bias=True,\n",
      "                                    interaction_only=False, order='C')),\n",
      "                ('std_scaling',\n",
      "                 StandardScaler(copy=True, with_mean=True, with_std=True)),\n",
      "                ('sgd_reg',\n",
      "                 SGDRegressor(alpha=0.0001, average=False, early_stopping=False,\n",
      "                              epsilon=0.1, eta0=0.003842105263157895,\n",
      "                              fit_intercept=True, l1_ratio=0.15,\n",
      "                              learning_rate='invscaling', loss='squared_loss',\n",
      "                              max_iter=300, n_iter_no_change=5, penalty='l2',\n",
      "                              power_t=0.25, random_state=42, shuffle=True,\n",
      "                              tol=0.001, validation_fraction=0.1, verbose=0,\n",
      "                              warm_start=False))],\n",
      "         verbose=False)\n"
     ]
    }
   ],
   "source": [
    "import warnings\n",
    "warnings.filterwarnings(\"ignore\")\n",
    "\n",
    "poly_lr_reg_pipeline = Pipeline([\n",
    "        (\"poly_features\", PolynomialFeatures()),\n",
    "        (\"std_scaling\", StandardScaler()),\n",
    "        (\"sgd_reg\", SGDRegressor(random_state=42))\n",
    "    ])\n",
    "\n",
    "param_grid = {\n",
    "        \"poly_features__degree\": [3],\n",
    "        \"sgd_reg__eta0\": np.linspace(0.01, 0.001, 20),\n",
    "        \"sgd_reg__max_iter\": [300, 400]\n",
    "    }\n",
    "\n",
    "grid_search = GridSearchCV(poly_lr_reg_pipeline, param_grid, cv=20, scoring='r2')\n",
    "grid_search.fit(train_X, train_y)\n",
    "\n",
    "print(\"Best params : \", grid_search.best_params_)\n",
    "print(\"Best estimator : \", grid_search.best_estimator_)"
   ]
  },
  {
   "cell_type": "code",
   "execution_count": 29,
   "metadata": {},
   "outputs": [
    {
     "name": "stdout",
     "output_type": "stream",
     "text": [
      "Train R-Square score:  0.9219325751234801\n",
      "Train Root Mean Squared Error :  5397.353150771882\n"
     ]
    }
   ],
   "source": [
    "train_prediction = grid_search.best_estimator_.predict(train_X)\n",
    "train_mse = mean_squared_error(train_y, train_prediction)\n",
    "r2_train = r2_score(train_y, train_prediction)\n",
    "\n",
    "print(\"Train R-Square score: \", r2_train)\n",
    "print(\"Train Root Mean Squared Error : \", np.sqrt(train_mse))"
   ]
  },
  {
   "cell_type": "markdown",
   "metadata": {},
   "source": [
    "#### Apply BEST model to TRAIN and TEST"
   ]
  },
  {
   "cell_type": "code",
   "execution_count": 30,
   "metadata": {},
   "outputs": [
    {
     "name": "stdout",
     "output_type": "stream",
     "text": [
      "Test R-Square score:  0.9133776003342751\n",
      "Test Root Mean Squared Error :  5834.645229649296\n"
     ]
    }
   ],
   "source": [
    "test_prediction = grid_search.best_estimator_.predict(test_X)\n",
    "test_mse = mean_squared_error(test_y, test_prediction)\n",
    "r2_test = r2_score(test_y, test_prediction)\n",
    "\n",
    "print(\"Test R-Square score: \", r2_test)\n",
    "print(\"Test Root Mean Squared Error : \", np.sqrt(test_mse))"
   ]
  },
  {
   "cell_type": "code",
   "execution_count": null,
   "metadata": {},
   "outputs": [],
   "source": []
  }
 ],
 "metadata": {
  "kernelspec": {
   "display_name": "Python 3",
   "language": "python",
   "name": "python3"
  },
  "language_info": {
   "codemirror_mode": {
    "name": "ipython",
    "version": 3
   },
   "file_extension": ".py",
   "mimetype": "text/x-python",
   "name": "python",
   "nbconvert_exporter": "python",
   "pygments_lexer": "ipython3",
   "version": "3.7.4"
  }
 },
 "nbformat": 4,
 "nbformat_minor": 2
}
