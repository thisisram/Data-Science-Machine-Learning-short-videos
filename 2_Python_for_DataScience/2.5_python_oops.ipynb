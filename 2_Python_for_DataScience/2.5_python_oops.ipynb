{
 "cells": [
  {
   "cell_type": "markdown",
   "metadata": {},
   "source": [
    "## Object Oriented Python\n",
    "A encapsulated set of attributes and methods in common is called <b>Class</b>.\n",
    "An <b>Object</b> is an instance of a class in RAM (memory).\n",
    "\n",
    "<b>\\_\\_init\\_\\_()</b> function is a constructor which will be executed when the class is being initiated. By using the \\_\\_init\\_\\_() function the values will be assinged to object properties or the operations that are necessary to do when the object is being created.\n",
    "\n",
    "<b>Global variables</b> can be used across all the methods declared in class and <b>Local variables</b> can be used in the function where it is declared.\n",
    "\n",
    "\"<b>self</b>\" keyword represents the instance of the class. By using it we can access the attributes and methods of the class."
   ]
  },
  {
   "cell_type": "code",
   "execution_count": 7,
   "metadata": {},
   "outputs": [],
   "source": [
    "#Creating Class\n",
    "class Car:\n",
    "    #Global variable\n",
    "    numberOfWeels = 4\n",
    "    \n",
    "    #Constructor\n",
    "    def __init__(self, video_stream, length=10, width=8):\n",
    "        self.length = length\n",
    "        self.width = width\n",
    "        self.video_stream = video_stream\n",
    "    \n",
    "    #Creating Method\n",
    "    def processVideoStream(self):\n",
    "        # Process video stream and return true if object found, false otherwise\n",
    "        if self.video_stream == 1:\n",
    "            return True\n",
    "        else:\n",
    "            return False\n",
    "        \n",
    "    def accelerate(self):\n",
    "        objectFound = self.processVideoStream()\n",
    "        if objectFound:\n",
    "            return \"Object Found, please stop/move-backword\"\n",
    "        else:\n",
    "            return \"Move-Forward\"\n",
    "        \n",
    "    def parkingArea(self):\n",
    "        return \"Alloted Parking Spece of \" + str(self.length * self.width) + \" SFT.\"\n",
    "    \n",
    "    def describeCar(self):\n",
    "        return \"This is just a CAR\""
   ]
  },
  {
   "cell_type": "code",
   "execution_count": 8,
   "metadata": {},
   "outputs": [
    {
     "name": "stdout",
     "output_type": "stream",
     "text": [
      "This is just a CAR\n",
      "Alloted Parking Spece of 80 SFT.\n",
      "Move-Forward\n"
     ]
    }
   ],
   "source": [
    "car1 = Car(0)\n",
    "print(car1.describeCar())\n",
    "print(car1.parkingArea())\n",
    "print(car1.accelerate())"
   ]
  },
  {
   "cell_type": "code",
   "execution_count": 9,
   "metadata": {},
   "outputs": [
    {
     "name": "stdout",
     "output_type": "stream",
     "text": [
      "This is just a CAR\n",
      "Alloted Parking Spece of 200 SFT.\n",
      "Object Found, please stop/move-backword\n"
     ]
    }
   ],
   "source": [
    "car2 = Car(1, 20, 10)\n",
    "print(car2.describeCar())\n",
    "print(car2.parkingArea())\n",
    "print(car2.accelerate())"
   ]
  },
  {
   "cell_type": "markdown",
   "metadata": {},
   "source": [
    "## Inheritance\n",
    "<b>Inheritance</b> is the process where one class inherits all the methods and properties from another class. <b>Parent class</b> is the class being inherited from and <b>Child class</b> is the class that inherits from parent class.\n",
    "Child class will have the access on all the data members and functions defined in the parent class. A child class can also provide its specific implementation to the functions of the parent class.\n"
   ]
  },
  {
   "cell_type": "code",
   "execution_count": 10,
   "metadata": {},
   "outputs": [],
   "source": [
    "class SportsCar(Car):\n",
    "    def describeCar(self):\n",
    "        return \"This is a Sports CAR\""
   ]
  },
  {
   "cell_type": "code",
   "execution_count": 11,
   "metadata": {},
   "outputs": [],
   "source": [
    "class Sedan(Car):\n",
    "    def describeCar(self):\n",
    "        return \"This is a Sedan CAR\""
   ]
  },
  {
   "cell_type": "markdown",
   "metadata": {},
   "source": [
    "### Creating instance of a class (Objects)"
   ]
  },
  {
   "cell_type": "code",
   "execution_count": 14,
   "metadata": {
    "scrolled": true
   },
   "outputs": [
    {
     "name": "stdout",
     "output_type": "stream",
     "text": [
      "This is a Sports CAR\n",
      "Alloted Parking Spece of 40 SFT.\n",
      "Object Found, please stop/move-backword\n"
     ]
    }
   ],
   "source": [
    "sportsCar1 = SportsCar(1, 10, 4)\n",
    "print(sportsCar1.describeCar())\n",
    "print(sportsCar1.parkingArea())\n",
    "print(sportsCar1.accelerate())"
   ]
  },
  {
   "cell_type": "code",
   "execution_count": 15,
   "metadata": {},
   "outputs": [
    {
     "name": "stdout",
     "output_type": "stream",
     "text": [
      "This is a Sports CAR\n",
      "Alloted Parking Spece of 32 SFT.\n",
      "Move-Forward\n"
     ]
    }
   ],
   "source": [
    "sportsCar2= SportsCar(0, 8, 4)\n",
    "print(sportsCar2.describeCar())\n",
    "print(sportsCar2.parkingArea())\n",
    "print(sportsCar2.accelerate())"
   ]
  },
  {
   "cell_type": "code",
   "execution_count": 16,
   "metadata": {},
   "outputs": [
    {
     "name": "stdout",
     "output_type": "stream",
     "text": [
      "This is a Sedan CAR\n",
      "Alloted Parking Spece of 34.0 SFT.\n",
      "Move-Forward\n"
     ]
    }
   ],
   "source": [
    "sedan1 = Sedan(0, 8.5, 4)\n",
    "print(sedan1.describeCar())\n",
    "print(sedan1.parkingArea())\n",
    "print(sedan1.accelerate())"
   ]
  },
  {
   "cell_type": "code",
   "execution_count": 17,
   "metadata": {},
   "outputs": [
    {
     "name": "stdout",
     "output_type": "stream",
     "text": [
      "4\n"
     ]
    }
   ],
   "source": [
    "print(sedan1.numberOfWeels)"
   ]
  },
  {
   "cell_type": "code",
   "execution_count": 12,
   "metadata": {},
   "outputs": [
    {
     "name": "stdout",
     "output_type": "stream",
     "text": [
      "4\n"
     ]
    }
   ],
   "source": [
    "print(Car.numberOfWeels)"
   ]
  }
 ],
 "metadata": {
  "kernelspec": {
   "display_name": "Python 3",
   "language": "python",
   "name": "python3"
  },
  "language_info": {
   "codemirror_mode": {
    "name": "ipython",
    "version": 3
   },
   "file_extension": ".py",
   "mimetype": "text/x-python",
   "name": "python",
   "nbconvert_exporter": "python",
   "pygments_lexer": "ipython3",
   "version": "3.7.4"
  }
 },
 "nbformat": 4,
 "nbformat_minor": 2
}
