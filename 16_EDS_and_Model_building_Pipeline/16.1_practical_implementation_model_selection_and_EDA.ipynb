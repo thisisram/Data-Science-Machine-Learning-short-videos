{
 "cells": [
  {
   "cell_type": "markdown",
   "metadata": {},
   "source": [
    "<h1><center>Rigorous EDA & Pipeline</center></h1>"
   ]
  },
  {
   "cell_type": "code",
   "execution_count": 1,
   "metadata": {},
   "outputs": [],
   "source": [
    "import pandas as pd\n",
    "import numpy as np\n",
    "import matplotlib.pyplot as plt\n",
    "import seaborn as sns\n",
    "\n",
    "from sklearn.linear_model import LinearRegression\n",
    "from sklearn.model_selection import ShuffleSplit\n",
    "\n",
    "from sklearn.preprocessing import PolynomialFeatures\n",
    "from sklearn.metrics import r2_score\n",
    "from sklearn.metrics import mean_squared_error\n",
    "\n",
    "from sklearn.model_selection import cross_validate\n",
    "\n",
    "import scipy.stats as stats\n",
    "import statsmodels.formula.api as smf\n",
    "import statsmodels.stats.multicomp as multi"
   ]
  },
  {
   "cell_type": "code",
   "execution_count": 2,
   "metadata": {},
   "outputs": [],
   "source": [
    "employee_data = pd.read_csv(\"../../Data/regression_employee_data.csv\")"
   ]
  },
  {
   "cell_type": "code",
   "execution_count": 3,
   "metadata": {
    "scrolled": true
   },
   "outputs": [
    {
     "data": {
      "text/html": [
       "<div>\n",
       "<style scoped>\n",
       "    .dataframe tbody tr th:only-of-type {\n",
       "        vertical-align: middle;\n",
       "    }\n",
       "\n",
       "    .dataframe tbody tr th {\n",
       "        vertical-align: top;\n",
       "    }\n",
       "\n",
       "    .dataframe thead th {\n",
       "        text-align: right;\n",
       "    }\n",
       "</style>\n",
       "<table border=\"1\" class=\"dataframe\">\n",
       "  <thead>\n",
       "    <tr style=\"text-align: right;\">\n",
       "      <th></th>\n",
       "      <th>Emp #</th>\n",
       "      <th>Designation</th>\n",
       "      <th>Experience</th>\n",
       "      <th>Salary</th>\n",
       "      <th>AggrBehavScore</th>\n",
       "      <th>ActivityScore</th>\n",
       "      <th>LinesOfCode</th>\n",
       "      <th>Qualification</th>\n",
       "      <th>Degree</th>\n",
       "      <th>YearsOfStudy</th>\n",
       "      <th>EducationalInstitute</th>\n",
       "      <th>Gender</th>\n",
       "      <th>Empl_Band</th>\n",
       "    </tr>\n",
       "  </thead>\n",
       "  <tbody>\n",
       "    <tr>\n",
       "      <th>0</th>\n",
       "      <td>e1</td>\n",
       "      <td>Director</td>\n",
       "      <td>16.0</td>\n",
       "      <td>85861</td>\n",
       "      <td>0.526928</td>\n",
       "      <td>5</td>\n",
       "      <td>1678</td>\n",
       "      <td>Grad</td>\n",
       "      <td>NaN</td>\n",
       "      <td>15.0</td>\n",
       "      <td>clg</td>\n",
       "      <td>M</td>\n",
       "      <td>A</td>\n",
       "    </tr>\n",
       "    <tr>\n",
       "      <th>1</th>\n",
       "      <td>e2</td>\n",
       "      <td>Jr.Dev</td>\n",
       "      <td>3.0</td>\n",
       "      <td>25376</td>\n",
       "      <td>6.420421</td>\n",
       "      <td>18</td>\n",
       "      <td>6082</td>\n",
       "      <td>Grad</td>\n",
       "      <td>Btech</td>\n",
       "      <td>16.0</td>\n",
       "      <td>clg</td>\n",
       "      <td>F</td>\n",
       "      <td>C</td>\n",
       "    </tr>\n",
       "    <tr>\n",
       "      <th>2</th>\n",
       "      <td>e3</td>\n",
       "      <td>Sr.Dev</td>\n",
       "      <td>6.0</td>\n",
       "      <td>38193</td>\n",
       "      <td>2.802337</td>\n",
       "      <td>7</td>\n",
       "      <td>2927</td>\n",
       "      <td>PostGrad</td>\n",
       "      <td>Msc</td>\n",
       "      <td>17.0</td>\n",
       "      <td>unv</td>\n",
       "      <td>M</td>\n",
       "      <td>B</td>\n",
       "    </tr>\n",
       "    <tr>\n",
       "      <th>3</th>\n",
       "      <td>e4</td>\n",
       "      <td>Jr.Dev</td>\n",
       "      <td>3.0</td>\n",
       "      <td>22807</td>\n",
       "      <td>9.374888</td>\n",
       "      <td>23</td>\n",
       "      <td>10249</td>\n",
       "      <td>NaN</td>\n",
       "      <td>Mtech</td>\n",
       "      <td>18.0</td>\n",
       "      <td>NaN</td>\n",
       "      <td>F</td>\n",
       "      <td>C</td>\n",
       "    </tr>\n",
       "    <tr>\n",
       "      <th>4</th>\n",
       "      <td>e5</td>\n",
       "      <td>Sr.Dev</td>\n",
       "      <td>4.0</td>\n",
       "      <td>37624</td>\n",
       "      <td>3.336564</td>\n",
       "      <td>10</td>\n",
       "      <td>3159</td>\n",
       "      <td>NaN</td>\n",
       "      <td>Btech</td>\n",
       "      <td>16.0</td>\n",
       "      <td>NaN</td>\n",
       "      <td>F</td>\n",
       "      <td>B</td>\n",
       "    </tr>\n",
       "  </tbody>\n",
       "</table>\n",
       "</div>"
      ],
      "text/plain": [
       "  Emp # Designation  Experience  Salary  AggrBehavScore  ActivityScore  \\\n",
       "0    e1    Director        16.0   85861        0.526928              5   \n",
       "1    e2      Jr.Dev         3.0   25376        6.420421             18   \n",
       "2    e3      Sr.Dev         6.0   38193        2.802337              7   \n",
       "3    e4      Jr.Dev         3.0   22807        9.374888             23   \n",
       "4    e5      Sr.Dev         4.0   37624        3.336564             10   \n",
       "\n",
       "   LinesOfCode Qualification Degree  YearsOfStudy EducationalInstitute Gender  \\\n",
       "0         1678          Grad    NaN          15.0                  clg      M   \n",
       "1         6082          Grad  Btech          16.0                  clg      F   \n",
       "2         2927      PostGrad    Msc          17.0                  unv      M   \n",
       "3        10249           NaN  Mtech          18.0                  NaN      F   \n",
       "4         3159           NaN  Btech          16.0                  NaN      F   \n",
       "\n",
       "  Empl_Band  \n",
       "0         A  \n",
       "1         C  \n",
       "2         B  \n",
       "3         C  \n",
       "4         B  "
      ]
     },
     "execution_count": 3,
     "metadata": {},
     "output_type": "execute_result"
    }
   ],
   "source": [
    "employee_data.head()"
   ]
  },
  {
   "cell_type": "markdown",
   "metadata": {},
   "source": [
    "#### Split data into Train and Test"
   ]
  },
  {
   "cell_type": "code",
   "execution_count": 4,
   "metadata": {},
   "outputs": [],
   "source": [
    "shuffleSplit = ShuffleSplit(n_splits=1, test_size=0.2, random_state=20)\n",
    "for train_index, test_index in shuffleSplit.split(employee_data):\n",
    "    train_set = employee_data.loc[train_index]\n",
    "    test_set = employee_data.loc[test_index]"
   ]
  },
  {
   "cell_type": "code",
   "execution_count": 5,
   "metadata": {},
   "outputs": [
    {
     "data": {
      "text/plain": [
       "(1209, 13)"
      ]
     },
     "execution_count": 5,
     "metadata": {},
     "output_type": "execute_result"
    }
   ],
   "source": [
    "train_set.shape"
   ]
  },
  {
   "cell_type": "code",
   "execution_count": 6,
   "metadata": {},
   "outputs": [
    {
     "data": {
      "text/plain": [
       "(303, 13)"
      ]
     },
     "execution_count": 6,
     "metadata": {},
     "output_type": "execute_result"
    }
   ],
   "source": [
    "test_set.shape"
   ]
  },
  {
   "cell_type": "markdown",
   "metadata": {},
   "source": [
    "#### Data Pre-Processing"
   ]
  },
  {
   "cell_type": "code",
   "execution_count": 7,
   "metadata": {},
   "outputs": [],
   "source": [
    "YearsOfStudy_impute_value = train_set['YearsOfStudy'].mode().values[0]\n",
    "Qualification_impute_value = train_set['Qualification'].mode().values[0]\n",
    "Degree_impute_value = train_set['Degree'].mode().values[0]\n",
    "EducationalInstitute_impute_value = train_set['EducationalInstitute'].mode().values[0]"
   ]
  },
  {
   "cell_type": "code",
   "execution_count": 8,
   "metadata": {},
   "outputs": [],
   "source": [
    "def convertCategorisToCodes(columns, df):\n",
    "    for column in columns:\n",
    "        df[column] = pd.Categorical(df[column], categories = cat_list_dict[column])\n",
    "        df[column] = df[column].cat.codes"
   ]
  },
  {
   "cell_type": "code",
   "execution_count": 9,
   "metadata": {},
   "outputs": [],
   "source": [
    "cat_list_dict = {'Designation': ['Sr.Dev', 'Analyst', 'Sr.Analyst', 'Manager', 'Jr.Dev', 'Director', 'Sr.Manager'],\n",
    "                'Qualification': ['Grad', 'PostGrad', 'Phd', 'postdoc'],\n",
    "                'Degree': ['Btech', 'Bsc', 'Msc', 'Mba', 'IntMsc', 'B.A', 'Mtech'],\n",
    "                'EducationalInstitute' : ['unv', 'iit', 'clg', 'cunv'],\n",
    "                'Gender': ['M', 'F'],\n",
    "                'Empl_Band': ['B', 'C', 'A']}"
   ]
  },
  {
   "cell_type": "code",
   "execution_count": 10,
   "metadata": {},
   "outputs": [],
   "source": [
    "train_set.loc[train_set[train_set['LinesOfCode'] < 0].index.values, 'LinesOfCode'] = 0\n",
    "train_set.drop('Emp #', axis=1, inplace=True)\n",
    "train_set['YearsOfStudy'].fillna(YearsOfStudy_impute_value, inplace=True)\n",
    "train_set['Qualification'].fillna(Qualification_impute_value, inplace=True)\n",
    "train_set['Degree'].fillna(Degree_impute_value, inplace=True)\n",
    "train_set['EducationalInstitute'].fillna(EducationalInstitute_impute_value, inplace=True)"
   ]
  },
  {
   "cell_type": "markdown",
   "metadata": {},
   "source": [
    "### Hypothesis testing (ANOVA) to make Label Encoding vs One-Hot Encoding"
   ]
  },
  {
   "cell_type": "markdown",
   "metadata": {},
   "source": [
    "#### Is \"Designation\" strongly related to \"Salary\" (ANOVA Test)\n",
    "* **Null Hypothesis (H0):** \"Designation\" of the employee and \"Salary\" are independent\n",
    "* **Alternate Hypothesis (H1):** \"Designation\" of the employee and \"Salary\" are not independent(dependent)."
   ]
  },
  {
   "cell_type": "code",
   "execution_count": 11,
   "metadata": {},
   "outputs": [
    {
     "data": {
      "text/plain": [
       "(array([0, 1, 2, 3, 4, 5, 6]), <a list of 7 Text xticklabel objects>)"
      ]
     },
     "execution_count": 11,
     "metadata": {},
     "output_type": "execute_result"
    },
    {
     "data": {
      "image/png": "[encoded data removed]",
      "text/plain": [
       "<Figure size 360x360 with 1 Axes>"
      ]
     },
     "metadata": {
      "needs_background": "light"
     },
     "output_type": "display_data"
    }
   ],
   "source": [
    "sns.catplot(data = train_set, x='Designation', y= 'Salary', kind='bar')\n",
    "plt.xlabel(\"Designation\")\n",
    "plt.ylabel(\"Salary\")\n",
    "plt.xticks(rotation=90)"
   ]
  },
  {
   "cell_type": "code",
   "execution_count": 12,
   "metadata": {},
   "outputs": [
    {
     "data": {
      "text/plain": [
       "<matplotlib.axes._subplots.AxesSubplot at 0x26a21981e88>"
      ]
     },
     "execution_count": 12,
     "metadata": {},
     "output_type": "execute_result"
    },
    {
     "data": {
      "image/png": "[encoded data removed]",
      "text/plain": [
       "<Figure size 432x288 with 1 Axes>"
      ]
     },
     "metadata": {
      "needs_background": "light"
     },
     "output_type": "display_data"
    }
   ],
   "source": [
    "# to get an idea on outliers\n",
    "train_set.boxplot('Salary', by='Designation')"
   ]
  },
  {
   "cell_type": "code",
   "execution_count": 13,
   "metadata": {},
   "outputs": [
    {
     "name": "stdout",
     "output_type": "stream",
     "text": [
      "          Multiple Comparison of Means - Tukey HSD, FWER=0.05          \n",
      "=======================================================================\n",
      "  group1     group2     meandiff  p-adj     lower       upper    reject\n",
      "-----------------------------------------------------------------------\n",
      "   Analyst   Director  47968.5185  0.001  42999.6629   52937.374   True\n",
      "   Analyst     Jr.Dev -18973.2553  0.001 -22581.3225 -15365.1881   True\n",
      "   Analyst    Manager  21409.9124  0.001   16878.297  25941.5278   True\n",
      "   Analyst Sr.Analyst  13700.6497  0.001   9916.5112  17484.7882   True\n",
      "   Analyst     Sr.Dev    -2741.38 0.2045  -6132.1871    649.4271  False\n",
      "   Analyst Sr.Manager   30421.774  0.001  25027.6384  35815.9096   True\n",
      "  Director     Jr.Dev -66941.7737  0.001 -71203.4401 -62680.1074   True\n",
      "  Director    Manager  -26558.606  0.001 -31626.0699 -21491.1422   True\n",
      "  Director Sr.Analyst -34267.8687  0.001 -38679.5981 -29856.1394   True\n",
      "  Director     Sr.Dev -50709.8984  0.001 -54789.2641 -46630.5328   True\n",
      "  Director Sr.Manager -17546.7444  0.001 -23398.2698  -11695.219   True\n",
      "    Jr.Dev    Manager  40383.1677  0.001  36640.4663   44125.869   True\n",
      "    Jr.Dev Sr.Analyst   32673.905  0.001  29882.4933  35465.3167   True\n",
      "    Jr.Dev     Sr.Dev  16231.8753  0.001  14002.5597  18461.1909   True\n",
      "    Jr.Dev Sr.Manager  49395.0293  0.001  44644.3479  54145.7107   True\n",
      "   Manager Sr.Analyst  -7709.2627  0.001 -11621.9816  -3796.5438   True\n",
      "   Manager     Sr.Dev -24151.2924  0.001 -27685.0209 -20617.5639   True\n",
      "   Manager Sr.Manager   9011.8616  0.001   3526.7579  14496.9654   True\n",
      "Sr.Analyst     Sr.Dev -16442.0297  0.001 -18946.3067 -13937.7527   True\n",
      "Sr.Analyst Sr.Manager  16721.1243  0.001  11835.3768  21606.8719   True\n",
      "    Sr.Dev Sr.Manager   33163.154  0.001  28575.3007  37751.0073   True\n",
      "-----------------------------------------------------------------------\n"
     ]
    }
   ],
   "source": [
    "mc1 = multi.MultiComparison(train_set['Salary'], train_set['Designation'])\n",
    "res1 = mc1.tukeyhsd()\n",
    "print(res1.summary())"
   ]
  },
  {
   "cell_type": "markdown",
   "metadata": {},
   "source": [
    "#### As majority of the pairs giving True, we go with Lable Encding(expect \"Analyst\", \"Sr.Dev \" groups)."
   ]
  },
  {
   "cell_type": "code",
   "execution_count": 14,
   "metadata": {},
   "outputs": [
    {
     "data": {
      "text/html": [
       "<div>\n",
       "<style scoped>\n",
       "    .dataframe tbody tr th:only-of-type {\n",
       "        vertical-align: middle;\n",
       "    }\n",
       "\n",
       "    .dataframe tbody tr th {\n",
       "        vertical-align: top;\n",
       "    }\n",
       "\n",
       "    .dataframe thead th {\n",
       "        text-align: right;\n",
       "    }\n",
       "</style>\n",
       "<table border=\"1\" class=\"dataframe\">\n",
       "  <thead>\n",
       "    <tr style=\"text-align: right;\">\n",
       "      <th></th>\n",
       "      <th>Designation_Analyst</th>\n",
       "      <th>Designation_Sr.Analyst</th>\n",
       "      <th>Designation_Manager</th>\n",
       "      <th>Designation_Jr.Dev</th>\n",
       "      <th>Designation_Director</th>\n",
       "      <th>Designation_Sr.Manager</th>\n",
       "    </tr>\n",
       "  </thead>\n",
       "  <tbody>\n",
       "    <tr>\n",
       "      <th>321</th>\n",
       "      <td>0</td>\n",
       "      <td>0</td>\n",
       "      <td>0</td>\n",
       "      <td>0</td>\n",
       "      <td>0</td>\n",
       "      <td>0</td>\n",
       "    </tr>\n",
       "    <tr>\n",
       "      <th>1254</th>\n",
       "      <td>0</td>\n",
       "      <td>0</td>\n",
       "      <td>0</td>\n",
       "      <td>0</td>\n",
       "      <td>0</td>\n",
       "      <td>0</td>\n",
       "    </tr>\n",
       "    <tr>\n",
       "      <th>71</th>\n",
       "      <td>0</td>\n",
       "      <td>0</td>\n",
       "      <td>0</td>\n",
       "      <td>0</td>\n",
       "      <td>0</td>\n",
       "      <td>0</td>\n",
       "    </tr>\n",
       "    <tr>\n",
       "      <th>1167</th>\n",
       "      <td>0</td>\n",
       "      <td>0</td>\n",
       "      <td>0</td>\n",
       "      <td>0</td>\n",
       "      <td>0</td>\n",
       "      <td>0</td>\n",
       "    </tr>\n",
       "    <tr>\n",
       "      <th>1193</th>\n",
       "      <td>0</td>\n",
       "      <td>0</td>\n",
       "      <td>0</td>\n",
       "      <td>0</td>\n",
       "      <td>0</td>\n",
       "      <td>1</td>\n",
       "    </tr>\n",
       "  </tbody>\n",
       "</table>\n",
       "</div>"
      ],
      "text/plain": [
       "      Designation_Analyst  Designation_Sr.Analyst  Designation_Manager  \\\n",
       "321                     0                       0                    0   \n",
       "1254                    0                       0                    0   \n",
       "71                      0                       0                    0   \n",
       "1167                    0                       0                    0   \n",
       "1193                    0                       0                    0   \n",
       "\n",
       "      Designation_Jr.Dev  Designation_Director  Designation_Sr.Manager  \n",
       "321                    0                     0                       0  \n",
       "1254                   0                     0                       0  \n",
       "71                     0                     0                       0  \n",
       "1167                   0                     0                       0  \n",
       "1193                   0                     0                       1  "
      ]
     },
     "execution_count": 14,
     "metadata": {},
     "output_type": "execute_result"
    }
   ],
   "source": [
    "#convertCategorisToCodes(['Designation'], train_set)\n",
    "\n",
    "train_set[\"Designation\"] = pd.Categorical(train_set[\"Designation\"], categories = cat_list_dict[\"Designation\"])\n",
    "\n",
    "train_set = pd.get_dummies(train_set, columns=[\"Designation\"], prefix=[\"Designation\"], drop_first=True)\n",
    "train_set[[col for col in train_set.columns if 'Designation' in col ]].head()"
   ]
  },
  {
   "cell_type": "markdown",
   "metadata": {},
   "source": [
    "#### Is \"Gender\" strongly related to \"Salary\" (ANOVA Test)\n",
    "* **Null Hypothesis (H0):** \"Gender\" of the employee and \"Salary\" are independent\n",
    "* **Alternate Hypothesis (H1):** \"Gender\" of the employee and \"Salary\" are not independent(dependent)."
   ]
  },
  {
   "cell_type": "code",
   "execution_count": 15,
   "metadata": {},
   "outputs": [
    {
     "data": {
      "text/plain": [
       "(array([0, 1]), <a list of 2 Text xticklabel objects>)"
      ]
     },
     "execution_count": 15,
     "metadata": {},
     "output_type": "execute_result"
    },
    {
     "data": {
      "image/png": "[encoded data removed]",
      "text/plain": [
       "<Figure size 360x360 with 1 Axes>"
      ]
     },
     "metadata": {
      "needs_background": "light"
     },
     "output_type": "display_data"
    }
   ],
   "source": [
    "sns.catplot(data = train_set, x='Gender', y= 'Salary', kind='bar')\n",
    "plt.xlabel(\"Gender\")\n",
    "plt.ylabel(\"Salary\")\n",
    "plt.xticks(rotation=90)"
   ]
  },
  {
   "cell_type": "code",
   "execution_count": 16,
   "metadata": {},
   "outputs": [
    {
     "data": {
      "text/plain": [
       "<matplotlib.axes._subplots.AxesSubplot at 0x26a21b38188>"
      ]
     },
     "execution_count": 16,
     "metadata": {},
     "output_type": "execute_result"
    },
    {
     "data": {
      "image/png": "[encoded data removed]",
      "text/plain": [
       "<Figure size 432x288 with 1 Axes>"
      ]
     },
     "metadata": {
      "needs_background": "light"
     },
     "output_type": "display_data"
    }
   ],
   "source": [
    "# to get an idea on outliers\n",
    "train_set.boxplot('Salary', by='Gender')"
   ]
  },
  {
   "cell_type": "code",
   "execution_count": 17,
   "metadata": {},
   "outputs": [
    {
     "data": {
      "text/html": [
       "<table class=\"simpletable\">\n",
       "<caption>OLS Regression Results</caption>\n",
       "<tr>\n",
       "  <th>Dep. Variable:</th>         <td>Salary</td>      <th>  R-squared:         </th> <td>   0.019</td> \n",
       "</tr>\n",
       "<tr>\n",
       "  <th>Model:</th>                   <td>OLS</td>       <th>  Adj. R-squared:    </th> <td>   0.019</td> \n",
       "</tr>\n",
       "<tr>\n",
       "  <th>Method:</th>             <td>Least Squares</td>  <th>  F-statistic:       </th> <td>   23.90</td> \n",
       "</tr>\n",
       "<tr>\n",
       "  <th>Date:</th>             <td>Thu, 20 Feb 2020</td> <th>  Prob (F-statistic):</th> <td>1.15e-06</td> \n",
       "</tr>\n",
       "<tr>\n",
       "  <th>Time:</th>                 <td>16:14:39</td>     <th>  Log-Likelihood:    </th> <td> -13640.</td> \n",
       "</tr>\n",
       "<tr>\n",
       "  <th>No. Observations:</th>      <td>  1209</td>      <th>  AIC:               </th> <td>2.728e+04</td>\n",
       "</tr>\n",
       "<tr>\n",
       "  <th>Df Residuals:</th>          <td>  1207</td>      <th>  BIC:               </th> <td>2.729e+04</td>\n",
       "</tr>\n",
       "<tr>\n",
       "  <th>Df Model:</th>              <td>     1</td>      <th>                     </th>     <td> </td>    \n",
       "</tr>\n",
       "<tr>\n",
       "  <th>Covariance Type:</th>      <td>nonrobust</td>    <th>                     </th>     <td> </td>    \n",
       "</tr>\n",
       "</table>\n",
       "<table class=\"simpletable\">\n",
       "<tr>\n",
       "         <td></td>           <th>coef</th>     <th>std err</th>      <th>t</th>      <th>P>|t|</th>  <th>[0.025</th>    <th>0.975]</th>  \n",
       "</tr>\n",
       "<tr>\n",
       "  <th>Intercept</th>      <td> 4.297e+04</td> <td>  838.366</td> <td>   51.250</td> <td> 0.000</td> <td> 4.13e+04</td> <td> 4.46e+04</td>\n",
       "</tr>\n",
       "<tr>\n",
       "  <th>C(Gender)[T.M]</th> <td> 5452.5848</td> <td> 1115.414</td> <td>    4.888</td> <td> 0.000</td> <td> 3264.218</td> <td> 7640.951</td>\n",
       "</tr>\n",
       "</table>\n",
       "<table class=\"simpletable\">\n",
       "<tr>\n",
       "  <th>Omnibus:</th>       <td>111.714</td> <th>  Durbin-Watson:     </th> <td>   1.912</td>\n",
       "</tr>\n",
       "<tr>\n",
       "  <th>Prob(Omnibus):</th> <td> 0.000</td>  <th>  Jarque-Bera (JB):  </th> <td> 143.424</td>\n",
       "</tr>\n",
       "<tr>\n",
       "  <th>Skew:</th>          <td> 0.844</td>  <th>  Prob(JB):          </th> <td>7.17e-32</td>\n",
       "</tr>\n",
       "<tr>\n",
       "  <th>Kurtosis:</th>      <td> 2.983</td>  <th>  Cond. No.          </th> <td>    2.80</td>\n",
       "</tr>\n",
       "</table><br/><br/>Warnings:<br/>[1] Standard Errors assume that the covariance matrix of the errors is correctly specified."
      ],
      "text/plain": [
       "<class 'statsmodels.iolib.summary.Summary'>\n",
       "\"\"\"\n",
       "                            OLS Regression Results                            \n",
       "==============================================================================\n",
       "Dep. Variable:                 Salary   R-squared:                       0.019\n",
       "Model:                            OLS   Adj. R-squared:                  0.019\n",
       "Method:                 Least Squares   F-statistic:                     23.90\n",
       "Date:                Thu, 20 Feb 2020   Prob (F-statistic):           1.15e-06\n",
       "Time:                        16:14:39   Log-Likelihood:                -13640.\n",
       "No. Observations:                1209   AIC:                         2.728e+04\n",
       "Df Residuals:                    1207   BIC:                         2.729e+04\n",
       "Df Model:                           1                                         \n",
       "Covariance Type:            nonrobust                                         \n",
       "==================================================================================\n",
       "                     coef    std err          t      P>|t|      [0.025      0.975]\n",
       "----------------------------------------------------------------------------------\n",
       "Intercept       4.297e+04    838.366     51.250      0.000    4.13e+04    4.46e+04\n",
       "C(Gender)[T.M]  5452.5848   1115.414      4.888      0.000    3264.218    7640.951\n",
       "==============================================================================\n",
       "Omnibus:                      111.714   Durbin-Watson:                   1.912\n",
       "Prob(Omnibus):                  0.000   Jarque-Bera (JB):              143.424\n",
       "Skew:                           0.844   Prob(JB):                     7.17e-32\n",
       "Kurtosis:                       2.983   Cond. No.                         2.80\n",
       "==============================================================================\n",
       "\n",
       "Warnings:\n",
       "[1] Standard Errors assume that the covariance matrix of the errors is correctly specified.\n",
       "\"\"\""
      ]
     },
     "execution_count": 17,
     "metadata": {},
     "output_type": "execute_result"
    }
   ],
   "source": [
    "ols = smf.ols(formula='Salary ~ C(Gender)', data=train_set).fit()\n",
    "ols.summary()"
   ]
  },
  {
   "cell_type": "markdown",
   "metadata": {},
   "source": [
    "####  P-value 0.00000115 < 0.05 hence we reject null hypothesis. Let's go with Label Encoding."
   ]
  },
  {
   "cell_type": "code",
   "execution_count": 18,
   "metadata": {},
   "outputs": [],
   "source": [
    "convertCategorisToCodes(['Gender'], train_set)"
   ]
  },
  {
   "cell_type": "markdown",
   "metadata": {},
   "source": [
    "#### Is \"Qualification\" strongly related to \"Salary\" (ANOVA Test)\n",
    "* **Null Hypothesis (H0):** \"Qualification\" of the employee and \"Salary\" are independent\n",
    "* **Alternate Hypothesis (H1):** \"Qualification\" of the employee and \"Salary\" are not independent(dependent)."
   ]
  },
  {
   "cell_type": "code",
   "execution_count": 19,
   "metadata": {},
   "outputs": [
    {
     "data": {
      "text/plain": [
       "(array([0, 1, 2, 3]), <a list of 4 Text xticklabel objects>)"
      ]
     },
     "execution_count": 19,
     "metadata": {},
     "output_type": "execute_result"
    },
    {
     "data": {
      "image/png": "[encoded data removed]",
      "text/plain": [
       "<Figure size 360x360 with 1 Axes>"
      ]
     },
     "metadata": {
      "needs_background": "light"
     },
     "output_type": "display_data"
    }
   ],
   "source": [
    "sns.catplot(data = train_set, x='Qualification', y= 'Salary', kind='bar')\n",
    "plt.xlabel(\"Qualification\")\n",
    "plt.ylabel(\"Salary\")\n",
    "plt.xticks(rotation=90)"
   ]
  },
  {
   "cell_type": "code",
   "execution_count": 20,
   "metadata": {},
   "outputs": [
    {
     "data": {
      "text/plain": [
       "<matplotlib.axes._subplots.AxesSubplot at 0x26a220cf388>"
      ]
     },
     "execution_count": 20,
     "metadata": {},
     "output_type": "execute_result"
    },
    {
     "data": {
      "image/png": "[encoded data removed]",
      "text/plain": [
       "<Figure size 432x288 with 1 Axes>"
      ]
     },
     "metadata": {
      "needs_background": "light"
     },
     "output_type": "display_data"
    }
   ],
   "source": [
    "# to get an idea on outliers\n",
    "train_set.boxplot('Salary', by='Qualification')"
   ]
  },
  {
   "cell_type": "code",
   "execution_count": 21,
   "metadata": {},
   "outputs": [
    {
     "name": "stdout",
     "output_type": "stream",
     "text": [
      "       Multiple Comparison of Means - Tukey HSD, FWER=0.05       \n",
      "=================================================================\n",
      " group1   group2   meandiff  p-adj     lower      upper    reject\n",
      "-----------------------------------------------------------------\n",
      "    Grad      Phd   7985.716 0.3696  -4712.0465 20683.4785  False\n",
      "    Grad PostGrad  -316.1309    0.9  -3567.9338   2935.672  False\n",
      "    Grad  postdoc 28409.0716  0.001   18880.261 37937.8821   True\n",
      "     Phd PostGrad -8301.8469  0.348 -21197.5163  4593.8224  False\n",
      "     Phd  postdoc 20423.3556 0.0047    4722.327 36124.3841   True\n",
      "PostGrad  postdoc 28725.2025  0.001  18934.2196 38516.1854   True\n",
      "-----------------------------------------------------------------\n"
     ]
    }
   ],
   "source": [
    "mc2 = multi.MultiComparison(train_set['Salary'], train_set['Qualification'])\n",
    "res2 = mc2.tukeyhsd()\n",
    "print(res2.summary())"
   ]
  },
  {
   "cell_type": "markdown",
   "metadata": {},
   "source": [
    "#### some pairs are strongly related and some not, os better go with One-Hot Encoding"
   ]
  },
  {
   "cell_type": "code",
   "execution_count": 22,
   "metadata": {},
   "outputs": [
    {
     "data": {
      "text/html": [
       "<div>\n",
       "<style scoped>\n",
       "    .dataframe tbody tr th:only-of-type {\n",
       "        vertical-align: middle;\n",
       "    }\n",
       "\n",
       "    .dataframe tbody tr th {\n",
       "        vertical-align: top;\n",
       "    }\n",
       "\n",
       "    .dataframe thead th {\n",
       "        text-align: right;\n",
       "    }\n",
       "</style>\n",
       "<table border=\"1\" class=\"dataframe\">\n",
       "  <thead>\n",
       "    <tr style=\"text-align: right;\">\n",
       "      <th></th>\n",
       "      <th>Qualification_PostGrad</th>\n",
       "      <th>Qualification_Phd</th>\n",
       "      <th>Qualification_postdoc</th>\n",
       "    </tr>\n",
       "  </thead>\n",
       "  <tbody>\n",
       "    <tr>\n",
       "      <th>321</th>\n",
       "      <td>0</td>\n",
       "      <td>0</td>\n",
       "      <td>0</td>\n",
       "    </tr>\n",
       "    <tr>\n",
       "      <th>1254</th>\n",
       "      <td>0</td>\n",
       "      <td>0</td>\n",
       "      <td>0</td>\n",
       "    </tr>\n",
       "    <tr>\n",
       "      <th>71</th>\n",
       "      <td>1</td>\n",
       "      <td>0</td>\n",
       "      <td>0</td>\n",
       "    </tr>\n",
       "    <tr>\n",
       "      <th>1167</th>\n",
       "      <td>0</td>\n",
       "      <td>0</td>\n",
       "      <td>0</td>\n",
       "    </tr>\n",
       "    <tr>\n",
       "      <th>1193</th>\n",
       "      <td>0</td>\n",
       "      <td>0</td>\n",
       "      <td>0</td>\n",
       "    </tr>\n",
       "  </tbody>\n",
       "</table>\n",
       "</div>"
      ],
      "text/plain": [
       "      Qualification_PostGrad  Qualification_Phd  Qualification_postdoc\n",
       "321                        0                  0                      0\n",
       "1254                       0                  0                      0\n",
       "71                         1                  0                      0\n",
       "1167                       0                  0                      0\n",
       "1193                       0                  0                      0"
      ]
     },
     "execution_count": 22,
     "metadata": {},
     "output_type": "execute_result"
    }
   ],
   "source": [
    "train_set[\"Qualification\"] = pd.Categorical(train_set[\"Qualification\"], categories = cat_list_dict[\"Qualification\"])\n",
    "\n",
    "train_set = pd.get_dummies(train_set, columns=[\"Qualification\"], prefix=[\"Qualification\"], drop_first=True)\n",
    "train_set[[col for col in train_set.columns if 'Qualification' in col ]].head()"
   ]
  },
  {
   "cell_type": "markdown",
   "metadata": {},
   "source": [
    "#### Is \"Degree\" strongly related to \"Salary\" (ANOVA Test)\n",
    "* **Null Hypothesis (H0):** \"Degree\" of the employee and \"Salary\" are independent\n",
    "* **Alternate Hypothesis (H1):** \"Degree\" of the employee and \"Salary\" are not independent(dependent)."
   ]
  },
  {
   "cell_type": "code",
   "execution_count": 23,
   "metadata": {},
   "outputs": [
    {
     "name": "stdout",
     "output_type": "stream",
     "text": [
      "     Multiple Comparison of Means - Tukey HSD, FWER=0.05      \n",
      "==============================================================\n",
      "group1 group2   meandiff  p-adj     lower      upper    reject\n",
      "--------------------------------------------------------------\n",
      "   B.A    Bsc  -4125.6795    0.9 -26989.3186 18737.9596  False\n",
      "   B.A  Btech  -4042.7998    0.9 -20002.0554 11916.4558  False\n",
      "   B.A IntMsc -17075.3795 0.1099    -36039.8   1889.041  False\n",
      "   B.A    Mba  -5300.0128    0.9  -28163.652 17563.6263  False\n",
      "   B.A    Msc   -2536.653    0.9 -19506.7891 14433.4832  False\n",
      "   B.A  Mtech  -3696.3749    0.9 -20066.9666 12674.2167  False\n",
      "   Bsc  Btech     82.8797    0.9 -16518.5564 16684.3158  False\n",
      "   Bsc IntMsc    -12949.7  0.443 -32457.6236  6558.2236  False\n",
      "   Bsc    Mba  -1174.3333    0.9 -24490.7618 22142.0951  False\n",
      "   Bsc    Msc   1589.0265    0.9 -15986.3927 19164.4457  False\n",
      "   Bsc  Mtech    429.3045    0.9 -16567.9338 17426.5429  False\n",
      " Btech IntMsc -13032.5797 0.0055 -23639.6966 -2425.4628   True\n",
      " Btech    Mba   -1257.213    0.9 -17858.6491 15344.2231  False\n",
      " Btech    Msc   1506.1468    0.9   -4885.035  7897.3287  False\n",
      " Btech  Mtech    346.4249    0.9  -4220.6263   4913.476  False\n",
      "IntMsc    Mba  11775.3667 0.5515   -7732.557 31283.2903  False\n",
      "IntMsc    Msc  14538.7265 0.0071    2464.017  26613.436   True\n",
      "IntMsc  Mtech  13379.0045  0.008   2162.5273 24595.4817   True\n",
      "   Mba    Msc   2763.3598    0.9 -14812.0594 20338.7791  False\n",
      "   Mba  Mtech   1603.6379    0.9 -15393.6005 18600.8762  False\n",
      "   Msc  Mtech   -1159.722    0.9  -8518.0939  6198.6499  False\n",
      "--------------------------------------------------------------\n"
     ]
    }
   ],
   "source": [
    "mc3 = multi.MultiComparison(train_set['Salary'], train_set['Degree'])\n",
    "res3 = mc3.tukeyhsd()\n",
    "print(res3.summary())"
   ]
  },
  {
   "cell_type": "markdown",
   "metadata": {},
   "source": [
    "#### As majority of the pairs giving False (accept null hypothesis), this is alomost like 0 - variance column. Hence removing the column."
   ]
  },
  {
   "cell_type": "code",
   "execution_count": 24,
   "metadata": {},
   "outputs": [
    {
     "data": {
      "text/plain": [
       "'\\ntrain_set[\"Degree\"] = pd.Categorical(train_set[\"Degree\"], \\n                                                   categories = cat_list_dict[\"Degree\"])\\n\\ntrain_set = pd.get_dummies(train_set, columns=[\"Degree\"], prefix=[\"Degree\"], drop_first=True)\\ntrain_set[[col for col in train_set.columns if \\'Degree\\' in col ]].head()\\n'"
      ]
     },
     "execution_count": 24,
     "metadata": {},
     "output_type": "execute_result"
    }
   ],
   "source": [
    "train_set.drop('Degree', axis=1, inplace=True)\n",
    "\n",
    "'''\n",
    "train_set[\"Degree\"] = pd.Categorical(train_set[\"Degree\"], \n",
    "                                                   categories = cat_list_dict[\"Degree\"])\n",
    "\n",
    "train_set = pd.get_dummies(train_set, columns=[\"Degree\"], prefix=[\"Degree\"], drop_first=True)\n",
    "train_set[[col for col in train_set.columns if 'Degree' in col ]].head()\n",
    "'''"
   ]
  },
  {
   "cell_type": "markdown",
   "metadata": {},
   "source": [
    "#### Is \"EducationalInstitute\" strongly related to \"Salary\" (ANOVA Test)\n",
    "* **Null Hypothesis (H0):** \"EducationalInstitute\" of the employee and \"Salary\" are independent\n",
    "* **Alternate Hypothesis (H1):** \"EducationalInstitute\" of the employee and \"Salary\" are not independent(dependent)."
   ]
  },
  {
   "cell_type": "code",
   "execution_count": 25,
   "metadata": {},
   "outputs": [
    {
     "data": {
      "text/plain": [
       "(array([0, 1, 2, 3]), <a list of 4 Text xticklabel objects>)"
      ]
     },
     "execution_count": 25,
     "metadata": {},
     "output_type": "execute_result"
    },
    {
     "data": {
      "image/png": "[encoded data removed]",
      "text/plain": [
       "<Figure size 360x360 with 1 Axes>"
      ]
     },
     "metadata": {
      "needs_background": "light"
     },
     "output_type": "display_data"
    }
   ],
   "source": [
    "sns.catplot(data = train_set, x='EducationalInstitute', y= 'Salary', kind='bar')\n",
    "plt.xlabel(\"EducationalInstitute\")\n",
    "plt.ylabel(\"Salary\")\n",
    "plt.xticks(rotation=90)"
   ]
  },
  {
   "cell_type": "code",
   "execution_count": 26,
   "metadata": {},
   "outputs": [
    {
     "data": {
      "text/plain": [
       "<matplotlib.axes._subplots.AxesSubplot at 0x26a22239508>"
      ]
     },
     "execution_count": 26,
     "metadata": {},
     "output_type": "execute_result"
    },
    {
     "data": {
      "image/png": "[encoded data removed]",
      "text/plain": [
       "<Figure size 432x288 with 1 Axes>"
      ]
     },
     "metadata": {
      "needs_background": "light"
     },
     "output_type": "display_data"
    }
   ],
   "source": [
    "# to get an idea on outliers\n",
    "train_set.boxplot('Salary', by='EducationalInstitute')"
   ]
  },
  {
   "cell_type": "code",
   "execution_count": 27,
   "metadata": {},
   "outputs": [
    {
     "name": "stdout",
     "output_type": "stream",
     "text": [
      "     Multiple Comparison of Means - Tukey HSD, FWER=0.05     \n",
      "=============================================================\n",
      "group1 group2  meandiff  p-adj     lower      upper    reject\n",
      "-------------------------------------------------------------\n",
      "   clg   cunv -8621.0731  0.001 -14014.4674 -3227.6789   True\n",
      "   clg    iit  4829.7085 0.1964  -1447.8322 11107.2493  False\n",
      "   clg    unv  2801.5846 0.4007   -1805.379  7408.5482  False\n",
      "  cunv    iit 13450.7817  0.001   7763.4694  19138.094   True\n",
      "  cunv    unv 11422.6577  0.001   7659.3989 15185.9165   True\n",
      "   iit    unv  -2028.124 0.6934   -6975.945  2919.6971  False\n",
      "-------------------------------------------------------------\n"
     ]
    }
   ],
   "source": [
    "mc3 = multi.MultiComparison(train_set['Salary'], train_set['EducationalInstitute'])\n",
    "res3 = mc3.tukeyhsd()\n",
    "print(res3.summary())"
   ]
  },
  {
   "cell_type": "markdown",
   "metadata": {},
   "source": [
    "#### some pairs are strongly related and some not, os better go with One-Hot Encoding"
   ]
  },
  {
   "cell_type": "code",
   "execution_count": 28,
   "metadata": {},
   "outputs": [
    {
     "data": {
      "text/html": [
       "<div>\n",
       "<style scoped>\n",
       "    .dataframe tbody tr th:only-of-type {\n",
       "        vertical-align: middle;\n",
       "    }\n",
       "\n",
       "    .dataframe tbody tr th {\n",
       "        vertical-align: top;\n",
       "    }\n",
       "\n",
       "    .dataframe thead th {\n",
       "        text-align: right;\n",
       "    }\n",
       "</style>\n",
       "<table border=\"1\" class=\"dataframe\">\n",
       "  <thead>\n",
       "    <tr style=\"text-align: right;\">\n",
       "      <th></th>\n",
       "      <th>EducationalInstitute_iit</th>\n",
       "      <th>EducationalInstitute_clg</th>\n",
       "      <th>EducationalInstitute_cunv</th>\n",
       "    </tr>\n",
       "  </thead>\n",
       "  <tbody>\n",
       "    <tr>\n",
       "      <th>321</th>\n",
       "      <td>0</td>\n",
       "      <td>0</td>\n",
       "      <td>0</td>\n",
       "    </tr>\n",
       "    <tr>\n",
       "      <th>1254</th>\n",
       "      <td>0</td>\n",
       "      <td>0</td>\n",
       "      <td>0</td>\n",
       "    </tr>\n",
       "    <tr>\n",
       "      <th>71</th>\n",
       "      <td>0</td>\n",
       "      <td>0</td>\n",
       "      <td>1</td>\n",
       "    </tr>\n",
       "    <tr>\n",
       "      <th>1167</th>\n",
       "      <td>0</td>\n",
       "      <td>0</td>\n",
       "      <td>0</td>\n",
       "    </tr>\n",
       "    <tr>\n",
       "      <th>1193</th>\n",
       "      <td>0</td>\n",
       "      <td>0</td>\n",
       "      <td>0</td>\n",
       "    </tr>\n",
       "  </tbody>\n",
       "</table>\n",
       "</div>"
      ],
      "text/plain": [
       "      EducationalInstitute_iit  EducationalInstitute_clg  \\\n",
       "321                          0                         0   \n",
       "1254                         0                         0   \n",
       "71                           0                         0   \n",
       "1167                         0                         0   \n",
       "1193                         0                         0   \n",
       "\n",
       "      EducationalInstitute_cunv  \n",
       "321                           0  \n",
       "1254                          0  \n",
       "71                            1  \n",
       "1167                          0  \n",
       "1193                          0  "
      ]
     },
     "execution_count": 28,
     "metadata": {},
     "output_type": "execute_result"
    }
   ],
   "source": [
    "train_set[\"EducationalInstitute\"] = pd.Categorical(train_set[\"EducationalInstitute\"], \n",
    "                                                   categories = cat_list_dict[\"EducationalInstitute\"])\n",
    "\n",
    "train_set = pd.get_dummies(train_set, columns=[\"EducationalInstitute\"], prefix=[\"EducationalInstitute\"], drop_first=True)\n",
    "train_set[[col for col in train_set.columns if 'EducationalInstitute' in col ]].head()"
   ]
  },
  {
   "cell_type": "markdown",
   "metadata": {},
   "source": [
    "#### Is \"Empl_Band\" strongly related to \"Salary\" (ANOVA Test)\n",
    "* **Null Hypothesis (H0):** \"Empl_Band\" of the employee and \"Salary\" are independent\n",
    "* **Alternate Hypothesis (H1):** \"Empl_Band\" of the employee and \"Salary\" are not independent(dependent)."
   ]
  },
  {
   "cell_type": "code",
   "execution_count": 29,
   "metadata": {},
   "outputs": [
    {
     "data": {
      "text/plain": [
       "(array([0, 1, 2]), <a list of 3 Text xticklabel objects>)"
      ]
     },
     "execution_count": 29,
     "metadata": {},
     "output_type": "execute_result"
    },
    {
     "data": {
      "image/png": "[encoded data removed]",
      "text/plain": [
       "<Figure size 360x360 with 1 Axes>"
      ]
     },
     "metadata": {
      "needs_background": "light"
     },
     "output_type": "display_data"
    }
   ],
   "source": [
    "sns.catplot(data = train_set, x='Empl_Band', y= 'Salary', kind='bar')\n",
    "plt.xlabel(\"Empl_Band\")\n",
    "plt.ylabel(\"Salary\")\n",
    "plt.xticks(rotation=90)"
   ]
  },
  {
   "cell_type": "code",
   "execution_count": 30,
   "metadata": {},
   "outputs": [
    {
     "data": {
      "text/plain": [
       "<matplotlib.axes._subplots.AxesSubplot at 0x26a2236de08>"
      ]
     },
     "execution_count": 30,
     "metadata": {},
     "output_type": "execute_result"
    },
    {
     "data": {
      "image/png": "[encoded data removed]",
      "text/plain": [
       "<Figure size 432x288 with 1 Axes>"
      ]
     },
     "metadata": {
      "needs_background": "light"
     },
     "output_type": "display_data"
    }
   ],
   "source": [
    "# to get an idea on outliers\n",
    "train_set.boxplot('Salary', by='Empl_Band')"
   ]
  },
  {
   "cell_type": "code",
   "execution_count": 31,
   "metadata": {},
   "outputs": [
    {
     "name": "stdout",
     "output_type": "stream",
     "text": [
      "     Multiple Comparison of Means - Tukey HSD, FWER=0.05      \n",
      "==============================================================\n",
      "group1 group2   meandiff  p-adj    lower       upper    reject\n",
      "--------------------------------------------------------------\n",
      "     A      B -22443.2477 0.001   -24807.69 -20078.8053   True\n",
      "     A      C -37280.9809 0.001 -39886.1416 -34675.8202   True\n",
      "     B      C -14837.7332 0.001 -17060.4946 -12614.9718   True\n",
      "--------------------------------------------------------------\n"
     ]
    }
   ],
   "source": [
    "mc3 = multi.MultiComparison(train_set['Salary'], train_set['Empl_Band'])\n",
    "res3 = mc3.tukeyhsd()\n",
    "print(res3.summary())"
   ]
  },
  {
   "cell_type": "markdown",
   "metadata": {},
   "source": [
    "#### As all pairs giving True (reject True - all pairs have strong differences), we go with Lable Encding"
   ]
  },
  {
   "cell_type": "code",
   "execution_count": 32,
   "metadata": {},
   "outputs": [],
   "source": [
    "convertCategorisToCodes(['Empl_Band'], train_set)"
   ]
  },
  {
   "cell_type": "code",
   "execution_count": 33,
   "metadata": {},
   "outputs": [
    {
     "data": {
      "text/plain": [
       "(1209, 20)"
      ]
     },
     "execution_count": 33,
     "metadata": {},
     "output_type": "execute_result"
    }
   ],
   "source": [
    "train_set.shape"
   ]
  },
  {
   "cell_type": "code",
   "execution_count": 34,
   "metadata": {},
   "outputs": [],
   "source": [
    "train_X = train_set.loc[:, [x for x in train_set.columns if x not in ['Salary']]]\n",
    "train_y = train_set['Salary']"
   ]
  },
  {
   "cell_type": "markdown",
   "metadata": {},
   "source": [
    "### Model Selection Process - GridSearchCV"
   ]
  },
  {
   "cell_type": "code",
   "execution_count": 35,
   "metadata": {},
   "outputs": [],
   "source": [
    "from sklearn.pipeline import Pipeline\n",
    "from sklearn.model_selection import GridSearchCV"
   ]
  },
  {
   "cell_type": "code",
   "execution_count": 38,
   "metadata": {},
   "outputs": [
    {
     "name": "stdout",
     "output_type": "stream",
     "text": [
      "Best params :  {'poly_features__degree': 3}\n",
      "Best estimator :  Pipeline(memory=None,\n",
      "         steps=[('poly_features',\n",
      "                 PolynomialFeatures(degree=3, include_bias=True,\n",
      "                                    interaction_only=False, order='C')),\n",
      "                ('lr',\n",
      "                 LinearRegression(copy_X=True, fit_intercept=True, n_jobs=None,\n",
      "                                  normalize=False))],\n",
      "         verbose=False)\n"
     ]
    }
   ],
   "source": [
    "poly_lr_reg_pipeline = Pipeline([\n",
    "        (\"poly_features\", PolynomialFeatures()),\n",
    "        (\"lr\", LinearRegression())\n",
    "    ])\n",
    "\n",
    "param_grid = {\n",
    "        \"poly_features__degree\": [1,2,3,4]\n",
    "    }\n",
    "\n",
    "grid_search = GridSearchCV(poly_lr_reg_pipeline, param_grid, cv=10, scoring='r2')\n",
    "grid_search.fit(train_X, train_y)\n",
    "\n",
    "print(\"Best params : \", grid_search.best_params_)\n",
    "print(\"Best estimator : \", grid_search.best_estimator_)"
   ]
  },
  {
   "cell_type": "code",
   "execution_count": 39,
   "metadata": {},
   "outputs": [
    {
     "name": "stdout",
     "output_type": "stream",
     "text": [
      "Train R-Square score:  0.9871629663334812\n",
      "Train Root Mean Squared Error :  2198.1445333889906\n"
     ]
    }
   ],
   "source": [
    "train_prediction = grid_search.best_estimator_.predict(train_X)\n",
    "train_mse = mean_squared_error(train_y, train_prediction)\n",
    "r2_train = r2_score(train_y, train_prediction)\n",
    "\n",
    "print(\"Train R-Square score: \", r2_train)\n",
    "print(\"Train Root Mean Squared Error : \", np.sqrt(train_mse))"
   ]
  },
  {
   "cell_type": "markdown",
   "metadata": {},
   "source": [
    "#### Apply Best Model on Test Set"
   ]
  },
  {
   "cell_type": "code",
   "execution_count": 40,
   "metadata": {},
   "outputs": [],
   "source": [
    "test_set.loc[test_set[test_set['LinesOfCode'] < 0].index.values, 'LinesOfCode'] = 0\n",
    "test_set.drop('Emp #', axis=1, inplace=True)\n",
    "test_set['YearsOfStudy'].fillna(YearsOfStudy_impute_value, inplace=True)\n",
    "test_set['Qualification'].fillna(Qualification_impute_value, inplace=True)\n",
    "test_set['Degree'].fillna(Degree_impute_value, inplace=True)\n",
    "test_set['EducationalInstitute'].fillna(EducationalInstitute_impute_value, inplace=True)\n",
    "\n",
    "#convertCategorisToCodes(['Designation'], test_set)\n",
    "test_set[\"Designation\"] = pd.Categorical(test_set[\"Designation\"], categories = cat_list_dict[\"Designation\"])\n",
    "test_set = pd.get_dummies(test_set, columns=[\"Designation\"], prefix=[\"Designation\"], drop_first=True)\n",
    "\n",
    "convertCategorisToCodes(['Gender'], test_set)\n",
    "\n",
    "test_set[\"Qualification\"] = pd.Categorical(test_set[\"Qualification\"], categories = cat_list_dict[\"Qualification\"])\n",
    "test_set = pd.get_dummies(test_set, columns=[\"Qualification\"], prefix=[\"Qualification\"], drop_first=True)\n",
    "\n",
    "test_set.drop('Degree', axis=1, inplace=True)\n",
    "'''\n",
    "test_set[\"Degree\"] = pd.Categorical(test_set[\"Degree\"], categories = cat_list_dict[\"Degree\"])\n",
    "test_set = pd.get_dummies(test_set, columns=[\"Degree\"], prefix=[\"Degree\"], drop_first=True)\n",
    "'''\n",
    "\n",
    "test_set[\"EducationalInstitute\"] = pd.Categorical(test_set[\"EducationalInstitute\"], \n",
    "                                                  categories = cat_list_dict[\"EducationalInstitute\"])\n",
    "test_set = pd.get_dummies(test_set, columns=[\"EducationalInstitute\"], prefix=[\"EducationalInstitute\"], drop_first=True)\n",
    "convertCategorisToCodes(['Empl_Band'], test_set)\n",
    "\n",
    "test_X = test_set.loc[:, [x for x in test_set.columns if x not in ['Salary']]]\n",
    "test_y = test_set['Salary']"
   ]
  },
  {
   "cell_type": "code",
   "execution_count": 41,
   "metadata": {},
   "outputs": [
    {
     "name": "stdout",
     "output_type": "stream",
     "text": [
      "Test R-Square score:  0.9695710754074989\n",
      "Test Root Mean Squared Error :  3393.7533184014105\n"
     ]
    }
   ],
   "source": [
    "test_prediction = grid_search.best_estimator_.predict(test_X)\n",
    "test_mse = mean_squared_error(test_y, test_prediction)\n",
    "r2_test = r2_score(test_y, test_prediction)\n",
    "\n",
    "print(\"Test R-Square score: \", r2_test)\n",
    "print(\"Test Root Mean Squared Error : \", np.sqrt(test_mse))"
   ]
  },
  {
   "cell_type": "code",
   "execution_count": null,
   "metadata": {},
   "outputs": [],
   "source": []
  }
 ],
 "metadata": {
  "kernelspec": {
   "display_name": "Python 3",
   "language": "python",
   "name": "python3"
  },
  "language_info": {
   "codemirror_mode": {
    "name": "ipython",
    "version": 3
   },
   "file_extension": ".py",
   "mimetype": "text/x-python",
   "name": "python",
   "nbconvert_exporter": "python",
   "pygments_lexer": "ipython3",
   "version": "3.7.4"
  }
 },
 "nbformat": 4,
 "nbformat_minor": 2
}
