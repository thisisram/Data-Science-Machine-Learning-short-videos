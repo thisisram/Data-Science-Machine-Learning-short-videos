{
 "cells": [
  {
   "cell_type": "code",
   "execution_count": 2,
   "metadata": {},
   "outputs": [],
   "source": [
    "import pandas as pd\n",
    "import numpy as np\n",
    "import matplotlib.pyplot as plt\n",
    "import seaborn as sns\n",
    "\n",
    "from sklearn.linear_model import LinearRegression\n",
    "from sklearn.model_selection import ShuffleSplit"
   ]
  },
  {
   "cell_type": "code",
   "execution_count": 3,
   "metadata": {},
   "outputs": [],
   "source": [
    "employee_data = pd.read_csv(\"../../Data/regression_employee_data.csv\")"
   ]
  },
  {
   "cell_type": "code",
   "execution_count": 4,
   "metadata": {
    "scrolled": true
   },
   "outputs": [
    {
     "data": {
      "text/plain": [
       "(1512, 13)"
      ]
     },
     "execution_count": 4,
     "metadata": {},
     "output_type": "execute_result"
    }
   ],
   "source": [
    "employee_data.shape"
   ]
  },
  {
   "cell_type": "code",
   "execution_count": 5,
   "metadata": {},
   "outputs": [
    {
     "data": {
      "text/html": [
       "<div>\n",
       "<style scoped>\n",
       "    .dataframe tbody tr th:only-of-type {\n",
       "        vertical-align: middle;\n",
       "    }\n",
       "\n",
       "    .dataframe tbody tr th {\n",
       "        vertical-align: top;\n",
       "    }\n",
       "\n",
       "    .dataframe thead th {\n",
       "        text-align: right;\n",
       "    }\n",
       "</style>\n",
       "<table border=\"1\" class=\"dataframe\">\n",
       "  <thead>\n",
       "    <tr style=\"text-align: right;\">\n",
       "      <th></th>\n",
       "      <th>Emp #</th>\n",
       "      <th>Designation</th>\n",
       "      <th>Experience</th>\n",
       "      <th>Salary</th>\n",
       "      <th>AggrBehavScore</th>\n",
       "      <th>ActivityScore</th>\n",
       "      <th>LinesOfCode</th>\n",
       "      <th>Qualification</th>\n",
       "      <th>Degree</th>\n",
       "      <th>YearsOfStudy</th>\n",
       "      <th>EducationalInstitute</th>\n",
       "      <th>Gender</th>\n",
       "      <th>Empl_Band</th>\n",
       "    </tr>\n",
       "  </thead>\n",
       "  <tbody>\n",
       "    <tr>\n",
       "      <td>0</td>\n",
       "      <td>e1</td>\n",
       "      <td>Director</td>\n",
       "      <td>16.0</td>\n",
       "      <td>85861</td>\n",
       "      <td>0.526928</td>\n",
       "      <td>5</td>\n",
       "      <td>1678</td>\n",
       "      <td>Grad</td>\n",
       "      <td>NaN</td>\n",
       "      <td>15.0</td>\n",
       "      <td>clg</td>\n",
       "      <td>M</td>\n",
       "      <td>A</td>\n",
       "    </tr>\n",
       "    <tr>\n",
       "      <td>1</td>\n",
       "      <td>e2</td>\n",
       "      <td>Jr.Dev</td>\n",
       "      <td>3.0</td>\n",
       "      <td>25376</td>\n",
       "      <td>6.420421</td>\n",
       "      <td>18</td>\n",
       "      <td>6082</td>\n",
       "      <td>Grad</td>\n",
       "      <td>Btech</td>\n",
       "      <td>16.0</td>\n",
       "      <td>clg</td>\n",
       "      <td>F</td>\n",
       "      <td>C</td>\n",
       "    </tr>\n",
       "    <tr>\n",
       "      <td>2</td>\n",
       "      <td>e3</td>\n",
       "      <td>Sr.Dev</td>\n",
       "      <td>6.0</td>\n",
       "      <td>38193</td>\n",
       "      <td>2.802337</td>\n",
       "      <td>7</td>\n",
       "      <td>2927</td>\n",
       "      <td>PostGrad</td>\n",
       "      <td>Msc</td>\n",
       "      <td>17.0</td>\n",
       "      <td>unv</td>\n",
       "      <td>M</td>\n",
       "      <td>B</td>\n",
       "    </tr>\n",
       "    <tr>\n",
       "      <td>3</td>\n",
       "      <td>e4</td>\n",
       "      <td>Jr.Dev</td>\n",
       "      <td>3.0</td>\n",
       "      <td>22807</td>\n",
       "      <td>9.374888</td>\n",
       "      <td>23</td>\n",
       "      <td>10249</td>\n",
       "      <td>NaN</td>\n",
       "      <td>Mtech</td>\n",
       "      <td>18.0</td>\n",
       "      <td>NaN</td>\n",
       "      <td>F</td>\n",
       "      <td>C</td>\n",
       "    </tr>\n",
       "    <tr>\n",
       "      <td>4</td>\n",
       "      <td>e5</td>\n",
       "      <td>Sr.Dev</td>\n",
       "      <td>4.0</td>\n",
       "      <td>37624</td>\n",
       "      <td>3.336564</td>\n",
       "      <td>10</td>\n",
       "      <td>3159</td>\n",
       "      <td>NaN</td>\n",
       "      <td>Btech</td>\n",
       "      <td>16.0</td>\n",
       "      <td>NaN</td>\n",
       "      <td>F</td>\n",
       "      <td>B</td>\n",
       "    </tr>\n",
       "  </tbody>\n",
       "</table>\n",
       "</div>"
      ],
      "text/plain": [
       "  Emp # Designation  Experience  Salary  AggrBehavScore  ActivityScore  \\\n",
       "0    e1    Director        16.0   85861        0.526928              5   \n",
       "1    e2      Jr.Dev         3.0   25376        6.420421             18   \n",
       "2    e3      Sr.Dev         6.0   38193        2.802337              7   \n",
       "3    e4      Jr.Dev         3.0   22807        9.374888             23   \n",
       "4    e5      Sr.Dev         4.0   37624        3.336564             10   \n",
       "\n",
       "   LinesOfCode Qualification Degree  YearsOfStudy EducationalInstitute Gender  \\\n",
       "0         1678          Grad    NaN          15.0                  clg      M   \n",
       "1         6082          Grad  Btech          16.0                  clg      F   \n",
       "2         2927      PostGrad    Msc          17.0                  unv      M   \n",
       "3        10249           NaN  Mtech          18.0                  NaN      F   \n",
       "4         3159           NaN  Btech          16.0                  NaN      F   \n",
       "\n",
       "  Empl_Band  \n",
       "0         A  \n",
       "1         C  \n",
       "2         B  \n",
       "3         C  \n",
       "4         B  "
      ]
     },
     "execution_count": 5,
     "metadata": {},
     "output_type": "execute_result"
    }
   ],
   "source": [
    "employee_data.head()"
   ]
  },
  {
   "cell_type": "markdown",
   "metadata": {},
   "source": [
    "* Step 1: Split data into Train and Test"
   ]
  },
  {
   "cell_type": "code",
   "execution_count": 6,
   "metadata": {},
   "outputs": [
    {
     "name": "stdout",
     "output_type": "stream",
     "text": [
      "TRAIN Indexes: [1296  902 1354 ...  578  391 1044]\n",
      "TEST Indexes: [ 508  645  462 1074  831  934  752  287 1257 1443  630  875  286  251\n",
      "  668  673 1000  289  936  837  245  366 1387   72  896  450  449  504\n",
      "  485 1333  637 1134 1058 1240 1289  885  854  647  815   46  274 1047\n",
      "  393  545  364 1409  804  688  798 1455 1183 1324 1187  930  151  431\n",
      " 1449  360   85  748 1499 1213  153  599  666 1210 1004  852  223  232\n",
      "  992  290  731  943   42  816  634  842 1306 1007 1193  618 1479   20\n",
      " 1461  499  270 1439 1341  685 1429 1384  973  386  880  246 1219 1404\n",
      " 1312  177  159 1130 1451 1211 1162 1426  347 1418  914  782 1118  957\n",
      "  224  869 1273  933  507  279  341  220  317  919 1002 1398  121  330\n",
      "  394 1349  894 1309  453 1445   92  766  856  384  780 1178  601  980\n",
      "  276  614 1036  963  379  445  311  133 1034 1086  890 1317  839 1286\n",
      " 1055  582  325   32  772  267 1376  495 1366  219 1027 1474  300 1048\n",
      "  318  513  361  492  686  178  482 1132  613 1502  228  718  200 1347\n",
      " 1331  901   21  260   51 1372  187  411 1095  783 1483  825   86  767\n",
      " 1377  518  442 1283  908  986  977   82  421 1484   44  967  995 1369\n",
      " 1190  727  183 1316  830 1029  197 1217  555  346  118  104  659  156\n",
      "  993   34  397 1010  189 1265  960 1356  387  539  426  356  229  388\n",
      "  427   41  241  695 1093 1247  593  282  371  368  443  747 1307  711\n",
      "  997 1120 1092  640  257  216  680  378  372  167  437  439  762 1282\n",
      " 1419  611  549  510 1186 1175 1040  109 1319  827 1144  350 1396  794\n",
      "  564  715  953  252  144  322 1487 1085 1400  254  324  253  918 1277\n",
      "  888  516   89  756 1179  417 1041  778 1205]\n"
     ]
    }
   ],
   "source": [
    "shuffleSplit = ShuffleSplit(n_splits=1, test_size=0.2, random_state=33)\n",
    "for train_index, test_index in shuffleSplit.split(employee_data):\n",
    "    print(\"TRAIN Indexes:\", train_index) \n",
    "    print(\"TEST Indexes:\", test_index)\n",
    "    train_set = employee_data.loc[train_index]\n",
    "    test_set = employee_data.loc[test_index]"
   ]
  },
  {
   "cell_type": "code",
   "execution_count": 7,
   "metadata": {},
   "outputs": [
    {
     "data": {
      "text/plain": [
       "(1209, 13)"
      ]
     },
     "execution_count": 7,
     "metadata": {},
     "output_type": "execute_result"
    }
   ],
   "source": [
    "train_set.shape"
   ]
  },
  {
   "cell_type": "code",
   "execution_count": 8,
   "metadata": {},
   "outputs": [
    {
     "data": {
      "text/plain": [
       "(303, 13)"
      ]
     },
     "execution_count": 8,
     "metadata": {},
     "output_type": "execute_result"
    }
   ],
   "source": [
    "test_set.shape"
   ]
  },
  {
   "cell_type": "markdown",
   "metadata": {},
   "source": [
    "### Exploratory Data Analysis"
   ]
  },
  {
   "cell_type": "code",
   "execution_count": 9,
   "metadata": {},
   "outputs": [
    {
     "data": {
      "text/html": [
       "<div>\n",
       "<style scoped>\n",
       "    .dataframe tbody tr th:only-of-type {\n",
       "        vertical-align: middle;\n",
       "    }\n",
       "\n",
       "    .dataframe tbody tr th {\n",
       "        vertical-align: top;\n",
       "    }\n",
       "\n",
       "    .dataframe thead th {\n",
       "        text-align: right;\n",
       "    }\n",
       "</style>\n",
       "<table border=\"1\" class=\"dataframe\">\n",
       "  <thead>\n",
       "    <tr style=\"text-align: right;\">\n",
       "      <th></th>\n",
       "      <th>Experience</th>\n",
       "      <th>Salary</th>\n",
       "      <th>AggrBehavScore</th>\n",
       "      <th>ActivityScore</th>\n",
       "      <th>LinesOfCode</th>\n",
       "      <th>YearsOfStudy</th>\n",
       "    </tr>\n",
       "  </thead>\n",
       "  <tbody>\n",
       "    <tr>\n",
       "      <td>count</td>\n",
       "      <td>1209.000000</td>\n",
       "      <td>1209.000000</td>\n",
       "      <td>1209.000000</td>\n",
       "      <td>1209.000000</td>\n",
       "      <td>1209.000000</td>\n",
       "      <td>1091.000000</td>\n",
       "    </tr>\n",
       "    <tr>\n",
       "      <td>mean</td>\n",
       "      <td>8.273036</td>\n",
       "      <td>46345.880893</td>\n",
       "      <td>3.630357</td>\n",
       "      <td>9.047974</td>\n",
       "      <td>4106.965261</td>\n",
       "      <td>17.426214</td>\n",
       "    </tr>\n",
       "    <tr>\n",
       "      <td>std</td>\n",
       "      <td>3.514709</td>\n",
       "      <td>19325.270935</td>\n",
       "      <td>2.295312</td>\n",
       "      <td>5.452323</td>\n",
       "      <td>2706.299723</td>\n",
       "      <td>3.323645</td>\n",
       "    </tr>\n",
       "    <tr>\n",
       "      <td>min</td>\n",
       "      <td>0.200000</td>\n",
       "      <td>15025.000000</td>\n",
       "      <td>0.241622</td>\n",
       "      <td>0.000000</td>\n",
       "      <td>-748.000000</td>\n",
       "      <td>15.000000</td>\n",
       "    </tr>\n",
       "    <tr>\n",
       "      <td>25%</td>\n",
       "      <td>5.900000</td>\n",
       "      <td>32335.000000</td>\n",
       "      <td>1.811956</td>\n",
       "      <td>5.000000</td>\n",
       "      <td>2053.000000</td>\n",
       "      <td>16.000000</td>\n",
       "    </tr>\n",
       "    <tr>\n",
       "      <td>50%</td>\n",
       "      <td>7.900000</td>\n",
       "      <td>41180.000000</td>\n",
       "      <td>3.099158</td>\n",
       "      <td>8.000000</td>\n",
       "      <td>3297.000000</td>\n",
       "      <td>16.000000</td>\n",
       "    </tr>\n",
       "    <tr>\n",
       "      <td>75%</td>\n",
       "      <td>10.000000</td>\n",
       "      <td>58746.000000</td>\n",
       "      <td>4.809051</td>\n",
       "      <td>12.000000</td>\n",
       "      <td>5643.000000</td>\n",
       "      <td>18.000000</td>\n",
       "    </tr>\n",
       "    <tr>\n",
       "      <td>max</td>\n",
       "      <td>20.000000</td>\n",
       "      <td>102845.000000</td>\n",
       "      <td>9.995388</td>\n",
       "      <td>27.000000</td>\n",
       "      <td>12659.000000</td>\n",
       "      <td>35.000000</td>\n",
       "    </tr>\n",
       "  </tbody>\n",
       "</table>\n",
       "</div>"
      ],
      "text/plain": [
       "        Experience         Salary  AggrBehavScore  ActivityScore  \\\n",
       "count  1209.000000    1209.000000     1209.000000    1209.000000   \n",
       "mean      8.273036   46345.880893        3.630357       9.047974   \n",
       "std       3.514709   19325.270935        2.295312       5.452323   \n",
       "min       0.200000   15025.000000        0.241622       0.000000   \n",
       "25%       5.900000   32335.000000        1.811956       5.000000   \n",
       "50%       7.900000   41180.000000        3.099158       8.000000   \n",
       "75%      10.000000   58746.000000        4.809051      12.000000   \n",
       "max      20.000000  102845.000000        9.995388      27.000000   \n",
       "\n",
       "        LinesOfCode  YearsOfStudy  \n",
       "count   1209.000000   1091.000000  \n",
       "mean    4106.965261     17.426214  \n",
       "std     2706.299723      3.323645  \n",
       "min     -748.000000     15.000000  \n",
       "25%     2053.000000     16.000000  \n",
       "50%     3297.000000     16.000000  \n",
       "75%     5643.000000     18.000000  \n",
       "max    12659.000000     35.000000  "
      ]
     },
     "execution_count": 9,
     "metadata": {},
     "output_type": "execute_result"
    }
   ],
   "source": [
    "train_set.describe()"
   ]
  },
  {
   "cell_type": "code",
   "execution_count": 11,
   "metadata": {},
   "outputs": [
    {
     "data": {
      "text/plain": [
       "1296    False\n",
       "902     False\n",
       "1354    False\n",
       "1485    False\n",
       "385     False\n",
       "        ...  \n",
       "1225    False\n",
       "658     False\n",
       "578     False\n",
       "391     False\n",
       "1044    False\n",
       "Name: LinesOfCode, Length: 1209, dtype: bool"
      ]
     },
     "execution_count": 11,
     "metadata": {},
     "output_type": "execute_result"
    }
   ],
   "source": [
    "train_set['LinesOfCode'] < 0"
   ]
  },
  {
   "cell_type": "code",
   "execution_count": 12,
   "metadata": {},
   "outputs": [
    {
     "data": {
      "text/html": [
       "<div>\n",
       "<style scoped>\n",
       "    .dataframe tbody tr th:only-of-type {\n",
       "        vertical-align: middle;\n",
       "    }\n",
       "\n",
       "    .dataframe tbody tr th {\n",
       "        vertical-align: top;\n",
       "    }\n",
       "\n",
       "    .dataframe thead th {\n",
       "        text-align: right;\n",
       "    }\n",
       "</style>\n",
       "<table border=\"1\" class=\"dataframe\">\n",
       "  <thead>\n",
       "    <tr style=\"text-align: right;\">\n",
       "      <th></th>\n",
       "      <th>Emp #</th>\n",
       "      <th>Designation</th>\n",
       "      <th>Experience</th>\n",
       "      <th>Salary</th>\n",
       "      <th>AggrBehavScore</th>\n",
       "      <th>ActivityScore</th>\n",
       "      <th>LinesOfCode</th>\n",
       "      <th>Qualification</th>\n",
       "      <th>Degree</th>\n",
       "      <th>YearsOfStudy</th>\n",
       "      <th>EducationalInstitute</th>\n",
       "      <th>Gender</th>\n",
       "      <th>Empl_Band</th>\n",
       "    </tr>\n",
       "  </thead>\n",
       "  <tbody>\n",
       "    <tr>\n",
       "      <td>800</td>\n",
       "      <td>e45</td>\n",
       "      <td>Jr.Dev</td>\n",
       "      <td>5.1</td>\n",
       "      <td>22055</td>\n",
       "      <td>7.092658</td>\n",
       "      <td>4</td>\n",
       "      <td>-620</td>\n",
       "      <td>Grad</td>\n",
       "      <td>Btech</td>\n",
       "      <td>16.0</td>\n",
       "      <td>cunv</td>\n",
       "      <td>M</td>\n",
       "      <td>C</td>\n",
       "    </tr>\n",
       "    <tr>\n",
       "      <td>1052</td>\n",
       "      <td>e45</td>\n",
       "      <td>Jr.Dev</td>\n",
       "      <td>4.1</td>\n",
       "      <td>24238</td>\n",
       "      <td>7.230387</td>\n",
       "      <td>2</td>\n",
       "      <td>-676</td>\n",
       "      <td>Grad</td>\n",
       "      <td>Btech</td>\n",
       "      <td>16.0</td>\n",
       "      <td>cunv</td>\n",
       "      <td>M</td>\n",
       "      <td>C</td>\n",
       "    </tr>\n",
       "    <tr>\n",
       "      <td>537</td>\n",
       "      <td>e34</td>\n",
       "      <td>Sr.Analyst</td>\n",
       "      <td>10.0</td>\n",
       "      <td>50369</td>\n",
       "      <td>2.380812</td>\n",
       "      <td>4</td>\n",
       "      <td>-15</td>\n",
       "      <td>PostGrad</td>\n",
       "      <td>Mtech</td>\n",
       "      <td>18.0</td>\n",
       "      <td>NaN</td>\n",
       "      <td>M</td>\n",
       "      <td>A</td>\n",
       "    </tr>\n",
       "    <tr>\n",
       "      <td>1304</td>\n",
       "      <td>e45</td>\n",
       "      <td>Jr.Dev</td>\n",
       "      <td>3.1</td>\n",
       "      <td>22044</td>\n",
       "      <td>7.149879</td>\n",
       "      <td>5</td>\n",
       "      <td>-507</td>\n",
       "      <td>Grad</td>\n",
       "      <td>Btech</td>\n",
       "      <td>16.0</td>\n",
       "      <td>cunv</td>\n",
       "      <td>M</td>\n",
       "      <td>C</td>\n",
       "    </tr>\n",
       "    <tr>\n",
       "      <td>548</td>\n",
       "      <td>e45</td>\n",
       "      <td>Jr.Dev</td>\n",
       "      <td>3.1</td>\n",
       "      <td>23872</td>\n",
       "      <td>6.800779</td>\n",
       "      <td>2</td>\n",
       "      <td>-350</td>\n",
       "      <td>Grad</td>\n",
       "      <td>Btech</td>\n",
       "      <td>16.0</td>\n",
       "      <td>cunv</td>\n",
       "      <td>M</td>\n",
       "      <td>C</td>\n",
       "    </tr>\n",
       "    <tr>\n",
       "      <td>705</td>\n",
       "      <td>e34</td>\n",
       "      <td>Sr.Analyst</td>\n",
       "      <td>11.0</td>\n",
       "      <td>50569</td>\n",
       "      <td>2.110924</td>\n",
       "      <td>4</td>\n",
       "      <td>-284</td>\n",
       "      <td>PostGrad</td>\n",
       "      <td>Mtech</td>\n",
       "      <td>18.0</td>\n",
       "      <td>NaN</td>\n",
       "      <td>M</td>\n",
       "      <td>A</td>\n",
       "    </tr>\n",
       "    <tr>\n",
       "      <td>1125</td>\n",
       "      <td>e34</td>\n",
       "      <td>Sr.Analyst</td>\n",
       "      <td>9.0</td>\n",
       "      <td>51797</td>\n",
       "      <td>2.796036</td>\n",
       "      <td>2</td>\n",
       "      <td>-748</td>\n",
       "      <td>PostGrad</td>\n",
       "      <td>Mtech</td>\n",
       "      <td>18.0</td>\n",
       "      <td>NaN</td>\n",
       "      <td>M</td>\n",
       "      <td>A</td>\n",
       "    </tr>\n",
       "    <tr>\n",
       "      <td>968</td>\n",
       "      <td>e45</td>\n",
       "      <td>Jr.Dev</td>\n",
       "      <td>6.1</td>\n",
       "      <td>27568</td>\n",
       "      <td>7.146060</td>\n",
       "      <td>4</td>\n",
       "      <td>-322</td>\n",
       "      <td>Grad</td>\n",
       "      <td>Btech</td>\n",
       "      <td>16.0</td>\n",
       "      <td>cunv</td>\n",
       "      <td>M</td>\n",
       "      <td>C</td>\n",
       "    </tr>\n",
       "    <tr>\n",
       "      <td>1388</td>\n",
       "      <td>e45</td>\n",
       "      <td>Jr.Dev</td>\n",
       "      <td>7.1</td>\n",
       "      <td>27736</td>\n",
       "      <td>6.778990</td>\n",
       "      <td>6</td>\n",
       "      <td>-712</td>\n",
       "      <td>Grad</td>\n",
       "      <td>Btech</td>\n",
       "      <td>16.0</td>\n",
       "      <td>cunv</td>\n",
       "      <td>M</td>\n",
       "      <td>C</td>\n",
       "    </tr>\n",
       "    <tr>\n",
       "      <td>1472</td>\n",
       "      <td>e45</td>\n",
       "      <td>Jr.Dev</td>\n",
       "      <td>5.1</td>\n",
       "      <td>26870</td>\n",
       "      <td>6.947513</td>\n",
       "      <td>4</td>\n",
       "      <td>-497</td>\n",
       "      <td>Grad</td>\n",
       "      <td>Btech</td>\n",
       "      <td>16.0</td>\n",
       "      <td>cunv</td>\n",
       "      <td>M</td>\n",
       "      <td>C</td>\n",
       "    </tr>\n",
       "    <tr>\n",
       "      <td>117</td>\n",
       "      <td>e34</td>\n",
       "      <td>Sr.Analyst</td>\n",
       "      <td>9.0</td>\n",
       "      <td>52646</td>\n",
       "      <td>2.008041</td>\n",
       "      <td>2</td>\n",
       "      <td>-675</td>\n",
       "      <td>PostGrad</td>\n",
       "      <td>Mtech</td>\n",
       "      <td>18.0</td>\n",
       "      <td>NaN</td>\n",
       "      <td>M</td>\n",
       "      <td>A</td>\n",
       "    </tr>\n",
       "    <tr>\n",
       "      <td>33</td>\n",
       "      <td>e34</td>\n",
       "      <td>Sr.Analyst</td>\n",
       "      <td>10.0</td>\n",
       "      <td>50658</td>\n",
       "      <td>2.780964</td>\n",
       "      <td>3</td>\n",
       "      <td>-380</td>\n",
       "      <td>PostGrad</td>\n",
       "      <td>Mtech</td>\n",
       "      <td>18.0</td>\n",
       "      <td>NaN</td>\n",
       "      <td>M</td>\n",
       "      <td>A</td>\n",
       "    </tr>\n",
       "    <tr>\n",
       "      <td>201</td>\n",
       "      <td>e34</td>\n",
       "      <td>Sr.Analyst</td>\n",
       "      <td>7.0</td>\n",
       "      <td>48754</td>\n",
       "      <td>2.415639</td>\n",
       "      <td>6</td>\n",
       "      <td>-80</td>\n",
       "      <td>PostGrad</td>\n",
       "      <td>Mtech</td>\n",
       "      <td>18.0</td>\n",
       "      <td>NaN</td>\n",
       "      <td>M</td>\n",
       "      <td>A</td>\n",
       "    </tr>\n",
       "    <tr>\n",
       "      <td>369</td>\n",
       "      <td>e34</td>\n",
       "      <td>Sr.Analyst</td>\n",
       "      <td>11.0</td>\n",
       "      <td>47932</td>\n",
       "      <td>2.274939</td>\n",
       "      <td>3</td>\n",
       "      <td>-89</td>\n",
       "      <td>PostGrad</td>\n",
       "      <td>Mtech</td>\n",
       "      <td>18.0</td>\n",
       "      <td>NaN</td>\n",
       "      <td>M</td>\n",
       "      <td>A</td>\n",
       "    </tr>\n",
       "  </tbody>\n",
       "</table>\n",
       "</div>"
      ],
      "text/plain": [
       "     Emp # Designation  Experience  Salary  AggrBehavScore  ActivityScore  \\\n",
       "800    e45      Jr.Dev         5.1   22055        7.092658              4   \n",
       "1052   e45      Jr.Dev         4.1   24238        7.230387              2   \n",
       "537    e34  Sr.Analyst        10.0   50369        2.380812              4   \n",
       "1304   e45      Jr.Dev         3.1   22044        7.149879              5   \n",
       "548    e45      Jr.Dev         3.1   23872        6.800779              2   \n",
       "705    e34  Sr.Analyst        11.0   50569        2.110924              4   \n",
       "1125   e34  Sr.Analyst         9.0   51797        2.796036              2   \n",
       "968    e45      Jr.Dev         6.1   27568        7.146060              4   \n",
       "1388   e45      Jr.Dev         7.1   27736        6.778990              6   \n",
       "1472   e45      Jr.Dev         5.1   26870        6.947513              4   \n",
       "117    e34  Sr.Analyst         9.0   52646        2.008041              2   \n",
       "33     e34  Sr.Analyst        10.0   50658        2.780964              3   \n",
       "201    e34  Sr.Analyst         7.0   48754        2.415639              6   \n",
       "369    e34  Sr.Analyst        11.0   47932        2.274939              3   \n",
       "\n",
       "      LinesOfCode Qualification Degree  YearsOfStudy EducationalInstitute  \\\n",
       "800          -620          Grad  Btech          16.0                 cunv   \n",
       "1052         -676          Grad  Btech          16.0                 cunv   \n",
       "537           -15      PostGrad  Mtech          18.0                  NaN   \n",
       "1304         -507          Grad  Btech          16.0                 cunv   \n",
       "548          -350          Grad  Btech          16.0                 cunv   \n",
       "705          -284      PostGrad  Mtech          18.0                  NaN   \n",
       "1125         -748      PostGrad  Mtech          18.0                  NaN   \n",
       "968          -322          Grad  Btech          16.0                 cunv   \n",
       "1388         -712          Grad  Btech          16.0                 cunv   \n",
       "1472         -497          Grad  Btech          16.0                 cunv   \n",
       "117          -675      PostGrad  Mtech          18.0                  NaN   \n",
       "33           -380      PostGrad  Mtech          18.0                  NaN   \n",
       "201           -80      PostGrad  Mtech          18.0                  NaN   \n",
       "369           -89      PostGrad  Mtech          18.0                  NaN   \n",
       "\n",
       "     Gender Empl_Band  \n",
       "800       M         C  \n",
       "1052      M         C  \n",
       "537       M         A  \n",
       "1304      M         C  \n",
       "548       M         C  \n",
       "705       M         A  \n",
       "1125      M         A  \n",
       "968       M         C  \n",
       "1388      M         C  \n",
       "1472      M         C  \n",
       "117       M         A  \n",
       "33        M         A  \n",
       "201       M         A  \n",
       "369       M         A  "
      ]
     },
     "execution_count": 12,
     "metadata": {},
     "output_type": "execute_result"
    }
   ],
   "source": [
    "train_set[train_set['LinesOfCode'] < 0]"
   ]
  },
  {
   "cell_type": "code",
   "execution_count": 15,
   "metadata": {},
   "outputs": [
    {
     "data": {
      "text/plain": [
       "array([ 800, 1052,  537, 1304,  548,  705, 1125,  968, 1388, 1472,  117,\n",
       "         33,  201,  369], dtype=int64)"
      ]
     },
     "execution_count": 15,
     "metadata": {},
     "output_type": "execute_result"
    }
   ],
   "source": [
    "train_set[train_set['LinesOfCode'] < 0].index.values"
   ]
  },
  {
   "cell_type": "code",
   "execution_count": 16,
   "metadata": {},
   "outputs": [],
   "source": [
    "train_set.loc[ train_set[train_set['LinesOfCode'] < 0].index.values, 'LinesOfCode'] = 0"
   ]
  },
  {
   "cell_type": "code",
   "execution_count": 17,
   "metadata": {},
   "outputs": [
    {
     "data": {
      "text/html": [
       "<div>\n",
       "<style scoped>\n",
       "    .dataframe tbody tr th:only-of-type {\n",
       "        vertical-align: middle;\n",
       "    }\n",
       "\n",
       "    .dataframe tbody tr th {\n",
       "        vertical-align: top;\n",
       "    }\n",
       "\n",
       "    .dataframe thead th {\n",
       "        text-align: right;\n",
       "    }\n",
       "</style>\n",
       "<table border=\"1\" class=\"dataframe\">\n",
       "  <thead>\n",
       "    <tr style=\"text-align: right;\">\n",
       "      <th></th>\n",
       "      <th>Emp #</th>\n",
       "      <th>Designation</th>\n",
       "      <th>Experience</th>\n",
       "      <th>Salary</th>\n",
       "      <th>AggrBehavScore</th>\n",
       "      <th>ActivityScore</th>\n",
       "      <th>LinesOfCode</th>\n",
       "      <th>Qualification</th>\n",
       "      <th>Degree</th>\n",
       "      <th>YearsOfStudy</th>\n",
       "      <th>EducationalInstitute</th>\n",
       "      <th>Gender</th>\n",
       "      <th>Empl_Band</th>\n",
       "    </tr>\n",
       "  </thead>\n",
       "  <tbody>\n",
       "  </tbody>\n",
       "</table>\n",
       "</div>"
      ],
      "text/plain": [
       "Empty DataFrame\n",
       "Columns: [Emp #, Designation, Experience, Salary, AggrBehavScore, ActivityScore, LinesOfCode, Qualification, Degree, YearsOfStudy, EducationalInstitute, Gender, Empl_Band]\n",
       "Index: []"
      ]
     },
     "execution_count": 17,
     "metadata": {},
     "output_type": "execute_result"
    }
   ],
   "source": [
    "train_set[train_set['LinesOfCode'] < 0]"
   ]
  },
  {
   "cell_type": "markdown",
   "metadata": {},
   "source": [
    "#### Let's fix nulls"
   ]
  },
  {
   "cell_type": "code",
   "execution_count": 19,
   "metadata": {},
   "outputs": [
    {
     "data": {
      "text/plain": [
       "Emp #                   False\n",
       "Designation             False\n",
       "Experience              False\n",
       "Salary                  False\n",
       "AggrBehavScore          False\n",
       "ActivityScore           False\n",
       "LinesOfCode             False\n",
       "Qualification            True\n",
       "Degree                   True\n",
       "YearsOfStudy             True\n",
       "EducationalInstitute     True\n",
       "Gender                  False\n",
       "Empl_Band               False\n",
       "dtype: bool"
      ]
     },
     "execution_count": 19,
     "metadata": {},
     "output_type": "execute_result"
    }
   ],
   "source": [
    "train_set.isnull().any()"
   ]
  },
  {
   "cell_type": "code",
   "execution_count": 20,
   "metadata": {},
   "outputs": [
    {
     "data": {
      "text/plain": [
       "Qualification           True\n",
       "Degree                  True\n",
       "YearsOfStudy            True\n",
       "EducationalInstitute    True\n",
       "dtype: bool"
      ]
     },
     "execution_count": 20,
     "metadata": {},
     "output_type": "execute_result"
    }
   ],
   "source": [
    "train_set.isnull().any()[train_set.isnull().any()]"
   ]
  },
  {
   "cell_type": "code",
   "execution_count": 21,
   "metadata": {},
   "outputs": [
    {
     "data": {
      "text/plain": [
       "Index(['Qualification', 'Degree', 'YearsOfStudy', 'EducationalInstitute'], dtype='object')"
      ]
     },
     "execution_count": 21,
     "metadata": {},
     "output_type": "execute_result"
    }
   ],
   "source": [
    "train_set.isnull().any()[train_set.isnull().any()].index"
   ]
  },
  {
   "cell_type": "code",
   "execution_count": 23,
   "metadata": {},
   "outputs": [
    {
     "data": {
      "text/plain": [
       "pandas.core.frame.DataFrame"
      ]
     },
     "execution_count": 23,
     "metadata": {},
     "output_type": "execute_result"
    }
   ],
   "source": [
    "type(train_set[['Qualification', 'Degree', 'YearsOfStudy', 'EducationalInstitute']])"
   ]
  },
  {
   "cell_type": "code",
   "execution_count": 24,
   "metadata": {},
   "outputs": [
    {
     "data": {
      "text/plain": [
       "Emp #                    object\n",
       "Designation              object\n",
       "Experience              float64\n",
       "Salary                    int64\n",
       "AggrBehavScore          float64\n",
       "ActivityScore             int64\n",
       "LinesOfCode               int64\n",
       "Qualification            object\n",
       "Degree                   object\n",
       "YearsOfStudy            float64\n",
       "EducationalInstitute     object\n",
       "Gender                   object\n",
       "Empl_Band                object\n",
       "dtype: object"
      ]
     },
     "execution_count": 24,
     "metadata": {},
     "output_type": "execute_result"
    }
   ],
   "source": [
    "train_set.dtypes"
   ]
  },
  {
   "cell_type": "code",
   "execution_count": 13,
   "metadata": {},
   "outputs": [
    {
     "data": {
      "text/plain": [
       "Qualification            object\n",
       "Degree                   object\n",
       "YearsOfStudy            float64\n",
       "EducationalInstitute     object\n",
       "dtype: object"
      ]
     },
     "execution_count": 13,
     "metadata": {},
     "output_type": "execute_result"
    }
   ],
   "source": [
    "train_set[ train_set.isnull().any()[train_set.isnull().any()].index ].dtypes"
   ]
  },
  {
   "cell_type": "code",
   "execution_count": 25,
   "metadata": {},
   "outputs": [
    {
     "data": {
      "text/plain": [
       "<matplotlib.axes._subplots.AxesSubplot at 0x1a7b6b3b188>"
      ]
     },
     "execution_count": 25,
     "metadata": {},
     "output_type": "execute_result"
    },
    {
     "data": {
      "image/png": "[encoded data removed]",
      "text/plain": [
       "<Figure size 432x288 with 1 Axes>"
      ]
     },
     "metadata": {
      "needs_background": "light"
     },
     "output_type": "display_data"
    }
   ],
   "source": [
    "train_set['YearsOfStudy'].hist()"
   ]
  },
  {
   "cell_type": "code",
   "execution_count": 26,
   "metadata": {},
   "outputs": [
    {
     "data": {
      "text/plain": [
       "array([16.])"
      ]
     },
     "execution_count": 26,
     "metadata": {},
     "output_type": "execute_result"
    }
   ],
   "source": [
    "train_set['YearsOfStudy'].mode().values"
   ]
  },
  {
   "cell_type": "code",
   "execution_count": 27,
   "metadata": {},
   "outputs": [
    {
     "name": "stdout",
     "output_type": "stream",
     "text": [
      "16.0\n"
     ]
    }
   ],
   "source": [
    "YearsOfStudy_impute_value = train_set['YearsOfStudy'].mode().values[0]\n",
    "print(YearsOfStudy_impute_value)\n",
    "train_set['YearsOfStudy'].fillna(YearsOfStudy_impute_value, inplace=True)"
   ]
  },
  {
   "cell_type": "code",
   "execution_count": 28,
   "metadata": {},
   "outputs": [
    {
     "data": {
      "text/plain": [
       "False"
      ]
     },
     "execution_count": 28,
     "metadata": {},
     "output_type": "execute_result"
    }
   ],
   "source": [
    "train_set['YearsOfStudy'].isnull().any()"
   ]
  },
  {
   "cell_type": "code",
   "execution_count": 29,
   "metadata": {},
   "outputs": [
    {
     "data": {
      "text/plain": [
       "16.0    602\n",
       "18.0    202\n",
       "15.0    154\n",
       "17.0     93\n",
       "21.0     62\n",
       "19.0     26\n",
       "35.0     18\n",
       "29.0     14\n",
       "23.0     13\n",
       "22.0     13\n",
       "27.0     12\n",
       "Name: YearsOfStudy, dtype: int64"
      ]
     },
     "execution_count": 29,
     "metadata": {},
     "output_type": "execute_result"
    }
   ],
   "source": [
    "train_set['YearsOfStudy'].value_counts()"
   ]
  },
  {
   "cell_type": "code",
   "execution_count": 30,
   "metadata": {},
   "outputs": [
    {
     "data": {
      "text/plain": [
       "Grad        569\n",
       "PostGrad    299\n",
       "postdoc      27\n",
       "Phd          13\n",
       "Name: Qualification, dtype: int64"
      ]
     },
     "execution_count": 30,
     "metadata": {},
     "output_type": "execute_result"
    }
   ],
   "source": [
    "train_set['Qualification'].value_counts()"
   ]
  },
  {
   "cell_type": "code",
   "execution_count": 19,
   "metadata": {},
   "outputs": [
    {
     "data": {
      "text/plain": [
       "<matplotlib.axes._subplots.AxesSubplot at 0x2c2878a36c8>"
      ]
     },
     "execution_count": 19,
     "metadata": {},
     "output_type": "execute_result"
    },
    {
     "data": {
      "image/png": "[encoded data removed]",
      "text/plain": [
       "<Figure size 432x288 with 1 Axes>"
      ]
     },
     "metadata": {
      "needs_background": "light"
     },
     "output_type": "display_data"
    }
   ],
   "source": [
    "train_set['Qualification'].value_counts().plot(kind='bar')"
   ]
  },
  {
   "cell_type": "code",
   "execution_count": 31,
   "metadata": {},
   "outputs": [
    {
     "name": "stdout",
     "output_type": "stream",
     "text": [
      "Grad\n"
     ]
    }
   ],
   "source": [
    "Qualification_impute_value = train_set['Qualification'].mode().values[0]\n",
    "print(Qualification_impute_value)\n",
    "train_set['Qualification'].fillna(Qualification_impute_value, inplace=True)"
   ]
  },
  {
   "cell_type": "code",
   "execution_count": 32,
   "metadata": {},
   "outputs": [],
   "source": [
    "Degree_impute_value = train_set['Degree'].mode().values[0]\n",
    "train_set['Degree'].fillna(Degree_impute_value, inplace=True)"
   ]
  },
  {
   "cell_type": "code",
   "execution_count": 33,
   "metadata": {},
   "outputs": [],
   "source": [
    "EducationalInstitute_impute_value = train_set['EducationalInstitute'].mode().values[0]\n",
    "train_set['EducationalInstitute'].fillna(EducationalInstitute_impute_value, inplace=True)"
   ]
  },
  {
   "cell_type": "code",
   "execution_count": 34,
   "metadata": {},
   "outputs": [
    {
     "data": {
      "text/plain": [
       "Emp #                   False\n",
       "Designation             False\n",
       "Experience              False\n",
       "Salary                  False\n",
       "AggrBehavScore          False\n",
       "ActivityScore           False\n",
       "LinesOfCode             False\n",
       "Qualification           False\n",
       "Degree                  False\n",
       "YearsOfStudy            False\n",
       "EducationalInstitute    False\n",
       "Gender                  False\n",
       "Empl_Band               False\n",
       "dtype: bool"
      ]
     },
     "execution_count": 34,
     "metadata": {},
     "output_type": "execute_result"
    }
   ],
   "source": [
    "train_set.isnull().any()"
   ]
  },
  {
   "cell_type": "markdown",
   "metadata": {},
   "source": [
    "#### Convert all categorical features to numbers"
   ]
  },
  {
   "cell_type": "code",
   "execution_count": 24,
   "metadata": {},
   "outputs": [
    {
     "data": {
      "text/html": [
       "<div>\n",
       "<style scoped>\n",
       "    .dataframe tbody tr th:only-of-type {\n",
       "        vertical-align: middle;\n",
       "    }\n",
       "\n",
       "    .dataframe tbody tr th {\n",
       "        vertical-align: top;\n",
       "    }\n",
       "\n",
       "    .dataframe thead th {\n",
       "        text-align: right;\n",
       "    }\n",
       "</style>\n",
       "<table border=\"1\" class=\"dataframe\">\n",
       "  <thead>\n",
       "    <tr style=\"text-align: right;\">\n",
       "      <th></th>\n",
       "      <th>Emp #</th>\n",
       "      <th>Designation</th>\n",
       "      <th>Qualification</th>\n",
       "      <th>Degree</th>\n",
       "      <th>EducationalInstitute</th>\n",
       "      <th>Gender</th>\n",
       "      <th>Empl_Band</th>\n",
       "    </tr>\n",
       "  </thead>\n",
       "  <tbody>\n",
       "    <tr>\n",
       "      <td>1296</td>\n",
       "      <td>e37</td>\n",
       "      <td>Sr.Analyst</td>\n",
       "      <td>PostGrad</td>\n",
       "      <td>Mtech</td>\n",
       "      <td>unv</td>\n",
       "      <td>F</td>\n",
       "      <td>A</td>\n",
       "    </tr>\n",
       "    <tr>\n",
       "      <td>902</td>\n",
       "      <td>e63</td>\n",
       "      <td>Sr.Dev</td>\n",
       "      <td>PostGrad</td>\n",
       "      <td>Msc</td>\n",
       "      <td>cunv</td>\n",
       "      <td>F</td>\n",
       "      <td>B</td>\n",
       "    </tr>\n",
       "    <tr>\n",
       "      <td>1354</td>\n",
       "      <td>e11</td>\n",
       "      <td>Sr.Analyst</td>\n",
       "      <td>Phd</td>\n",
       "      <td>Btech</td>\n",
       "      <td>unv</td>\n",
       "      <td>M</td>\n",
       "      <td>A</td>\n",
       "    </tr>\n",
       "    <tr>\n",
       "      <td>1485</td>\n",
       "      <td>e58</td>\n",
       "      <td>Sr.Dev</td>\n",
       "      <td>Grad</td>\n",
       "      <td>Btech</td>\n",
       "      <td>unv</td>\n",
       "      <td>F</td>\n",
       "      <td>B</td>\n",
       "    </tr>\n",
       "    <tr>\n",
       "      <td>385</td>\n",
       "      <td>e50</td>\n",
       "      <td>Jr.Dev</td>\n",
       "      <td>PostGrad</td>\n",
       "      <td>Mtech</td>\n",
       "      <td>iit</td>\n",
       "      <td>M</td>\n",
       "      <td>C</td>\n",
       "    </tr>\n",
       "  </tbody>\n",
       "</table>\n",
       "</div>"
      ],
      "text/plain": [
       "     Emp # Designation Qualification Degree EducationalInstitute Gender  \\\n",
       "1296   e37  Sr.Analyst      PostGrad  Mtech                  unv      F   \n",
       "902    e63      Sr.Dev      PostGrad    Msc                 cunv      F   \n",
       "1354   e11  Sr.Analyst           Phd  Btech                  unv      M   \n",
       "1485   e58      Sr.Dev          Grad  Btech                  unv      F   \n",
       "385    e50      Jr.Dev      PostGrad  Mtech                  iit      M   \n",
       "\n",
       "     Empl_Band  \n",
       "1296         A  \n",
       "902          B  \n",
       "1354         A  \n",
       "1485         B  \n",
       "385          C  "
      ]
     },
     "execution_count": 24,
     "metadata": {},
     "output_type": "execute_result"
    }
   ],
   "source": [
    "train_set.select_dtypes(['object']).head()"
   ]
  },
  {
   "cell_type": "code",
   "execution_count": 52,
   "metadata": {},
   "outputs": [],
   "source": [
    "train_set.drop('Emp #', axis=1, inplace=True)"
   ]
  },
  {
   "cell_type": "markdown",
   "metadata": {},
   "source": [
    "* **Label Encoding**"
   ]
  },
  {
   "cell_type": "code",
   "execution_count": 35,
   "metadata": {},
   "outputs": [
    {
     "data": {
      "text/plain": [
       "Index(['Emp #', 'Designation', 'Qualification', 'Degree',\n",
       "       'EducationalInstitute', 'Gender', 'Empl_Band'],\n",
       "      dtype='object')"
      ]
     },
     "execution_count": 35,
     "metadata": {},
     "output_type": "execute_result"
    }
   ],
   "source": [
    "train_set.select_dtypes(['object']).columns"
   ]
  },
  {
   "cell_type": "markdown",
   "metadata": {},
   "source": [
    "* What is Label Encoding ?"
   ]
  },
  {
   "cell_type": "code",
   "execution_count": 36,
   "metadata": {},
   "outputs": [],
   "source": [
    "train_set['Designation_copy'] = train_set['Designation'].copy()"
   ]
  },
  {
   "cell_type": "code",
   "execution_count": 37,
   "metadata": {},
   "outputs": [],
   "source": [
    "train_set['Designation_copy'] = pd.Categorical(train_set['Designation_copy'], categories=['Director', 'Jr.Dev', 'Sr.Dev', \n",
    "                                                                                    'Manager', 'Sr.Analyst', 'Sr.Manager',\n",
    "                                                                                   'Analyst'])"
   ]
  },
  {
   "cell_type": "code",
   "execution_count": 38,
   "metadata": {},
   "outputs": [
    {
     "data": {
      "text/plain": [
       "Index(['Director', 'Jr.Dev', 'Sr.Dev', 'Manager', 'Sr.Analyst', 'Sr.Manager',\n",
       "       'Analyst'],\n",
       "      dtype='object')"
      ]
     },
     "execution_count": 38,
     "metadata": {},
     "output_type": "execute_result"
    }
   ],
   "source": [
    "train_set['Designation_copy'].cat.categories"
   ]
  },
  {
   "cell_type": "code",
   "execution_count": 39,
   "metadata": {},
   "outputs": [],
   "source": [
    "#[(category, code) for code, category in enumerate(train_set['Designation'].cat.categories)]"
   ]
  },
  {
   "cell_type": "code",
   "execution_count": 40,
   "metadata": {},
   "outputs": [
    {
     "name": "stdout",
     "output_type": "stream",
     "text": [
      "Category:  Director  -- Code:  0\n",
      "Category:  Jr.Dev  -- Code:  1\n",
      "Category:  Sr.Dev  -- Code:  2\n",
      "Category:  Manager  -- Code:  3\n",
      "Category:  Sr.Analyst  -- Code:  4\n",
      "Category:  Sr.Manager  -- Code:  5\n",
      "Category:  Analyst  -- Code:  6\n"
     ]
    }
   ],
   "source": [
    "for code, category in enumerate(train_set['Designation_copy'].cat.categories):\n",
    "    print(\"Category: \", category , \" -- Code: \", code)"
   ]
  },
  {
   "cell_type": "code",
   "execution_count": 41,
   "metadata": {},
   "outputs": [
    {
     "data": {
      "text/plain": [
       "1296    4\n",
       "902     2\n",
       "1354    4\n",
       "1485    2\n",
       "385     1\n",
       "       ..\n",
       "1225    1\n",
       "658     2\n",
       "578     2\n",
       "391     2\n",
       "1044    4\n",
       "Length: 1209, dtype: int8"
      ]
     },
     "execution_count": 41,
     "metadata": {},
     "output_type": "execute_result"
    }
   ],
   "source": [
    "train_set['Designation_copy'].cat.codes"
   ]
  },
  {
   "cell_type": "code",
   "execution_count": 43,
   "metadata": {},
   "outputs": [],
   "source": [
    "train_set['Designation_copy'] = train_set['Designation_copy'].cat.codes"
   ]
  },
  {
   "cell_type": "code",
   "execution_count": 44,
   "metadata": {},
   "outputs": [
    {
     "data": {
      "text/plain": [
       "2    498\n",
       "1    256\n",
       "4    190\n",
       "3     86\n",
       "6     83\n",
       "0     58\n",
       "5     38\n",
       "Name: Designation_copy, dtype: int64"
      ]
     },
     "execution_count": 44,
     "metadata": {},
     "output_type": "execute_result"
    }
   ],
   "source": [
    "train_set['Designation_copy'].value_counts()"
   ]
  },
  {
   "cell_type": "code",
   "execution_count": 45,
   "metadata": {},
   "outputs": [],
   "source": [
    "train_set.drop('Designation_copy', axis=1, inplace=True)"
   ]
  },
  {
   "cell_type": "code",
   "execution_count": 46,
   "metadata": {},
   "outputs": [],
   "source": [
    "cat_list_dict = {'Designation': ['Sr.Dev', 'Analyst', 'Sr.Analyst', 'Manager', 'Jr.Dev', 'Director', 'Sr.Manager'],\n",
    "                'Qualification': ['Grad', 'PostGrad', 'Phd', 'postdoc'],\n",
    "                'Degree': ['Btech', 'Bsc', 'Msc', 'Mba', 'IntMsc', 'B.A', 'Mtech'],\n",
    "                'EducationalInstitute' : ['unv', 'iit', 'clg', 'cunv'],\n",
    "                'Gender': ['M', 'F'],\n",
    "                'Empl_Band': ['B', 'C', 'A']}"
   ]
  },
  {
   "cell_type": "code",
   "execution_count": 47,
   "metadata": {},
   "outputs": [],
   "source": [
    "def convertCategorisToCodes(columns, df):\n",
    "    for column in columns:\n",
    "        df[column] = pd.Categorical(df[column], categories = cat_list_dict[column])\n",
    "        df[column] = df[column].cat.codes"
   ]
  },
  {
   "cell_type": "code",
   "execution_count": 50,
   "metadata": {},
   "outputs": [
    {
     "data": {
      "text/plain": [
       "array(['Emp #', 'Designation', 'Qualification', 'Degree',\n",
       "       'EducationalInstitute', 'Gender', 'Empl_Band'], dtype=object)"
      ]
     },
     "execution_count": 50,
     "metadata": {},
     "output_type": "execute_result"
    }
   ],
   "source": [
    "train_set.select_dtypes(['object']).columns.values"
   ]
  },
  {
   "cell_type": "code",
   "execution_count": 53,
   "metadata": {},
   "outputs": [],
   "source": [
    "convertCategorisToCodes(train_set.select_dtypes(['object']).columns.values, train_set)"
   ]
  },
  {
   "cell_type": "code",
   "execution_count": 54,
   "metadata": {},
   "outputs": [
    {
     "data": {
      "text/plain": [
       "Designation                int8\n",
       "Experience              float64\n",
       "Salary                    int64\n",
       "AggrBehavScore          float64\n",
       "ActivityScore             int64\n",
       "LinesOfCode               int64\n",
       "Qualification              int8\n",
       "Degree                     int8\n",
       "YearsOfStudy            float64\n",
       "EducationalInstitute       int8\n",
       "Gender                     int8\n",
       "Empl_Band                  int8\n",
       "dtype: object"
      ]
     },
     "execution_count": 54,
     "metadata": {},
     "output_type": "execute_result"
    }
   ],
   "source": [
    "train_set.dtypes"
   ]
  },
  {
   "cell_type": "markdown",
   "metadata": {},
   "source": [
    "#### Let's understand pair-wise relationship between \"Salary\" and other input variables"
   ]
  },
  {
   "cell_type": "code",
   "execution_count": 55,
   "metadata": {},
   "outputs": [
    {
     "data": {
      "image/png": "[encoded data removed]",
      "text/plain": [
       "<Figure size 864x648 with 2 Axes>"
      ]
     },
     "metadata": {
      "needs_background": "light"
     },
     "output_type": "display_data"
    }
   ],
   "source": [
    "plt.rcParams['xtick.major.pad']=20\n",
    "\n",
    "fig, ax = plt.subplots(figsize=(12,9)) \n",
    "heatmap = sns.heatmap(train_set.corr(), cmap='RdYlGn_r', fmt='.3f', annot=True,  \n",
    "                      clip_on=False, xticklabels=True, vmin=-1, vmax=1, linewidth=0.5, square=True)\n",
    "heatmap = plt.yticks(rotation=0)"
   ]
  },
  {
   "cell_type": "markdown",
   "metadata": {},
   "source": [
    "#### Let's build a Multiple Linear Regressin model"
   ]
  },
  {
   "cell_type": "code",
   "execution_count": 56,
   "metadata": {},
   "outputs": [
    {
     "data": {
      "text/plain": [
       "['Designation',\n",
       " 'Experience',\n",
       " 'AggrBehavScore',\n",
       " 'ActivityScore',\n",
       " 'LinesOfCode',\n",
       " 'Qualification',\n",
       " 'Degree',\n",
       " 'YearsOfStudy',\n",
       " 'EducationalInstitute',\n",
       " 'Gender',\n",
       " 'Empl_Band']"
      ]
     },
     "execution_count": 56,
     "metadata": {},
     "output_type": "execute_result"
    }
   ],
   "source": [
    "[x for x in train_set.columns if x not in ['Salary']]"
   ]
  },
  {
   "cell_type": "code",
   "execution_count": 58,
   "metadata": {},
   "outputs": [],
   "source": [
    "train_X = train_set.loc[:,[x for x in train_set.columns if x not in ['Salary']]]\n",
    "train_y = train_set['Salary']"
   ]
  },
  {
   "cell_type": "code",
   "execution_count": 59,
   "metadata": {},
   "outputs": [
    {
     "data": {
      "text/plain": [
       "LinearRegression(copy_X=True, fit_intercept=True, n_jobs=None, normalize=False)"
      ]
     },
     "execution_count": 59,
     "metadata": {},
     "output_type": "execute_result"
    }
   ],
   "source": [
    "lr_model = LinearRegression()\n",
    "lr_model.fit(train_X, train_y)"
   ]
  },
  {
   "cell_type": "code",
   "execution_count": 60,
   "metadata": {},
   "outputs": [],
   "source": [
    "train_prediction = lr_model.predict(train_X)"
   ]
  },
  {
   "cell_type": "code",
   "execution_count": 61,
   "metadata": {},
   "outputs": [],
   "source": [
    "from sklearn.metrics import r2_score\n",
    "from sklearn.metrics import mean_squared_error"
   ]
  },
  {
   "cell_type": "code",
   "execution_count": 62,
   "metadata": {},
   "outputs": [
    {
     "name": "stdout",
     "output_type": "stream",
     "text": [
      "Train R2 Score :  0.6284028962672604\n",
      "Train Root Mean Squared Error :  11775.573518588393\n"
     ]
    }
   ],
   "source": [
    "train_r2_score = r2_score(train_y, train_prediction)\n",
    "train_mse = mean_squared_error(train_y, train_prediction)\n",
    "\n",
    "print(\"Train R2 Score : \", train_r2_score)\n",
    "#print(\"Train Mean Squared Error : \", train_mse)\n",
    "print(\"Train Root Mean Squared Error : \", np.sqrt(train_mse))"
   ]
  },
  {
   "cell_type": "markdown",
   "metadata": {},
   "source": [
    "#### Let's test the model on TEST set"
   ]
  },
  {
   "cell_type": "code",
   "execution_count": 63,
   "metadata": {},
   "outputs": [],
   "source": [
    "test_set.loc[test_set[test_set['LinesOfCode'] < 0].index.values, 'LinesOfCode'] = 0\n",
    "test_set.drop('Emp #', axis=1, inplace=True)\n",
    "test_set['YearsOfStudy'].fillna(YearsOfStudy_impute_value, inplace=True)\n",
    "test_set['Qualification'].fillna(Qualification_impute_value, inplace=True)\n",
    "test_set['Degree'].fillna(Degree_impute_value, inplace=True)\n",
    "test_set['EducationalInstitute'].fillna(EducationalInstitute_impute_value, inplace=True)\n",
    "convertCategorisToCodes(test_set.select_dtypes(['object']).columns.values, test_set)"
   ]
  },
  {
   "cell_type": "code",
   "execution_count": 64,
   "metadata": {},
   "outputs": [],
   "source": [
    "test_X = test_set.loc[:,['Designation', 'Experience', 'AggrBehavScore', 'ActivityScore', 'LinesOfCode', 'Qualification',\n",
    " 'Degree', 'YearsOfStudy', 'EducationalInstitute', 'Gender', 'Empl_Band']]\n",
    "test_y = test_set['Salary']"
   ]
  },
  {
   "cell_type": "code",
   "execution_count": 65,
   "metadata": {},
   "outputs": [],
   "source": [
    "test_prediction = lr_model.predict(test_X)"
   ]
  },
  {
   "cell_type": "code",
   "execution_count": 66,
   "metadata": {},
   "outputs": [
    {
     "name": "stdout",
     "output_type": "stream",
     "text": [
      "TEST R2 Score :  0.6601301396583457\n",
      "TEST Root Mean Squared Error :  11557.281074591092\n"
     ]
    }
   ],
   "source": [
    "test_r2_score = r2_score(test_y, test_prediction)\n",
    "test_mse = mean_squared_error(test_y, test_prediction)\n",
    "\n",
    "print(\"TEST R2 Score : \", test_r2_score)\n",
    "#print(\"TESt Mean Squared Error : \", test_mse)\n",
    "print(\"TEST Root Mean Squared Error : \", np.sqrt(test_mse))"
   ]
  },
  {
   "cell_type": "markdown",
   "metadata": {},
   "source": [
    "* Learning curve to understand where the problem exists - Data or Algorithm"
   ]
  },
  {
   "cell_type": "code",
   "execution_count": 50,
   "metadata": {},
   "outputs": [],
   "source": [
    "def plot_learning_curves():\n",
    "    train_errors, test_errors = [], []\n",
    "    for m in range(1, len(train_X)):\n",
    "        lr_model.fit(train_X[:m], train_y[:m])\n",
    "        train_prediction = lr_model.predict(train_X[:m])\n",
    "        test_prediction = lr_model.predict(test_X)\n",
    "        train_errors.append(np.sqrt(mean_squared_error(train_prediction, train_y[:m])))\n",
    "        test_errors.append(np.sqrt(mean_squared_error(test_prediction, test_y)))\n",
    "\n",
    "    plt.plot(np.sqrt(train_errors), \"r-+\", linewidth=2, label=\"train\")\n",
    "    plt.plot(np.sqrt(test_errors), \"b-\", linewidth=3, label=\"val\")\n",
    "    plt.legend(loc=\"upper right\", fontsize=14)   \n",
    "    plt.xlabel(\"Training set size\", fontsize=14) \n",
    "    plt.ylabel(\"RMSE\", fontsize=14)"
   ]
  },
  {
   "cell_type": "code",
   "execution_count": 51,
   "metadata": {},
   "outputs": [
    {
     "data": {
      "image/png": "[encoded data removed]",
      "text/plain": [
       "<Figure size 432x288 with 1 Axes>"
      ]
     },
     "metadata": {
      "needs_background": "light"
     },
     "output_type": "display_data"
    }
   ],
   "source": [
    "plot_learning_curves()"
   ]
  },
  {
   "cell_type": "markdown",
   "metadata": {},
   "source": [
    "#### Regression Analysis - Analyze model results and understand relation between ALL-INPUT and OUTPUT variable.\n",
    "  * We need to plot Residuals vs Fitted Graph to understand relation between ALL-INPUT and OUTPUT (Salary) variables."
   ]
  },
  {
   "cell_type": "code",
   "execution_count": 52,
   "metadata": {},
   "outputs": [],
   "source": [
    "residuals = train_y - train_prediction"
   ]
  },
  {
   "cell_type": "code",
   "execution_count": 53,
   "metadata": {},
   "outputs": [],
   "source": [
    "def standard_scale(val):\n",
    "    mean_vals = np.mean(val)\n",
    "    std_vals = np.std(val)\n",
    "    z_vals = [(x - mean_vals)/std_vals for x in val]\n",
    "    return z_vals"
   ]
  },
  {
   "cell_type": "code",
   "execution_count": 54,
   "metadata": {
    "scrolled": true
   },
   "outputs": [
    {
     "data": {
      "text/plain": [
       "Text(0, 0.5, 'STD Residual values')"
      ]
     },
     "execution_count": 54,
     "metadata": {},
     "output_type": "execute_result"
    },
    {
     "data": {
      "image/png": "[encoded data removed]",
      "text/plain": [
       "<Figure size 432x288 with 1 Axes>"
      ]
     },
     "metadata": {
      "needs_background": "light"
     },
     "output_type": "display_data"
    }
   ],
   "source": [
    "std_residuals = standard_scale(residuals)\n",
    "std_predicted = standard_scale(train_prediction)\n",
    "\n",
    "plt.scatter(std_predicted, std_residuals, alpha = 0.6, color='y')\n",
    "l = plt.axhline(y=0, color='r')\n",
    "plt.xlabel('STD Fitted values')\n",
    "plt.ylabel('STD Residual values')"
   ]
  },
  {
   "cell_type": "markdown",
   "metadata": {},
   "source": []
  }
 ],
 "metadata": {
  "kernelspec": {
   "display_name": "Python 3",
   "language": "python",
   "name": "python3"
  },
  "language_info": {
   "codemirror_mode": {
    "name": "ipython",
    "version": 3
   },
   "file_extension": ".py",
   "mimetype": "text/x-python",
   "name": "python",
   "nbconvert_exporter": "python",
   "pygments_lexer": "ipython3",
   "version": "3.7.4"
  }
 },
 "nbformat": 4,
 "nbformat_minor": 2
}
